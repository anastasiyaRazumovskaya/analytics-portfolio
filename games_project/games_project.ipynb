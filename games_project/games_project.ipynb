{
 "cells": [
  {
   "cell_type": "markdown",
   "metadata": {},
   "source": [
    "---\n",
    "\n",
    "**<font color=\"green\">Комментарий тимлида</font>**\n",
    "\n",
    "Привет, это Женя! Спасибо тебе за работу!\n",
    "\n",
    "По ходу тетрадки ты найдешь комментарии к проекту, они будут в отдельных ячейках Markdown с заголовком «Комментарий тимлида». Постарайся учесть эти комментарии для дальнейших проектов.\n",
    "\n",
    "Пожалуйста, не удаляй комментарии.\n",
    "\n",
    "---\n",
    "\n",
    "Я буду красить комментарии цветом:\n",
    "\n",
    "<div class=\"alert alert-block alert-danger\">\n",
    "    \n",
    "\n",
    "### Комментарий от тимлида\n",
    "\n",
    "Такой комментарий нужно исправить обязательно, он критически влияет на удачное выполнение проекта.\n",
    "</div>\n",
    "    \n",
    "---\n",
    "\n",
    "<div class=\"alert alert-block alert-warning\">\n",
    "    \n",
    "\n",
    "### Комментарий от тимлида\n",
    "\n",
    "\n",
    "Такой комментарий является рекомендацией или советом. Можешь использовать их на своё усмотрение.\n",
    "</div>\n",
    "\n",
    "---\n",
    "\n",
    "<div class=\"alert alert-block alert-success\">\n",
    "    \n",
    "\n",
    "### Комментарий от тимлида\n",
    "\n",
    "Такой комментарий  говорит о том, что было сделано что-то качественное и правильное =)\n",
    "</div>\n",
    "\n",
    "---"
   ]
  },
  {
   "cell_type": "markdown",
   "metadata": {},
   "source": [
    "### Исследование поведения пользователей с целью выявления закономерностей для построения модели монетизации игрового приложения"
   ]
  },
  {
   "cell_type": "markdown",
   "metadata": {},
   "source": [
    "### Материалы\n",
    "1. https://yadi.sk/i/NVb5CIVKbzuyxQ - ссылка на презентацию\n",
    "2. https://public.tableau.com/views/games_dash_russian/Dashboard1?:language=en&:display_count=y&:origin=viz_share_link - дашборд (набор 1)"
   ]
  },
  {
   "cell_type": "markdown",
   "metadata": {},
   "source": [
    "\n",
    "<div class=\"alert alert-block alert-warning\">\n",
    "    \n",
    "\n",
    "### Комментарий от тимлида\n",
    "\n",
    "Спасибо за презентацию) Она довольно минималистична по оформлению, но в то же время мне кажется немного перегружена  по объему. Я бы сделала содержание покороче. Круто, что ты предложила 2 модели монетизации и даже сравнила их прибыльность! Только вот последнюю таблицу я если честно не очень поняла) Откуда получилась разница доходов с расходами, что значит суммарный доход? В итоге предлагается обе модели использовать? В общем много вопросов появилось из-за формата подачи)\n",
    "    \n",
    "Отдельное спасибо за дашборд - круто, что ты его сделала! В нем есть описание и это очень важно. Единственное, что я бы исправила (помимо опечаток ;) это фильтры. Я бы лучше сделала их на русском языке - это сократило бы описание. Плюс лучше всего придерживаться единого языка) Также я не увидела индикатор количества пользователей ;)\n",
    "    \n",
    "В остальном очень хорошо получилось! Жду доработок\n",
    "</div>"
   ]
  },
  {
   "cell_type": "markdown",
   "metadata": {},
   "source": [
    "<font color = 'purple'>Женя, привет! Спасибо за комментарии. Все, что могла, исправила. Никак не могу вывести на дашборде индикатор количества пользователей, чтобы он выглядел как фильр чтоли...отдельно. Просто беда. Подскажи, пожалуйста, как это сделать."
   ]
  },
  {
   "cell_type": "markdown",
   "metadata": {},
   "source": [
    "<div class=\"alert alert-block alert-success\">\n",
    "    \n",
    "\n",
    "### Комментарий от тимлида v2\n",
    "\n",
    "по дашборду можно, например, сделать таблицу из 1 ячейки ;) Посчитать число уникальных пользователей\n",
    "    \n",
    "Презентация уже намного лучше читается. От лица всех близоруких - спасибо! Если захочешь ее доработать - я бы все же постаралась выводы по слайда уместить на тот же слайд, где график, чтобы можно было читать выоды и смотреть, на чем они основаны) \n",
    "    \n",
    "В любом случае, все вышеперечисленные  моменты не влияют на принятие мной работы) Поэтому поздравляю тебя с завершением курса. Отдыхай! А я вернусь с обратнойц связью в течение нескольких дней. Если будут вопросы по презе/дашборду, можешь написать мне в слаке\n",
    "</div>"
   ]
  },
  {
   "cell_type": "markdown",
   "metadata": {},
   "source": [
    "<b>Цель исследования:</b> сформировать модель монетизации игрового приложения.<br>\n",
    "\n",
    "Имеются следующие данные:\n",
    "1. game_actions.csv - датасет с совершенными пользователями событиями:\n",
    "    * event_datetime — время события\n",
    "    * event — одно из трёх событий:\n",
    "        - `building` — объект построен\n",
    "        - `finished_stage_1` — первый уровень завершён\n",
    "        - `project` — проект завершён\n",
    "    * building_type — один из трёх типов здания:\n",
    "        - `assembly_shop` — сборочный цех\n",
    "        - `spaceport` — космопорт\n",
    "        - `research_center` — исследовательский центр\n",
    "    * user_id — идентификатор пользователя\n",
    "    * project_type — тип реализованного проекта\n",
    "    _______________\n",
    "2. ad_cost.csv - данные о маркетинговых затратах на привлечение пользователей:\n",
    "    * day - день, в который был совершен клик по объявлению\n",
    "    * source - источник трафика\n",
    "    * cost - стоимость кликов\n",
    "    ________________\n",
    "3. user_source.csv - информацияя об источниках, благодаря которым пришли наши пользователи:\n",
    "    * user_id - идентификатор пользователя\n",
    "    * source - источник, с которого пришёл пользователь, установивший приложение"
   ]
  },
  {
   "cell_type": "markdown",
   "metadata": {},
   "source": [
    "### Часть 1. Предобработка данных\n",
    "1. [Импорт библиотек](#Section1.1)\n",
    "2. [Чтение и изучение данных на предмет пропусков, дубликатов. Изменение типов данных](#Section1.2)\n",
    "___________________\n",
    "\n",
    "### Часть 2. Исследовательский анализ данных\n",
    "1. [Разработка профиля пользователей со следующими данными:](#Section2.1)\n",
    "    * `user_id` - идентификатор пользователя\n",
    "    * `first_event`, `last_event` - дата совершения первого и последнего событий\n",
    "    * `building_amount` - количество построек\n",
    "    * `difference` - длительность прохождения уровня, либо время, прошедшее с первого до последнего события(в случае непрохождения уровня)\n",
    "    * `complited` - индикатор того, прошел пользователь уровень, либо нет c тремя возможными значениями:\n",
    "        - project\n",
    "        - without project\n",
    "        - level is not complited\n",
    "    * `source` - из какого источника пришел пользователь\n",
    "    * `costs` - сколько потратили на его привлечение\n",
    "2. [Изучить разницу времени, затраченного на прохождение уровня для пользователей разных групп по признаку  `complited`](#Section2.2)\n",
    "3. [Изучить разницу по количеству построек для пользователей разных групп по признаку  `complited`. Исходя из среднего значения количества построек у тех, кто не завершил уровень, установить порог, начиная с которого можно считать пользователя вовлеченным в игровой процесс.](#Section2.3)\n",
    "4. [Изучить разницу между количеством действий в день, совершаемых пользователями разных групп.](#Section2.4)\n",
    "5. [Из тех, кто не завершил уровень попытаться выделить тех, кто не успел его пройти за промежуток времени, за который присутствуют данные и тех, кто покинул игру окончательно. Приблизительно оценить, сколько пользователей потеряно.](#Section2.5)\n",
    "___________________\n",
    "### Часть 3. Статистический анализ\n",
    "1. [Проверка гипотез 1:](#Section3.1)\n",
    "      * HO - время прохождения уровня у пользователей, которые заканчивают уровень через реализацию проекта, не отличается от времени  пользователей, которые заканчивают уровень победой над другим игроком.\n",
    "      * Н1 - время прохождения уровня различается у пользователей разных групп\n",
    "2. [Проверка гипотез 2:](#Section3.2)\n",
    "    * Н0 - количество построек у пользователей обеих групп не различается\n",
    "    * Н1 - количество построек различно\n",
    "    \n",
    "_____________________________________\n",
    "\n",
    "\n",
    "### Часть 4. Создание модели монетизации\n",
    "1. [Посчитать общие маркетинговые затраты](#Section4.1)\n",
    "2. В случае рекламы в виде баннера, посчитать минимальный cpm(цена за 1000 просмотров) для того, чтобы покрыть маркетинговые затраты. Сравнить его со средним cpm по отрасли. \n",
    "   * [Сценарий 1](#Section4.2.1) : Счиать, что баннер мы можем показывать, начиная с первого захода игрока на страницу с постройками, т.к. он не отвлекают от игорового процесса и является наименее раздражающим)))\n",
    "   * [Сценарий 2](#Section4.2.2): Считать , что баннер мы начинаем показывать с момента достижения пользователем порога вовлеченности\n",
    "3. Расчитать варианты показа видеорекламы при выходе из игры:\n",
    "    * [Сценарий 1](#Section4.3.1) : Считать, что рекламу показываем, начиная с первого выхода из игры\n",
    "    * [Сценарий 2](#Section4.3.2): Считать , что рекламу показываем с момента достижения пользователем порога вовлеченности\n",
    "4. [Рассмотреть возможность введения rewarded_video для пользователей, у которых низкая частота совершения событий после консультации для более детального понимания игрового процесса))](#Section4.4)\n",
    "\n",
    "_______________________\n",
    "### [Общий вывод и рекомендации](#Section5)"
   ]
  },
  {
   "cell_type": "markdown",
   "metadata": {},
   "source": [
    "\n",
    "<div class=\"alert alert-block alert-success\">\n",
    "    \n",
    "\n",
    "### Комментарий от тимлида\n",
    "\n",
    "Очень подробное содержание с ссылками 👍\n",
    "</div>"
   ]
  },
  {
   "cell_type": "markdown",
   "metadata": {},
   "source": [
    "### Часть 1. Предобработка данных"
   ]
  },
  {
   "cell_type": "markdown",
   "metadata": {},
   "source": [
    "<a id = 'Section1.1'></a>\n",
    "###### Импорт библиотек."
   ]
  },
  {
   "cell_type": "code",
   "execution_count": 1,
   "metadata": {},
   "outputs": [
    {
     "name": "stdout",
     "output_type": "stream",
     "text": [
      "Defaulting to user installation because normal site-packages is not writeable\n",
      "Requirement already satisfied: pycbrf in /home/jovyan/.local/lib/python3.7/site-packages (1.0.1)\n",
      "Requirement already satisfied: dbf-light>=0.3.0 in /home/jovyan/.local/lib/python3.7/site-packages (from pycbrf) (1.0.0)\n",
      "Requirement already satisfied: requests in /opt/conda/lib/python3.7/site-packages (from pycbrf) (2.22.0)\n",
      "Requirement already satisfied: certifi>=2017.4.17 in /opt/conda/lib/python3.7/site-packages (from requests->pycbrf) (2020.6.20)\n",
      "Requirement already satisfied: urllib3!=1.25.0,!=1.25.1,<1.26,>=1.21.1 in /opt/conda/lib/python3.7/site-packages (from requests->pycbrf) (1.25.9)\n",
      "Requirement already satisfied: idna<2.9,>=2.5 in /opt/conda/lib/python3.7/site-packages (from requests->pycbrf) (2.8)\n",
      "Requirement already satisfied: chardet<3.1.0,>=3.0.2 in /opt/conda/lib/python3.7/site-packages (from requests->pycbrf) (3.0.4)\n"
     ]
    }
   ],
   "source": [
    "import pandas as pd\n",
    "import numpy as np\n",
    "import seaborn as sns\n",
    "import matplotlib.pyplot as plt\n",
    "from scipy import stats as st\n",
    "!pip install pycbrf\n",
    "from pycbrf.toolbox import ExchangeRates\n",
    "import datetime\n",
    "from io import BytesIO\n",
    "import requests"
   ]
  },
  {
   "cell_type": "markdown",
   "metadata": {},
   "source": [
    "<a id = 'Section1.2'></a>\n",
    "##### Чтение и изучение данных на предмет пропусков, дубликатов. Изменение типов данных."
   ]
  },
  {
   "cell_type": "markdown",
   "metadata": {},
   "source": [
    "<b>Функция для описания датасета:"
   ]
  },
  {
   "cell_type": "code",
   "execution_count": 2,
   "metadata": {},
   "outputs": [],
   "source": [
    "def read_csv(id):\n",
    "    spreadsheet_id = id\n",
    "    file_name = 'https://docs.google.com/spreadsheets/d/{}/export?format=csv'.format(spreadsheet_id)\n",
    "    r = requests.get(file_name)\n",
    "    data = pd.read_csv(BytesIO(r.content))\n",
    "    print('Первые строки таблицы')\n",
    "    display(data.head(5))\n",
    "    print('Последние строки таблицы')\n",
    "    display(data.tail(5))\n",
    "    print('Информация о таблице')\n",
    "    display(data.info(5))\n",
    "    print('Проверка на дубликаты:')\n",
    "    display(data.duplicated().sum())\n",
    "    return data"
   ]
  },
  {
   "cell_type": "markdown",
   "metadata": {},
   "source": [
    "\n",
    "<div class=\"alert alert-block alert-success\">\n",
    "    \n",
    "\n",
    "### Комментарий от тимлида\n",
    "\n",
    "Классное решение!\n",
    "</div>"
   ]
  },
  {
   "cell_type": "markdown",
   "metadata": {},
   "source": [
    "<b>Дататсет 'game_actions'"
   ]
  },
  {
   "cell_type": "code",
   "execution_count": 3,
   "metadata": {},
   "outputs": [
    {
     "name": "stdout",
     "output_type": "stream",
     "text": [
      "Первые строки таблицы\n"
     ]
    },
    {
     "data": {
      "text/html": [
       "<div>\n",
       "<style scoped>\n",
       "    .dataframe tbody tr th:only-of-type {\n",
       "        vertical-align: middle;\n",
       "    }\n",
       "\n",
       "    .dataframe tbody tr th {\n",
       "        vertical-align: top;\n",
       "    }\n",
       "\n",
       "    .dataframe thead th {\n",
       "        text-align: right;\n",
       "    }\n",
       "</style>\n",
       "<table border=\"1\" class=\"dataframe\">\n",
       "  <thead>\n",
       "    <tr style=\"text-align: right;\">\n",
       "      <th></th>\n",
       "      <th>event_datetime</th>\n",
       "      <th>event</th>\n",
       "      <th>building_type</th>\n",
       "      <th>user_id</th>\n",
       "      <th>project_type</th>\n",
       "    </tr>\n",
       "  </thead>\n",
       "  <tbody>\n",
       "    <tr>\n",
       "      <td>0</td>\n",
       "      <td>2020-05-04 0:00:01</td>\n",
       "      <td>building</td>\n",
       "      <td>assembly_shop</td>\n",
       "      <td>55e92310-cb8e-4754-b622-597e124b03de</td>\n",
       "      <td>NaN</td>\n",
       "    </tr>\n",
       "    <tr>\n",
       "      <td>1</td>\n",
       "      <td>2020-05-04 0:00:03</td>\n",
       "      <td>building</td>\n",
       "      <td>assembly_shop</td>\n",
       "      <td>c07b1c10-f477-44dc-81dc-ec82254b1347</td>\n",
       "      <td>NaN</td>\n",
       "    </tr>\n",
       "    <tr>\n",
       "      <td>2</td>\n",
       "      <td>2020-05-04 0:00:16</td>\n",
       "      <td>building</td>\n",
       "      <td>assembly_shop</td>\n",
       "      <td>6edd42cc-e753-4ff6-a947-2107cd560710</td>\n",
       "      <td>NaN</td>\n",
       "    </tr>\n",
       "    <tr>\n",
       "      <td>3</td>\n",
       "      <td>2020-05-04 0:00:16</td>\n",
       "      <td>building</td>\n",
       "      <td>assembly_shop</td>\n",
       "      <td>92c69003-d60a-444a-827f-8cc51bf6bf4c</td>\n",
       "      <td>NaN</td>\n",
       "    </tr>\n",
       "    <tr>\n",
       "      <td>4</td>\n",
       "      <td>2020-05-04 0:00:35</td>\n",
       "      <td>building</td>\n",
       "      <td>assembly_shop</td>\n",
       "      <td>cdc6bb92-0ccb-4490-9866-ef142f09139d</td>\n",
       "      <td>NaN</td>\n",
       "    </tr>\n",
       "  </tbody>\n",
       "</table>\n",
       "</div>"
      ],
      "text/plain": [
       "       event_datetime     event  building_type  \\\n",
       "0  2020-05-04 0:00:01  building  assembly_shop   \n",
       "1  2020-05-04 0:00:03  building  assembly_shop   \n",
       "2  2020-05-04 0:00:16  building  assembly_shop   \n",
       "3  2020-05-04 0:00:16  building  assembly_shop   \n",
       "4  2020-05-04 0:00:35  building  assembly_shop   \n",
       "\n",
       "                                user_id project_type  \n",
       "0  55e92310-cb8e-4754-b622-597e124b03de          NaN  \n",
       "1  c07b1c10-f477-44dc-81dc-ec82254b1347          NaN  \n",
       "2  6edd42cc-e753-4ff6-a947-2107cd560710          NaN  \n",
       "3  92c69003-d60a-444a-827f-8cc51bf6bf4c          NaN  \n",
       "4  cdc6bb92-0ccb-4490-9866-ef142f09139d          NaN  "
      ]
     },
     "metadata": {},
     "output_type": "display_data"
    },
    {
     "name": "stdout",
     "output_type": "stream",
     "text": [
      "Последние строки таблицы\n"
     ]
    },
    {
     "data": {
      "text/html": [
       "<div>\n",
       "<style scoped>\n",
       "    .dataframe tbody tr th:only-of-type {\n",
       "        vertical-align: middle;\n",
       "    }\n",
       "\n",
       "    .dataframe tbody tr th {\n",
       "        vertical-align: top;\n",
       "    }\n",
       "\n",
       "    .dataframe thead th {\n",
       "        text-align: right;\n",
       "    }\n",
       "</style>\n",
       "<table border=\"1\" class=\"dataframe\">\n",
       "  <thead>\n",
       "    <tr style=\"text-align: right;\">\n",
       "      <th></th>\n",
       "      <th>event_datetime</th>\n",
       "      <th>event</th>\n",
       "      <th>building_type</th>\n",
       "      <th>user_id</th>\n",
       "      <th>project_type</th>\n",
       "    </tr>\n",
       "  </thead>\n",
       "  <tbody>\n",
       "    <tr>\n",
       "      <td>135635</td>\n",
       "      <td>2020-06-05 0:08:06</td>\n",
       "      <td>building</td>\n",
       "      <td>research_center</td>\n",
       "      <td>f21d179f-1c4b-437e-b9c6-ab1976907195</td>\n",
       "      <td>NaN</td>\n",
       "    </tr>\n",
       "    <tr>\n",
       "      <td>135636</td>\n",
       "      <td>2020-06-05 2:25:12</td>\n",
       "      <td>finished_stage_1</td>\n",
       "      <td>NaN</td>\n",
       "      <td>515c1952-99aa-4bca-a7ea-d0449eb5385a</td>\n",
       "      <td>NaN</td>\n",
       "    </tr>\n",
       "    <tr>\n",
       "      <td>135637</td>\n",
       "      <td>2020-06-05 8:57:52</td>\n",
       "      <td>building</td>\n",
       "      <td>research_center</td>\n",
       "      <td>ed3e7d02-8a96-4be7-9998-e9813ff9c316</td>\n",
       "      <td>NaN</td>\n",
       "    </tr>\n",
       "    <tr>\n",
       "      <td>135638</td>\n",
       "      <td>2020-06-05 12:12:27</td>\n",
       "      <td>finished_stage_1</td>\n",
       "      <td>NaN</td>\n",
       "      <td>32572adb-900f-4b5d-a453-1eb1e6d88d8b</td>\n",
       "      <td>NaN</td>\n",
       "    </tr>\n",
       "    <tr>\n",
       "      <td>135639</td>\n",
       "      <td>2020-06-05 12:32:49</td>\n",
       "      <td>finished_stage_1</td>\n",
       "      <td>NaN</td>\n",
       "      <td>f21d179f-1c4b-437e-b9c6-ab1976907195</td>\n",
       "      <td>NaN</td>\n",
       "    </tr>\n",
       "  </tbody>\n",
       "</table>\n",
       "</div>"
      ],
      "text/plain": [
       "             event_datetime             event    building_type  \\\n",
       "135635   2020-06-05 0:08:06          building  research_center   \n",
       "135636   2020-06-05 2:25:12  finished_stage_1              NaN   \n",
       "135637   2020-06-05 8:57:52          building  research_center   \n",
       "135638  2020-06-05 12:12:27  finished_stage_1              NaN   \n",
       "135639  2020-06-05 12:32:49  finished_stage_1              NaN   \n",
       "\n",
       "                                     user_id project_type  \n",
       "135635  f21d179f-1c4b-437e-b9c6-ab1976907195          NaN  \n",
       "135636  515c1952-99aa-4bca-a7ea-d0449eb5385a          NaN  \n",
       "135637  ed3e7d02-8a96-4be7-9998-e9813ff9c316          NaN  \n",
       "135638  32572adb-900f-4b5d-a453-1eb1e6d88d8b          NaN  \n",
       "135639  f21d179f-1c4b-437e-b9c6-ab1976907195          NaN  "
      ]
     },
     "metadata": {},
     "output_type": "display_data"
    },
    {
     "name": "stdout",
     "output_type": "stream",
     "text": [
      "Информация о таблице\n",
      "<class 'pandas.core.frame.DataFrame'>\n",
      "RangeIndex: 135640 entries, 0 to 135639\n",
      "Data columns (total 5 columns):\n",
      "event_datetime    135640 non-null object\n",
      "event             135640 non-null object\n",
      "building_type     127957 non-null object\n",
      "user_id           135640 non-null object\n",
      "project_type      1866 non-null object\n",
      "dtypes: object(5)\n",
      "memory usage: 5.2+ MB\n"
     ]
    },
    {
     "data": {
      "text/plain": [
       "None"
      ]
     },
     "metadata": {},
     "output_type": "display_data"
    },
    {
     "name": "stdout",
     "output_type": "stream",
     "text": [
      "Проверка на дубликаты:\n"
     ]
    },
    {
     "data": {
      "text/plain": [
       "1"
      ]
     },
     "metadata": {},
     "output_type": "display_data"
    }
   ],
   "source": [
    "game_actions = read_csv('19KN3gqW90_LGgOkOm_GEYgdpHN7mdfqugOxX6BX8R0g')"
   ]
  },
  {
   "cell_type": "markdown",
   "metadata": {},
   "source": [
    "<b>Смотрим на характер пропусков:"
   ]
  },
  {
   "cell_type": "code",
   "execution_count": 4,
   "metadata": {},
   "outputs": [
    {
     "name": "stdout",
     "output_type": "stream",
     "text": [
      "<class 'pandas.core.frame.DataFrame'>\n",
      "Int64Index: 1866 entries, 47121 to 135630\n",
      "Data columns (total 5 columns):\n",
      "event_datetime    1866 non-null object\n",
      "event             1866 non-null object\n",
      "building_type     0 non-null object\n",
      "user_id           1866 non-null object\n",
      "project_type      1866 non-null object\n",
      "dtypes: object(5)\n",
      "memory usage: 87.5+ KB\n"
     ]
    }
   ],
   "source": [
    "game_actions.query('event == \"project\"').info()"
   ]
  },
  {
   "cell_type": "code",
   "execution_count": 5,
   "metadata": {},
   "outputs": [
    {
     "name": "stdout",
     "output_type": "stream",
     "text": [
      "<class 'pandas.core.frame.DataFrame'>\n",
      "Int64Index: 127957 entries, 0 to 135637\n",
      "Data columns (total 5 columns):\n",
      "event_datetime    127957 non-null object\n",
      "event             127957 non-null object\n",
      "building_type     127957 non-null object\n",
      "user_id           127957 non-null object\n",
      "project_type      0 non-null object\n",
      "dtypes: object(5)\n",
      "memory usage: 5.9+ MB\n"
     ]
    }
   ],
   "source": [
    "game_actions.query('event == \"building\"').info()"
   ]
  },
  {
   "cell_type": "markdown",
   "metadata": {},
   "source": [
    "<font color = 'purple'>Видно, что значения в project_type имеются в случае event == \"project\". <br>\n",
    "То же касается столбца building_type. Он заполнен в случае 'event == \"building\"\n"
   ]
  },
  {
   "cell_type": "markdown",
   "metadata": {},
   "source": [
    "\n",
    "<div class=\"alert alert-block alert-success\">\n",
    "    \n",
    "\n",
    "### Комментарий от тимлида\n",
    "\n",
    "Звучит как вполне объяснимые пропуски)\n",
    "</div>"
   ]
  },
  {
   "cell_type": "markdown",
   "metadata": {},
   "source": [
    "<b>Меняем тип данных и удаляем дубликат:"
   ]
  },
  {
   "cell_type": "code",
   "execution_count": 6,
   "metadata": {},
   "outputs": [
    {
     "name": "stdout",
     "output_type": "stream",
     "text": [
      "<class 'pandas.core.frame.DataFrame'>\n",
      "Int64Index: 135639 entries, 0 to 135639\n",
      "Data columns (total 5 columns):\n",
      "event_datetime    135639 non-null datetime64[ns]\n",
      "event             135639 non-null object\n",
      "building_type     127956 non-null object\n",
      "user_id           135639 non-null object\n",
      "project_type      1866 non-null object\n",
      "dtypes: datetime64[ns](1), object(4)\n",
      "memory usage: 6.2+ MB\n"
     ]
    }
   ],
   "source": [
    "game_actions = game_actions.drop_duplicates()\n",
    "game_actions['event_datetime'] = pd.to_datetime(game_actions['event_datetime'])\n",
    "game_actions.info()"
   ]
  },
  {
   "cell_type": "markdown",
   "metadata": {},
   "source": [
    "<b>Вывод:</b><br>\n",
    "Датасет `game_actions` имеет 5 столбцов, все - типа object,  и 135640 строк. Имеются пропуски в солбцах building_type  и building_type. Также имеется 1 дублированная строка.<br>\n",
    "Тип данных был изменен в столбце event_datetime на datetime64[ns]. Дубликат удален, пропуски оставлены без изменений, т.к. связаны не с недостатком данных, а с характером событий."
   ]
  },
  {
   "cell_type": "markdown",
   "metadata": {},
   "source": [
    "\n",
    "<div class=\"alert alert-block alert-success\">\n",
    "    \n",
    "\n",
    "### Комментарий от тимлида\n",
    "\n",
    "Все верно) Даже добавить нечего\n",
    "</div>"
   ]
  },
  {
   "cell_type": "markdown",
   "metadata": {},
   "source": [
    "<b>Дататсет 'ad_costs'"
   ]
  },
  {
   "cell_type": "code",
   "execution_count": 7,
   "metadata": {},
   "outputs": [
    {
     "name": "stdout",
     "output_type": "stream",
     "text": [
      "Первые строки таблицы\n"
     ]
    },
    {
     "data": {
      "text/html": [
       "<div>\n",
       "<style scoped>\n",
       "    .dataframe tbody tr th:only-of-type {\n",
       "        vertical-align: middle;\n",
       "    }\n",
       "\n",
       "    .dataframe tbody tr th {\n",
       "        vertical-align: top;\n",
       "    }\n",
       "\n",
       "    .dataframe thead th {\n",
       "        text-align: right;\n",
       "    }\n",
       "</style>\n",
       "<table border=\"1\" class=\"dataframe\">\n",
       "  <thead>\n",
       "    <tr style=\"text-align: right;\">\n",
       "      <th></th>\n",
       "      <th>source</th>\n",
       "      <th>day</th>\n",
       "      <th>cost</th>\n",
       "    </tr>\n",
       "  </thead>\n",
       "  <tbody>\n",
       "    <tr>\n",
       "      <td>0</td>\n",
       "      <td>facebook_ads</td>\n",
       "      <td>2020-05-03</td>\n",
       "      <td>935.882786</td>\n",
       "    </tr>\n",
       "    <tr>\n",
       "      <td>1</td>\n",
       "      <td>facebook_ads</td>\n",
       "      <td>2020-05-04</td>\n",
       "      <td>548.354480</td>\n",
       "    </tr>\n",
       "    <tr>\n",
       "      <td>2</td>\n",
       "      <td>facebook_ads</td>\n",
       "      <td>2020-05-05</td>\n",
       "      <td>260.185754</td>\n",
       "    </tr>\n",
       "    <tr>\n",
       "      <td>3</td>\n",
       "      <td>facebook_ads</td>\n",
       "      <td>2020-05-06</td>\n",
       "      <td>177.982200</td>\n",
       "    </tr>\n",
       "    <tr>\n",
       "      <td>4</td>\n",
       "      <td>facebook_ads</td>\n",
       "      <td>2020-05-07</td>\n",
       "      <td>111.766796</td>\n",
       "    </tr>\n",
       "  </tbody>\n",
       "</table>\n",
       "</div>"
      ],
      "text/plain": [
       "         source         day        cost\n",
       "0  facebook_ads  2020-05-03  935.882786\n",
       "1  facebook_ads  2020-05-04  548.354480\n",
       "2  facebook_ads  2020-05-05  260.185754\n",
       "3  facebook_ads  2020-05-06  177.982200\n",
       "4  facebook_ads  2020-05-07  111.766796"
      ]
     },
     "metadata": {},
     "output_type": "display_data"
    },
    {
     "name": "stdout",
     "output_type": "stream",
     "text": [
      "Последние строки таблицы\n"
     ]
    },
    {
     "data": {
      "text/html": [
       "<div>\n",
       "<style scoped>\n",
       "    .dataframe tbody tr th:only-of-type {\n",
       "        vertical-align: middle;\n",
       "    }\n",
       "\n",
       "    .dataframe tbody tr th {\n",
       "        vertical-align: top;\n",
       "    }\n",
       "\n",
       "    .dataframe thead th {\n",
       "        text-align: right;\n",
       "    }\n",
       "</style>\n",
       "<table border=\"1\" class=\"dataframe\">\n",
       "  <thead>\n",
       "    <tr style=\"text-align: right;\">\n",
       "      <th></th>\n",
       "      <th>source</th>\n",
       "      <th>day</th>\n",
       "      <th>cost</th>\n",
       "    </tr>\n",
       "  </thead>\n",
       "  <tbody>\n",
       "    <tr>\n",
       "      <td>23</td>\n",
       "      <td>youtube_channel_reklama</td>\n",
       "      <td>2020-05-05</td>\n",
       "      <td>147.041741</td>\n",
       "    </tr>\n",
       "    <tr>\n",
       "      <td>24</td>\n",
       "      <td>youtube_channel_reklama</td>\n",
       "      <td>2020-05-06</td>\n",
       "      <td>88.506074</td>\n",
       "    </tr>\n",
       "    <tr>\n",
       "      <td>25</td>\n",
       "      <td>youtube_channel_reklama</td>\n",
       "      <td>2020-05-07</td>\n",
       "      <td>55.740645</td>\n",
       "    </tr>\n",
       "    <tr>\n",
       "      <td>26</td>\n",
       "      <td>youtube_channel_reklama</td>\n",
       "      <td>2020-05-08</td>\n",
       "      <td>40.217907</td>\n",
       "    </tr>\n",
       "    <tr>\n",
       "      <td>27</td>\n",
       "      <td>youtube_channel_reklama</td>\n",
       "      <td>2020-05-09</td>\n",
       "      <td>23.314669</td>\n",
       "    </tr>\n",
       "  </tbody>\n",
       "</table>\n",
       "</div>"
      ],
      "text/plain": [
       "                     source         day        cost\n",
       "23  youtube_channel_reklama  2020-05-05  147.041741\n",
       "24  youtube_channel_reklama  2020-05-06   88.506074\n",
       "25  youtube_channel_reklama  2020-05-07   55.740645\n",
       "26  youtube_channel_reklama  2020-05-08   40.217907\n",
       "27  youtube_channel_reklama  2020-05-09   23.314669"
      ]
     },
     "metadata": {},
     "output_type": "display_data"
    },
    {
     "name": "stdout",
     "output_type": "stream",
     "text": [
      "Информация о таблице\n",
      "<class 'pandas.core.frame.DataFrame'>\n",
      "RangeIndex: 28 entries, 0 to 27\n",
      "Data columns (total 3 columns):\n",
      "source    28 non-null object\n",
      "day       28 non-null object\n",
      "cost      28 non-null float64\n",
      "dtypes: float64(1), object(2)\n",
      "memory usage: 800.0+ bytes\n"
     ]
    },
    {
     "data": {
      "text/plain": [
       "None"
      ]
     },
     "metadata": {},
     "output_type": "display_data"
    },
    {
     "name": "stdout",
     "output_type": "stream",
     "text": [
      "Проверка на дубликаты:\n"
     ]
    },
    {
     "data": {
      "text/plain": [
       "0"
      ]
     },
     "metadata": {},
     "output_type": "display_data"
    }
   ],
   "source": [
    "ad_costs = read_csv('1Jb2BDrZQUBjqbVIi6TD3TMAwv9SKx8bjNvn_fAjHhvc')"
   ]
  },
  {
   "cell_type": "markdown",
   "metadata": {},
   "source": [
    "<b>Меняем тип данных:"
   ]
  },
  {
   "cell_type": "code",
   "execution_count": 8,
   "metadata": {},
   "outputs": [
    {
     "name": "stdout",
     "output_type": "stream",
     "text": [
      "<class 'pandas.core.frame.DataFrame'>\n",
      "RangeIndex: 28 entries, 0 to 27\n",
      "Data columns (total 3 columns):\n",
      "source    28 non-null object\n",
      "day       28 non-null datetime64[ns]\n",
      "cost      28 non-null float64\n",
      "dtypes: datetime64[ns](1), float64(1), object(1)\n",
      "memory usage: 800.0+ bytes\n"
     ]
    }
   ],
   "source": [
    "ad_costs['day'] = pd.to_datetime(ad_costs['day'])\n",
    "ad_costs.info()"
   ]
  },
  {
   "cell_type": "markdown",
   "metadata": {},
   "source": [
    "<b>Вывод:</b><br>\n",
    "Датасет `ad_costs` имеет 3 столбцa, 2 - типа object, 1 - float  и 28 строк. Пропусков, дубликатов нет.<br>\n",
    "Тип данных был изменен в столбце day на datetime64[ns]. "
   ]
  },
  {
   "cell_type": "markdown",
   "metadata": {},
   "source": [
    "<b>Дататсет 'user_source'"
   ]
  },
  {
   "cell_type": "code",
   "execution_count": 9,
   "metadata": {},
   "outputs": [
    {
     "name": "stdout",
     "output_type": "stream",
     "text": [
      "Первые строки таблицы\n"
     ]
    },
    {
     "data": {
      "text/html": [
       "<div>\n",
       "<style scoped>\n",
       "    .dataframe tbody tr th:only-of-type {\n",
       "        vertical-align: middle;\n",
       "    }\n",
       "\n",
       "    .dataframe tbody tr th {\n",
       "        vertical-align: top;\n",
       "    }\n",
       "\n",
       "    .dataframe thead th {\n",
       "        text-align: right;\n",
       "    }\n",
       "</style>\n",
       "<table border=\"1\" class=\"dataframe\">\n",
       "  <thead>\n",
       "    <tr style=\"text-align: right;\">\n",
       "      <th></th>\n",
       "      <th>user_id</th>\n",
       "      <th>source</th>\n",
       "    </tr>\n",
       "  </thead>\n",
       "  <tbody>\n",
       "    <tr>\n",
       "      <td>0</td>\n",
       "      <td>0001f83c-c6ac-4621-b7f0-8a28b283ac30</td>\n",
       "      <td>facebook_ads</td>\n",
       "    </tr>\n",
       "    <tr>\n",
       "      <td>1</td>\n",
       "      <td>00151b4f-ba38-44a8-a650-d7cf130a0105</td>\n",
       "      <td>yandex_direct</td>\n",
       "    </tr>\n",
       "    <tr>\n",
       "      <td>2</td>\n",
       "      <td>001aaea6-3d14-43f1-8ca8-7f48820f17aa</td>\n",
       "      <td>youtube_channel_reklama</td>\n",
       "    </tr>\n",
       "    <tr>\n",
       "      <td>3</td>\n",
       "      <td>001d39dc-366c-4021-9604-6a3b9ff01e25</td>\n",
       "      <td>instagram_new_adverts</td>\n",
       "    </tr>\n",
       "    <tr>\n",
       "      <td>4</td>\n",
       "      <td>002f508f-67b6-479f-814b-b05f00d4e995</td>\n",
       "      <td>facebook_ads</td>\n",
       "    </tr>\n",
       "  </tbody>\n",
       "</table>\n",
       "</div>"
      ],
      "text/plain": [
       "                                user_id                   source\n",
       "0  0001f83c-c6ac-4621-b7f0-8a28b283ac30             facebook_ads\n",
       "1  00151b4f-ba38-44a8-a650-d7cf130a0105            yandex_direct\n",
       "2  001aaea6-3d14-43f1-8ca8-7f48820f17aa  youtube_channel_reklama\n",
       "3  001d39dc-366c-4021-9604-6a3b9ff01e25    instagram_new_adverts\n",
       "4  002f508f-67b6-479f-814b-b05f00d4e995             facebook_ads"
      ]
     },
     "metadata": {},
     "output_type": "display_data"
    },
    {
     "name": "stdout",
     "output_type": "stream",
     "text": [
      "Последние строки таблицы\n"
     ]
    },
    {
     "data": {
      "text/html": [
       "<div>\n",
       "<style scoped>\n",
       "    .dataframe tbody tr th:only-of-type {\n",
       "        vertical-align: middle;\n",
       "    }\n",
       "\n",
       "    .dataframe tbody tr th {\n",
       "        vertical-align: top;\n",
       "    }\n",
       "\n",
       "    .dataframe thead th {\n",
       "        text-align: right;\n",
       "    }\n",
       "</style>\n",
       "<table border=\"1\" class=\"dataframe\">\n",
       "  <thead>\n",
       "    <tr style=\"text-align: right;\">\n",
       "      <th></th>\n",
       "      <th>user_id</th>\n",
       "      <th>source</th>\n",
       "    </tr>\n",
       "  </thead>\n",
       "  <tbody>\n",
       "    <tr>\n",
       "      <td>13571</td>\n",
       "      <td>ffef4fed-164c-40e1-bde1-3980f76d0fb5</td>\n",
       "      <td>instagram_new_adverts</td>\n",
       "    </tr>\n",
       "    <tr>\n",
       "      <td>13572</td>\n",
       "      <td>fffab3da-da0e-4e30-ae62-10d0a2e24a4e</td>\n",
       "      <td>facebook_ads</td>\n",
       "    </tr>\n",
       "    <tr>\n",
       "      <td>13573</td>\n",
       "      <td>fffb626c-5ab6-47c9-8113-2062a2f18494</td>\n",
       "      <td>yandex_direct</td>\n",
       "    </tr>\n",
       "    <tr>\n",
       "      <td>13574</td>\n",
       "      <td>ffff194a-56b7-4c12-860d-3485242ae7f5</td>\n",
       "      <td>instagram_new_adverts</td>\n",
       "    </tr>\n",
       "    <tr>\n",
       "      <td>13575</td>\n",
       "      <td>ffff69cc-fec1-4fd3-9f98-93be1112a6b8</td>\n",
       "      <td>facebook_ads</td>\n",
       "    </tr>\n",
       "  </tbody>\n",
       "</table>\n",
       "</div>"
      ],
      "text/plain": [
       "                                    user_id                 source\n",
       "13571  ffef4fed-164c-40e1-bde1-3980f76d0fb5  instagram_new_adverts\n",
       "13572  fffab3da-da0e-4e30-ae62-10d0a2e24a4e           facebook_ads\n",
       "13573  fffb626c-5ab6-47c9-8113-2062a2f18494          yandex_direct\n",
       "13574  ffff194a-56b7-4c12-860d-3485242ae7f5  instagram_new_adverts\n",
       "13575  ffff69cc-fec1-4fd3-9f98-93be1112a6b8           facebook_ads"
      ]
     },
     "metadata": {},
     "output_type": "display_data"
    },
    {
     "name": "stdout",
     "output_type": "stream",
     "text": [
      "Информация о таблице\n",
      "<class 'pandas.core.frame.DataFrame'>\n",
      "RangeIndex: 13576 entries, 0 to 13575\n",
      "Data columns (total 2 columns):\n",
      "user_id    13576 non-null object\n",
      "source     13576 non-null object\n",
      "dtypes: object(2)\n",
      "memory usage: 212.2+ KB\n"
     ]
    },
    {
     "data": {
      "text/plain": [
       "None"
      ]
     },
     "metadata": {},
     "output_type": "display_data"
    },
    {
     "name": "stdout",
     "output_type": "stream",
     "text": [
      "Проверка на дубликаты:\n"
     ]
    },
    {
     "data": {
      "text/plain": [
       "0"
      ]
     },
     "metadata": {},
     "output_type": "display_data"
    }
   ],
   "source": [
    "user_source = read_csv('1_LWFT0ATpdKJba-9YIOMW_KeIDQk3UX_NqSkJ82ai_M')"
   ]
  },
  {
   "cell_type": "markdown",
   "metadata": {},
   "source": [
    "<b>Вывод:</b><br>\n",
    "Датасет `user_source` имеет 2 столбцa, все - типа object,  и 13576 строк. Пропусков, дубликатов нет."
   ]
  },
  {
   "cell_type": "markdown",
   "metadata": {},
   "source": [
    "\n",
    "<div class=\"alert alert-block alert-success\">\n",
    "    \n",
    "\n",
    "### Комментарий от тимлида\n",
    "\n",
    "Данные готовы - можно приступать к анализу!\n",
    "</div>"
   ]
  },
  {
   "cell_type": "markdown",
   "metadata": {},
   "source": [
    "### Часть 2. Исследовательский анализ данных"
   ]
  },
  {
   "cell_type": "markdown",
   "metadata": {},
   "source": [
    "<a id = 'Section2.1'></a>\n",
    "##### Разработка профиля пользователей"
   ]
  },
  {
   "cell_type": "markdown",
   "metadata": {},
   "source": [
    "* `user_id` - идентификатор пользователя\n",
    "* `first_event`, `last_event` - дата совершения первого и последнего событий\n",
    "* `events_amount`\n",
    "* `buildings_amount` - количество построек\n",
    "* `difference` - длительность прохождения уровня, либо время, прошедшее с первого до последнего события(в случае непрохождения уровня)\n",
    "* `complited` - индикатор того, прошел пользователь уровень, либо нет c тремя возможными значениями:\n",
    "    - project\n",
    "    - without project\n",
    "    - level is not complited\n",
    "* `source` - из какого источника пришел пользователь\n",
    "* `costs` - сколько потратили на его привлечение"
   ]
  },
  {
   "cell_type": "code",
   "execution_count": 10,
   "metadata": {},
   "outputs": [
    {
     "data": {
      "text/html": [
       "<div>\n",
       "<style scoped>\n",
       "    .dataframe tbody tr th:only-of-type {\n",
       "        vertical-align: middle;\n",
       "    }\n",
       "\n",
       "    .dataframe tbody tr th {\n",
       "        vertical-align: top;\n",
       "    }\n",
       "\n",
       "    .dataframe thead th {\n",
       "        text-align: right;\n",
       "    }\n",
       "</style>\n",
       "<table border=\"1\" class=\"dataframe\">\n",
       "  <thead>\n",
       "    <tr style=\"text-align: right;\">\n",
       "      <th></th>\n",
       "      <th>buildings_amount</th>\n",
       "      <th>events_amount</th>\n",
       "      <th>first_event</th>\n",
       "      <th>last_event</th>\n",
       "      <th>difference_min</th>\n",
       "    </tr>\n",
       "    <tr>\n",
       "      <th>user_id</th>\n",
       "      <th></th>\n",
       "      <th></th>\n",
       "      <th></th>\n",
       "      <th></th>\n",
       "      <th></th>\n",
       "    </tr>\n",
       "  </thead>\n",
       "  <tbody>\n",
       "    <tr>\n",
       "      <td>0001f83c-c6ac-4621-b7f0-8a28b283ac30</td>\n",
       "      <td>13</td>\n",
       "      <td>13</td>\n",
       "      <td>2020-05-06 01:07:37</td>\n",
       "      <td>2020-05-20 11:26:06</td>\n",
       "      <td>20778.483333</td>\n",
       "    </tr>\n",
       "    <tr>\n",
       "      <td>00151b4f-ba38-44a8-a650-d7cf130a0105</td>\n",
       "      <td>9</td>\n",
       "      <td>9</td>\n",
       "      <td>2020-05-06 03:09:12</td>\n",
       "      <td>2020-05-18 10:46:52</td>\n",
       "      <td>17737.666667</td>\n",
       "    </tr>\n",
       "    <tr>\n",
       "      <td>001aaea6-3d14-43f1-8ca8-7f48820f17aa</td>\n",
       "      <td>4</td>\n",
       "      <td>4</td>\n",
       "      <td>2020-05-05 18:08:52</td>\n",
       "      <td>2020-05-14 09:21:27</td>\n",
       "      <td>12432.583333</td>\n",
       "    </tr>\n",
       "    <tr>\n",
       "      <td>001d39dc-366c-4021-9604-6a3b9ff01e25</td>\n",
       "      <td>8</td>\n",
       "      <td>9</td>\n",
       "      <td>2020-05-05 21:02:05</td>\n",
       "      <td>2020-05-12 07:40:47</td>\n",
       "      <td>9278.700000</td>\n",
       "    </tr>\n",
       "    <tr>\n",
       "      <td>002f508f-67b6-479f-814b-b05f00d4e995</td>\n",
       "      <td>12</td>\n",
       "      <td>12</td>\n",
       "      <td>2020-05-05 13:49:58</td>\n",
       "      <td>2020-05-22 02:46:45</td>\n",
       "      <td>23816.783333</td>\n",
       "    </tr>\n",
       "    <tr>\n",
       "      <td>...</td>\n",
       "      <td>...</td>\n",
       "      <td>...</td>\n",
       "      <td>...</td>\n",
       "      <td>...</td>\n",
       "      <td>...</td>\n",
       "    </tr>\n",
       "    <tr>\n",
       "      <td>ffef4fed-164c-40e1-bde1-3980f76d0fb5</td>\n",
       "      <td>9</td>\n",
       "      <td>10</td>\n",
       "      <td>2020-05-04 01:58:59</td>\n",
       "      <td>2020-05-11 22:15:54</td>\n",
       "      <td>11296.916667</td>\n",
       "    </tr>\n",
       "    <tr>\n",
       "      <td>fffab3da-da0e-4e30-ae62-10d0a2e24a4e</td>\n",
       "      <td>16</td>\n",
       "      <td>16</td>\n",
       "      <td>2020-05-04 11:58:14</td>\n",
       "      <td>2020-05-14 10:11:36</td>\n",
       "      <td>14293.366667</td>\n",
       "    </tr>\n",
       "    <tr>\n",
       "      <td>fffb626c-5ab6-47c9-8113-2062a2f18494</td>\n",
       "      <td>9</td>\n",
       "      <td>10</td>\n",
       "      <td>2020-05-04 02:05:09</td>\n",
       "      <td>2020-05-12 13:01:52</td>\n",
       "      <td>12176.716667</td>\n",
       "    </tr>\n",
       "    <tr>\n",
       "      <td>ffff194a-56b7-4c12-860d-3485242ae7f5</td>\n",
       "      <td>7</td>\n",
       "      <td>7</td>\n",
       "      <td>2020-05-04 20:28:28</td>\n",
       "      <td>2020-05-11 22:04:30</td>\n",
       "      <td>10176.033333</td>\n",
       "    </tr>\n",
       "    <tr>\n",
       "      <td>ffff69cc-fec1-4fd3-9f98-93be1112a6b8</td>\n",
       "      <td>12</td>\n",
       "      <td>14</td>\n",
       "      <td>2020-05-08 06:57:30</td>\n",
       "      <td>2020-05-25 14:05:51</td>\n",
       "      <td>24908.350000</td>\n",
       "    </tr>\n",
       "  </tbody>\n",
       "</table>\n",
       "<p>13576 rows × 5 columns</p>\n",
       "</div>"
      ],
      "text/plain": [
       "                                      buildings_amount  events_amount  \\\n",
       "user_id                                                                 \n",
       "0001f83c-c6ac-4621-b7f0-8a28b283ac30                13             13   \n",
       "00151b4f-ba38-44a8-a650-d7cf130a0105                 9              9   \n",
       "001aaea6-3d14-43f1-8ca8-7f48820f17aa                 4              4   \n",
       "001d39dc-366c-4021-9604-6a3b9ff01e25                 8              9   \n",
       "002f508f-67b6-479f-814b-b05f00d4e995                12             12   \n",
       "...                                                ...            ...   \n",
       "ffef4fed-164c-40e1-bde1-3980f76d0fb5                 9             10   \n",
       "fffab3da-da0e-4e30-ae62-10d0a2e24a4e                16             16   \n",
       "fffb626c-5ab6-47c9-8113-2062a2f18494                 9             10   \n",
       "ffff194a-56b7-4c12-860d-3485242ae7f5                 7              7   \n",
       "ffff69cc-fec1-4fd3-9f98-93be1112a6b8                12             14   \n",
       "\n",
       "                                             first_event          last_event  \\\n",
       "user_id                                                                        \n",
       "0001f83c-c6ac-4621-b7f0-8a28b283ac30 2020-05-06 01:07:37 2020-05-20 11:26:06   \n",
       "00151b4f-ba38-44a8-a650-d7cf130a0105 2020-05-06 03:09:12 2020-05-18 10:46:52   \n",
       "001aaea6-3d14-43f1-8ca8-7f48820f17aa 2020-05-05 18:08:52 2020-05-14 09:21:27   \n",
       "001d39dc-366c-4021-9604-6a3b9ff01e25 2020-05-05 21:02:05 2020-05-12 07:40:47   \n",
       "002f508f-67b6-479f-814b-b05f00d4e995 2020-05-05 13:49:58 2020-05-22 02:46:45   \n",
       "...                                                  ...                 ...   \n",
       "ffef4fed-164c-40e1-bde1-3980f76d0fb5 2020-05-04 01:58:59 2020-05-11 22:15:54   \n",
       "fffab3da-da0e-4e30-ae62-10d0a2e24a4e 2020-05-04 11:58:14 2020-05-14 10:11:36   \n",
       "fffb626c-5ab6-47c9-8113-2062a2f18494 2020-05-04 02:05:09 2020-05-12 13:01:52   \n",
       "ffff194a-56b7-4c12-860d-3485242ae7f5 2020-05-04 20:28:28 2020-05-11 22:04:30   \n",
       "ffff69cc-fec1-4fd3-9f98-93be1112a6b8 2020-05-08 06:57:30 2020-05-25 14:05:51   \n",
       "\n",
       "                                      difference_min  \n",
       "user_id                                               \n",
       "0001f83c-c6ac-4621-b7f0-8a28b283ac30    20778.483333  \n",
       "00151b4f-ba38-44a8-a650-d7cf130a0105    17737.666667  \n",
       "001aaea6-3d14-43f1-8ca8-7f48820f17aa    12432.583333  \n",
       "001d39dc-366c-4021-9604-6a3b9ff01e25     9278.700000  \n",
       "002f508f-67b6-479f-814b-b05f00d4e995    23816.783333  \n",
       "...                                              ...  \n",
       "ffef4fed-164c-40e1-bde1-3980f76d0fb5    11296.916667  \n",
       "fffab3da-da0e-4e30-ae62-10d0a2e24a4e    14293.366667  \n",
       "fffb626c-5ab6-47c9-8113-2062a2f18494    12176.716667  \n",
       "ffff194a-56b7-4c12-860d-3485242ae7f5    10176.033333  \n",
       "ffff69cc-fec1-4fd3-9f98-93be1112a6b8    24908.350000  \n",
       "\n",
       "[13576 rows x 5 columns]"
      ]
     },
     "execution_count": 10,
     "metadata": {},
     "output_type": "execute_result"
    }
   ],
   "source": [
    "profile = (\n",
    "    game_actions.groupby('user_id')\n",
    "    .agg({'building_type':'count',\n",
    "           'event':'count',\n",
    "           'event_datetime': ['first','last']})\n",
    ")\n",
    "profile.columns = ['buildings_amount','events_amount','first_event','last_event']\n",
    "profile['difference_min'] = ((profile['last_event'] - profile['first_event'])/np.timedelta64(1, 's'))/60\n",
    "profile"
   ]
  },
  {
   "cell_type": "markdown",
   "metadata": {},
   "source": [
    "<b>Разница между количеством событий и количеством построек"
   ]
  },
  {
   "cell_type": "code",
   "execution_count": 11,
   "metadata": {},
   "outputs": [
    {
     "data": {
      "text/html": [
       "<div>\n",
       "<style scoped>\n",
       "    .dataframe tbody tr th:only-of-type {\n",
       "        vertical-align: middle;\n",
       "    }\n",
       "\n",
       "    .dataframe tbody tr th {\n",
       "        vertical-align: top;\n",
       "    }\n",
       "\n",
       "    .dataframe thead th {\n",
       "        text-align: right;\n",
       "    }\n",
       "</style>\n",
       "<table border=\"1\" class=\"dataframe\">\n",
       "  <thead>\n",
       "    <tr style=\"text-align: right;\">\n",
       "      <th></th>\n",
       "      <th>buildings_amount</th>\n",
       "      <th>events_amount</th>\n",
       "      <th>first_event</th>\n",
       "      <th>last_event</th>\n",
       "      <th>difference_min</th>\n",
       "      <th>events_buildings_difference</th>\n",
       "    </tr>\n",
       "    <tr>\n",
       "      <th>user_id</th>\n",
       "      <th></th>\n",
       "      <th></th>\n",
       "      <th></th>\n",
       "      <th></th>\n",
       "      <th></th>\n",
       "      <th></th>\n",
       "    </tr>\n",
       "  </thead>\n",
       "  <tbody>\n",
       "    <tr>\n",
       "      <td>0001f83c-c6ac-4621-b7f0-8a28b283ac30</td>\n",
       "      <td>13</td>\n",
       "      <td>13</td>\n",
       "      <td>2020-05-06 01:07:37</td>\n",
       "      <td>2020-05-20 11:26:06</td>\n",
       "      <td>20778.483333</td>\n",
       "      <td>0</td>\n",
       "    </tr>\n",
       "    <tr>\n",
       "      <td>00151b4f-ba38-44a8-a650-d7cf130a0105</td>\n",
       "      <td>9</td>\n",
       "      <td>9</td>\n",
       "      <td>2020-05-06 03:09:12</td>\n",
       "      <td>2020-05-18 10:46:52</td>\n",
       "      <td>17737.666667</td>\n",
       "      <td>0</td>\n",
       "    </tr>\n",
       "    <tr>\n",
       "      <td>001aaea6-3d14-43f1-8ca8-7f48820f17aa</td>\n",
       "      <td>4</td>\n",
       "      <td>4</td>\n",
       "      <td>2020-05-05 18:08:52</td>\n",
       "      <td>2020-05-14 09:21:27</td>\n",
       "      <td>12432.583333</td>\n",
       "      <td>0</td>\n",
       "    </tr>\n",
       "    <tr>\n",
       "      <td>001d39dc-366c-4021-9604-6a3b9ff01e25</td>\n",
       "      <td>8</td>\n",
       "      <td>9</td>\n",
       "      <td>2020-05-05 21:02:05</td>\n",
       "      <td>2020-05-12 07:40:47</td>\n",
       "      <td>9278.700000</td>\n",
       "      <td>1</td>\n",
       "    </tr>\n",
       "    <tr>\n",
       "      <td>002f508f-67b6-479f-814b-b05f00d4e995</td>\n",
       "      <td>12</td>\n",
       "      <td>12</td>\n",
       "      <td>2020-05-05 13:49:58</td>\n",
       "      <td>2020-05-22 02:46:45</td>\n",
       "      <td>23816.783333</td>\n",
       "      <td>0</td>\n",
       "    </tr>\n",
       "    <tr>\n",
       "      <td>...</td>\n",
       "      <td>...</td>\n",
       "      <td>...</td>\n",
       "      <td>...</td>\n",
       "      <td>...</td>\n",
       "      <td>...</td>\n",
       "      <td>...</td>\n",
       "    </tr>\n",
       "    <tr>\n",
       "      <td>ffef4fed-164c-40e1-bde1-3980f76d0fb5</td>\n",
       "      <td>9</td>\n",
       "      <td>10</td>\n",
       "      <td>2020-05-04 01:58:59</td>\n",
       "      <td>2020-05-11 22:15:54</td>\n",
       "      <td>11296.916667</td>\n",
       "      <td>1</td>\n",
       "    </tr>\n",
       "    <tr>\n",
       "      <td>fffab3da-da0e-4e30-ae62-10d0a2e24a4e</td>\n",
       "      <td>16</td>\n",
       "      <td>16</td>\n",
       "      <td>2020-05-04 11:58:14</td>\n",
       "      <td>2020-05-14 10:11:36</td>\n",
       "      <td>14293.366667</td>\n",
       "      <td>0</td>\n",
       "    </tr>\n",
       "    <tr>\n",
       "      <td>fffb626c-5ab6-47c9-8113-2062a2f18494</td>\n",
       "      <td>9</td>\n",
       "      <td>10</td>\n",
       "      <td>2020-05-04 02:05:09</td>\n",
       "      <td>2020-05-12 13:01:52</td>\n",
       "      <td>12176.716667</td>\n",
       "      <td>1</td>\n",
       "    </tr>\n",
       "    <tr>\n",
       "      <td>ffff194a-56b7-4c12-860d-3485242ae7f5</td>\n",
       "      <td>7</td>\n",
       "      <td>7</td>\n",
       "      <td>2020-05-04 20:28:28</td>\n",
       "      <td>2020-05-11 22:04:30</td>\n",
       "      <td>10176.033333</td>\n",
       "      <td>0</td>\n",
       "    </tr>\n",
       "    <tr>\n",
       "      <td>ffff69cc-fec1-4fd3-9f98-93be1112a6b8</td>\n",
       "      <td>12</td>\n",
       "      <td>14</td>\n",
       "      <td>2020-05-08 06:57:30</td>\n",
       "      <td>2020-05-25 14:05:51</td>\n",
       "      <td>24908.350000</td>\n",
       "      <td>2</td>\n",
       "    </tr>\n",
       "  </tbody>\n",
       "</table>\n",
       "<p>13576 rows × 6 columns</p>\n",
       "</div>"
      ],
      "text/plain": [
       "                                      buildings_amount  events_amount  \\\n",
       "user_id                                                                 \n",
       "0001f83c-c6ac-4621-b7f0-8a28b283ac30                13             13   \n",
       "00151b4f-ba38-44a8-a650-d7cf130a0105                 9              9   \n",
       "001aaea6-3d14-43f1-8ca8-7f48820f17aa                 4              4   \n",
       "001d39dc-366c-4021-9604-6a3b9ff01e25                 8              9   \n",
       "002f508f-67b6-479f-814b-b05f00d4e995                12             12   \n",
       "...                                                ...            ...   \n",
       "ffef4fed-164c-40e1-bde1-3980f76d0fb5                 9             10   \n",
       "fffab3da-da0e-4e30-ae62-10d0a2e24a4e                16             16   \n",
       "fffb626c-5ab6-47c9-8113-2062a2f18494                 9             10   \n",
       "ffff194a-56b7-4c12-860d-3485242ae7f5                 7              7   \n",
       "ffff69cc-fec1-4fd3-9f98-93be1112a6b8                12             14   \n",
       "\n",
       "                                             first_event          last_event  \\\n",
       "user_id                                                                        \n",
       "0001f83c-c6ac-4621-b7f0-8a28b283ac30 2020-05-06 01:07:37 2020-05-20 11:26:06   \n",
       "00151b4f-ba38-44a8-a650-d7cf130a0105 2020-05-06 03:09:12 2020-05-18 10:46:52   \n",
       "001aaea6-3d14-43f1-8ca8-7f48820f17aa 2020-05-05 18:08:52 2020-05-14 09:21:27   \n",
       "001d39dc-366c-4021-9604-6a3b9ff01e25 2020-05-05 21:02:05 2020-05-12 07:40:47   \n",
       "002f508f-67b6-479f-814b-b05f00d4e995 2020-05-05 13:49:58 2020-05-22 02:46:45   \n",
       "...                                                  ...                 ...   \n",
       "ffef4fed-164c-40e1-bde1-3980f76d0fb5 2020-05-04 01:58:59 2020-05-11 22:15:54   \n",
       "fffab3da-da0e-4e30-ae62-10d0a2e24a4e 2020-05-04 11:58:14 2020-05-14 10:11:36   \n",
       "fffb626c-5ab6-47c9-8113-2062a2f18494 2020-05-04 02:05:09 2020-05-12 13:01:52   \n",
       "ffff194a-56b7-4c12-860d-3485242ae7f5 2020-05-04 20:28:28 2020-05-11 22:04:30   \n",
       "ffff69cc-fec1-4fd3-9f98-93be1112a6b8 2020-05-08 06:57:30 2020-05-25 14:05:51   \n",
       "\n",
       "                                      difference_min  \\\n",
       "user_id                                                \n",
       "0001f83c-c6ac-4621-b7f0-8a28b283ac30    20778.483333   \n",
       "00151b4f-ba38-44a8-a650-d7cf130a0105    17737.666667   \n",
       "001aaea6-3d14-43f1-8ca8-7f48820f17aa    12432.583333   \n",
       "001d39dc-366c-4021-9604-6a3b9ff01e25     9278.700000   \n",
       "002f508f-67b6-479f-814b-b05f00d4e995    23816.783333   \n",
       "...                                              ...   \n",
       "ffef4fed-164c-40e1-bde1-3980f76d0fb5    11296.916667   \n",
       "fffab3da-da0e-4e30-ae62-10d0a2e24a4e    14293.366667   \n",
       "fffb626c-5ab6-47c9-8113-2062a2f18494    12176.716667   \n",
       "ffff194a-56b7-4c12-860d-3485242ae7f5    10176.033333   \n",
       "ffff69cc-fec1-4fd3-9f98-93be1112a6b8    24908.350000   \n",
       "\n",
       "                                      events_buildings_difference  \n",
       "user_id                                                            \n",
       "0001f83c-c6ac-4621-b7f0-8a28b283ac30                            0  \n",
       "00151b4f-ba38-44a8-a650-d7cf130a0105                            0  \n",
       "001aaea6-3d14-43f1-8ca8-7f48820f17aa                            0  \n",
       "001d39dc-366c-4021-9604-6a3b9ff01e25                            1  \n",
       "002f508f-67b6-479f-814b-b05f00d4e995                            0  \n",
       "...                                                           ...  \n",
       "ffef4fed-164c-40e1-bde1-3980f76d0fb5                            1  \n",
       "fffab3da-da0e-4e30-ae62-10d0a2e24a4e                            0  \n",
       "fffb626c-5ab6-47c9-8113-2062a2f18494                            1  \n",
       "ffff194a-56b7-4c12-860d-3485242ae7f5                            0  \n",
       "ffff69cc-fec1-4fd3-9f98-93be1112a6b8                            2  \n",
       "\n",
       "[13576 rows x 6 columns]"
      ]
     },
     "execution_count": 11,
     "metadata": {},
     "output_type": "execute_result"
    }
   ],
   "source": [
    "profile['events_buildings_difference'] = profile['events_amount'] -  profile['buildings_amount'] \n",
    "profile"
   ]
  },
  {
   "cell_type": "code",
   "execution_count": 12,
   "metadata": {},
   "outputs": [
    {
     "data": {
      "text/plain": [
       "array([0, 1, 2])"
      ]
     },
     "execution_count": 12,
     "metadata": {},
     "output_type": "execute_result"
    }
   ],
   "source": [
    "profile['events_buildings_difference'].unique()"
   ]
  },
  {
   "cell_type": "markdown",
   "metadata": {},
   "source": [
    "<b>Посмотрим, нет ли тех, у кого событие \"finished_stage_1\" присутствует больше 1 раза:"
   ]
  },
  {
   "cell_type": "code",
   "execution_count": 13,
   "metadata": {},
   "outputs": [
    {
     "data": {
      "text/plain": [
       "array([1])"
      ]
     },
     "execution_count": 13,
     "metadata": {},
     "output_type": "execute_result"
    }
   ],
   "source": [
    "game_actions.query('event == \"finished_stage_1\"').groupby('user_id')['event'].count().unique()"
   ]
  },
  {
   "cell_type": "markdown",
   "metadata": {},
   "source": [
    "<font color = 'purple'>Все в порядке, событие окончания уровня присутствует у пользователей по 1 разу"
   ]
  },
  {
   "cell_type": "markdown",
   "metadata": {},
   "source": [
    "<font color = 'purple'>По сути, разница между количеством построек и количеством событий и является индикатором того, пройден или не пройден уровень и каким образом. Если разница = 0, то уровень не пройден, если 1(событие \"finished_stage_1\") - , то уровень пройден без реализации проекта, 2(события \"project\" и \"finished_stage_1\")- уровень пройден с реализацией проекта."
   ]
  },
  {
   "cell_type": "markdown",
   "metadata": {},
   "source": [
    "\n",
    "<div class=\"alert alert-block alert-warning\">\n",
    "    \n",
    "\n",
    "### Комментарий от тимлида\n",
    "Логичное и крутое решение, но для начала стоит убедиться, что ни у кого нет например 2 завершений уровня (вдруг баг какой затесался)\n",
    "</div>"
   ]
  },
  {
   "cell_type": "markdown",
   "metadata": {},
   "source": [
    "<b>Функция для создания столбца 'complited':"
   ]
  },
  {
   "cell_type": "code",
   "execution_count": 14,
   "metadata": {},
   "outputs": [],
   "source": [
    "def projet(row):\n",
    "    complited = row['events_buildings_difference']\n",
    "    if complited == 0:\n",
    "        return 'level is not complited'\n",
    "    if complited == 1:\n",
    "        return 'without project'\n",
    "    if complited == 2:\n",
    "        return 'project'\n",
    "\n",
    "        "
   ]
  },
  {
   "cell_type": "code",
   "execution_count": 15,
   "metadata": {},
   "outputs": [
    {
     "data": {
      "text/html": [
       "<div>\n",
       "<style scoped>\n",
       "    .dataframe tbody tr th:only-of-type {\n",
       "        vertical-align: middle;\n",
       "    }\n",
       "\n",
       "    .dataframe tbody tr th {\n",
       "        vertical-align: top;\n",
       "    }\n",
       "\n",
       "    .dataframe thead th {\n",
       "        text-align: right;\n",
       "    }\n",
       "</style>\n",
       "<table border=\"1\" class=\"dataframe\">\n",
       "  <thead>\n",
       "    <tr style=\"text-align: right;\">\n",
       "      <th></th>\n",
       "      <th>buildings_amount</th>\n",
       "      <th>events_amount</th>\n",
       "      <th>first_event</th>\n",
       "      <th>last_event</th>\n",
       "      <th>difference_min</th>\n",
       "      <th>events_buildings_difference</th>\n",
       "      <th>complited</th>\n",
       "    </tr>\n",
       "    <tr>\n",
       "      <th>user_id</th>\n",
       "      <th></th>\n",
       "      <th></th>\n",
       "      <th></th>\n",
       "      <th></th>\n",
       "      <th></th>\n",
       "      <th></th>\n",
       "      <th></th>\n",
       "    </tr>\n",
       "  </thead>\n",
       "  <tbody>\n",
       "    <tr>\n",
       "      <td>0001f83c-c6ac-4621-b7f0-8a28b283ac30</td>\n",
       "      <td>13</td>\n",
       "      <td>13</td>\n",
       "      <td>2020-05-06 01:07:37</td>\n",
       "      <td>2020-05-20 11:26:06</td>\n",
       "      <td>20778.483333</td>\n",
       "      <td>0</td>\n",
       "      <td>level is not complited</td>\n",
       "    </tr>\n",
       "    <tr>\n",
       "      <td>00151b4f-ba38-44a8-a650-d7cf130a0105</td>\n",
       "      <td>9</td>\n",
       "      <td>9</td>\n",
       "      <td>2020-05-06 03:09:12</td>\n",
       "      <td>2020-05-18 10:46:52</td>\n",
       "      <td>17737.666667</td>\n",
       "      <td>0</td>\n",
       "      <td>level is not complited</td>\n",
       "    </tr>\n",
       "    <tr>\n",
       "      <td>001aaea6-3d14-43f1-8ca8-7f48820f17aa</td>\n",
       "      <td>4</td>\n",
       "      <td>4</td>\n",
       "      <td>2020-05-05 18:08:52</td>\n",
       "      <td>2020-05-14 09:21:27</td>\n",
       "      <td>12432.583333</td>\n",
       "      <td>0</td>\n",
       "      <td>level is not complited</td>\n",
       "    </tr>\n",
       "    <tr>\n",
       "      <td>001d39dc-366c-4021-9604-6a3b9ff01e25</td>\n",
       "      <td>8</td>\n",
       "      <td>9</td>\n",
       "      <td>2020-05-05 21:02:05</td>\n",
       "      <td>2020-05-12 07:40:47</td>\n",
       "      <td>9278.700000</td>\n",
       "      <td>1</td>\n",
       "      <td>without project</td>\n",
       "    </tr>\n",
       "    <tr>\n",
       "      <td>002f508f-67b6-479f-814b-b05f00d4e995</td>\n",
       "      <td>12</td>\n",
       "      <td>12</td>\n",
       "      <td>2020-05-05 13:49:58</td>\n",
       "      <td>2020-05-22 02:46:45</td>\n",
       "      <td>23816.783333</td>\n",
       "      <td>0</td>\n",
       "      <td>level is not complited</td>\n",
       "    </tr>\n",
       "    <tr>\n",
       "      <td>...</td>\n",
       "      <td>...</td>\n",
       "      <td>...</td>\n",
       "      <td>...</td>\n",
       "      <td>...</td>\n",
       "      <td>...</td>\n",
       "      <td>...</td>\n",
       "      <td>...</td>\n",
       "    </tr>\n",
       "    <tr>\n",
       "      <td>ffef4fed-164c-40e1-bde1-3980f76d0fb5</td>\n",
       "      <td>9</td>\n",
       "      <td>10</td>\n",
       "      <td>2020-05-04 01:58:59</td>\n",
       "      <td>2020-05-11 22:15:54</td>\n",
       "      <td>11296.916667</td>\n",
       "      <td>1</td>\n",
       "      <td>without project</td>\n",
       "    </tr>\n",
       "    <tr>\n",
       "      <td>fffab3da-da0e-4e30-ae62-10d0a2e24a4e</td>\n",
       "      <td>16</td>\n",
       "      <td>16</td>\n",
       "      <td>2020-05-04 11:58:14</td>\n",
       "      <td>2020-05-14 10:11:36</td>\n",
       "      <td>14293.366667</td>\n",
       "      <td>0</td>\n",
       "      <td>level is not complited</td>\n",
       "    </tr>\n",
       "    <tr>\n",
       "      <td>fffb626c-5ab6-47c9-8113-2062a2f18494</td>\n",
       "      <td>9</td>\n",
       "      <td>10</td>\n",
       "      <td>2020-05-04 02:05:09</td>\n",
       "      <td>2020-05-12 13:01:52</td>\n",
       "      <td>12176.716667</td>\n",
       "      <td>1</td>\n",
       "      <td>without project</td>\n",
       "    </tr>\n",
       "    <tr>\n",
       "      <td>ffff194a-56b7-4c12-860d-3485242ae7f5</td>\n",
       "      <td>7</td>\n",
       "      <td>7</td>\n",
       "      <td>2020-05-04 20:28:28</td>\n",
       "      <td>2020-05-11 22:04:30</td>\n",
       "      <td>10176.033333</td>\n",
       "      <td>0</td>\n",
       "      <td>level is not complited</td>\n",
       "    </tr>\n",
       "    <tr>\n",
       "      <td>ffff69cc-fec1-4fd3-9f98-93be1112a6b8</td>\n",
       "      <td>12</td>\n",
       "      <td>14</td>\n",
       "      <td>2020-05-08 06:57:30</td>\n",
       "      <td>2020-05-25 14:05:51</td>\n",
       "      <td>24908.350000</td>\n",
       "      <td>2</td>\n",
       "      <td>project</td>\n",
       "    </tr>\n",
       "  </tbody>\n",
       "</table>\n",
       "<p>13576 rows × 7 columns</p>\n",
       "</div>"
      ],
      "text/plain": [
       "                                      buildings_amount  events_amount  \\\n",
       "user_id                                                                 \n",
       "0001f83c-c6ac-4621-b7f0-8a28b283ac30                13             13   \n",
       "00151b4f-ba38-44a8-a650-d7cf130a0105                 9              9   \n",
       "001aaea6-3d14-43f1-8ca8-7f48820f17aa                 4              4   \n",
       "001d39dc-366c-4021-9604-6a3b9ff01e25                 8              9   \n",
       "002f508f-67b6-479f-814b-b05f00d4e995                12             12   \n",
       "...                                                ...            ...   \n",
       "ffef4fed-164c-40e1-bde1-3980f76d0fb5                 9             10   \n",
       "fffab3da-da0e-4e30-ae62-10d0a2e24a4e                16             16   \n",
       "fffb626c-5ab6-47c9-8113-2062a2f18494                 9             10   \n",
       "ffff194a-56b7-4c12-860d-3485242ae7f5                 7              7   \n",
       "ffff69cc-fec1-4fd3-9f98-93be1112a6b8                12             14   \n",
       "\n",
       "                                             first_event          last_event  \\\n",
       "user_id                                                                        \n",
       "0001f83c-c6ac-4621-b7f0-8a28b283ac30 2020-05-06 01:07:37 2020-05-20 11:26:06   \n",
       "00151b4f-ba38-44a8-a650-d7cf130a0105 2020-05-06 03:09:12 2020-05-18 10:46:52   \n",
       "001aaea6-3d14-43f1-8ca8-7f48820f17aa 2020-05-05 18:08:52 2020-05-14 09:21:27   \n",
       "001d39dc-366c-4021-9604-6a3b9ff01e25 2020-05-05 21:02:05 2020-05-12 07:40:47   \n",
       "002f508f-67b6-479f-814b-b05f00d4e995 2020-05-05 13:49:58 2020-05-22 02:46:45   \n",
       "...                                                  ...                 ...   \n",
       "ffef4fed-164c-40e1-bde1-3980f76d0fb5 2020-05-04 01:58:59 2020-05-11 22:15:54   \n",
       "fffab3da-da0e-4e30-ae62-10d0a2e24a4e 2020-05-04 11:58:14 2020-05-14 10:11:36   \n",
       "fffb626c-5ab6-47c9-8113-2062a2f18494 2020-05-04 02:05:09 2020-05-12 13:01:52   \n",
       "ffff194a-56b7-4c12-860d-3485242ae7f5 2020-05-04 20:28:28 2020-05-11 22:04:30   \n",
       "ffff69cc-fec1-4fd3-9f98-93be1112a6b8 2020-05-08 06:57:30 2020-05-25 14:05:51   \n",
       "\n",
       "                                      difference_min  \\\n",
       "user_id                                                \n",
       "0001f83c-c6ac-4621-b7f0-8a28b283ac30    20778.483333   \n",
       "00151b4f-ba38-44a8-a650-d7cf130a0105    17737.666667   \n",
       "001aaea6-3d14-43f1-8ca8-7f48820f17aa    12432.583333   \n",
       "001d39dc-366c-4021-9604-6a3b9ff01e25     9278.700000   \n",
       "002f508f-67b6-479f-814b-b05f00d4e995    23816.783333   \n",
       "...                                              ...   \n",
       "ffef4fed-164c-40e1-bde1-3980f76d0fb5    11296.916667   \n",
       "fffab3da-da0e-4e30-ae62-10d0a2e24a4e    14293.366667   \n",
       "fffb626c-5ab6-47c9-8113-2062a2f18494    12176.716667   \n",
       "ffff194a-56b7-4c12-860d-3485242ae7f5    10176.033333   \n",
       "ffff69cc-fec1-4fd3-9f98-93be1112a6b8    24908.350000   \n",
       "\n",
       "                                      events_buildings_difference  \\\n",
       "user_id                                                             \n",
       "0001f83c-c6ac-4621-b7f0-8a28b283ac30                            0   \n",
       "00151b4f-ba38-44a8-a650-d7cf130a0105                            0   \n",
       "001aaea6-3d14-43f1-8ca8-7f48820f17aa                            0   \n",
       "001d39dc-366c-4021-9604-6a3b9ff01e25                            1   \n",
       "002f508f-67b6-479f-814b-b05f00d4e995                            0   \n",
       "...                                                           ...   \n",
       "ffef4fed-164c-40e1-bde1-3980f76d0fb5                            1   \n",
       "fffab3da-da0e-4e30-ae62-10d0a2e24a4e                            0   \n",
       "fffb626c-5ab6-47c9-8113-2062a2f18494                            1   \n",
       "ffff194a-56b7-4c12-860d-3485242ae7f5                            0   \n",
       "ffff69cc-fec1-4fd3-9f98-93be1112a6b8                            2   \n",
       "\n",
       "                                                   complited  \n",
       "user_id                                                       \n",
       "0001f83c-c6ac-4621-b7f0-8a28b283ac30  level is not complited  \n",
       "00151b4f-ba38-44a8-a650-d7cf130a0105  level is not complited  \n",
       "001aaea6-3d14-43f1-8ca8-7f48820f17aa  level is not complited  \n",
       "001d39dc-366c-4021-9604-6a3b9ff01e25         without project  \n",
       "002f508f-67b6-479f-814b-b05f00d4e995  level is not complited  \n",
       "...                                                      ...  \n",
       "ffef4fed-164c-40e1-bde1-3980f76d0fb5         without project  \n",
       "fffab3da-da0e-4e30-ae62-10d0a2e24a4e  level is not complited  \n",
       "fffb626c-5ab6-47c9-8113-2062a2f18494         without project  \n",
       "ffff194a-56b7-4c12-860d-3485242ae7f5  level is not complited  \n",
       "ffff69cc-fec1-4fd3-9f98-93be1112a6b8                 project  \n",
       "\n",
       "[13576 rows x 7 columns]"
      ]
     },
     "execution_count": 15,
     "metadata": {},
     "output_type": "execute_result"
    }
   ],
   "source": [
    "profile['complited'] = profile.apply(projet, axis = 1)\n",
    "profile"
   ]
  },
  {
   "cell_type": "markdown",
   "metadata": {},
   "source": [
    "<b>Добавим информацию о том, из какого источника пришел пользователь:"
   ]
  },
  {
   "cell_type": "code",
   "execution_count": 16,
   "metadata": {},
   "outputs": [
    {
     "data": {
      "text/html": [
       "<div>\n",
       "<style scoped>\n",
       "    .dataframe tbody tr th:only-of-type {\n",
       "        vertical-align: middle;\n",
       "    }\n",
       "\n",
       "    .dataframe tbody tr th {\n",
       "        vertical-align: top;\n",
       "    }\n",
       "\n",
       "    .dataframe thead th {\n",
       "        text-align: right;\n",
       "    }\n",
       "</style>\n",
       "<table border=\"1\" class=\"dataframe\">\n",
       "  <thead>\n",
       "    <tr style=\"text-align: right;\">\n",
       "      <th></th>\n",
       "      <th>buildings_amount</th>\n",
       "      <th>events_amount</th>\n",
       "      <th>first_event</th>\n",
       "      <th>last_event</th>\n",
       "      <th>difference_min</th>\n",
       "      <th>events_buildings_difference</th>\n",
       "      <th>complited</th>\n",
       "      <th>source</th>\n",
       "    </tr>\n",
       "    <tr>\n",
       "      <th>user_id</th>\n",
       "      <th></th>\n",
       "      <th></th>\n",
       "      <th></th>\n",
       "      <th></th>\n",
       "      <th></th>\n",
       "      <th></th>\n",
       "      <th></th>\n",
       "      <th></th>\n",
       "    </tr>\n",
       "  </thead>\n",
       "  <tbody>\n",
       "    <tr>\n",
       "      <td>0001f83c-c6ac-4621-b7f0-8a28b283ac30</td>\n",
       "      <td>13</td>\n",
       "      <td>13</td>\n",
       "      <td>2020-05-06 01:07:37</td>\n",
       "      <td>2020-05-20 11:26:06</td>\n",
       "      <td>20778.483333</td>\n",
       "      <td>0</td>\n",
       "      <td>level is not complited</td>\n",
       "      <td>facebook_ads</td>\n",
       "    </tr>\n",
       "    <tr>\n",
       "      <td>00151b4f-ba38-44a8-a650-d7cf130a0105</td>\n",
       "      <td>9</td>\n",
       "      <td>9</td>\n",
       "      <td>2020-05-06 03:09:12</td>\n",
       "      <td>2020-05-18 10:46:52</td>\n",
       "      <td>17737.666667</td>\n",
       "      <td>0</td>\n",
       "      <td>level is not complited</td>\n",
       "      <td>yandex_direct</td>\n",
       "    </tr>\n",
       "    <tr>\n",
       "      <td>001aaea6-3d14-43f1-8ca8-7f48820f17aa</td>\n",
       "      <td>4</td>\n",
       "      <td>4</td>\n",
       "      <td>2020-05-05 18:08:52</td>\n",
       "      <td>2020-05-14 09:21:27</td>\n",
       "      <td>12432.583333</td>\n",
       "      <td>0</td>\n",
       "      <td>level is not complited</td>\n",
       "      <td>youtube_channel_reklama</td>\n",
       "    </tr>\n",
       "    <tr>\n",
       "      <td>001d39dc-366c-4021-9604-6a3b9ff01e25</td>\n",
       "      <td>8</td>\n",
       "      <td>9</td>\n",
       "      <td>2020-05-05 21:02:05</td>\n",
       "      <td>2020-05-12 07:40:47</td>\n",
       "      <td>9278.700000</td>\n",
       "      <td>1</td>\n",
       "      <td>without project</td>\n",
       "      <td>instagram_new_adverts</td>\n",
       "    </tr>\n",
       "    <tr>\n",
       "      <td>002f508f-67b6-479f-814b-b05f00d4e995</td>\n",
       "      <td>12</td>\n",
       "      <td>12</td>\n",
       "      <td>2020-05-05 13:49:58</td>\n",
       "      <td>2020-05-22 02:46:45</td>\n",
       "      <td>23816.783333</td>\n",
       "      <td>0</td>\n",
       "      <td>level is not complited</td>\n",
       "      <td>facebook_ads</td>\n",
       "    </tr>\n",
       "    <tr>\n",
       "      <td>...</td>\n",
       "      <td>...</td>\n",
       "      <td>...</td>\n",
       "      <td>...</td>\n",
       "      <td>...</td>\n",
       "      <td>...</td>\n",
       "      <td>...</td>\n",
       "      <td>...</td>\n",
       "      <td>...</td>\n",
       "    </tr>\n",
       "    <tr>\n",
       "      <td>ffef4fed-164c-40e1-bde1-3980f76d0fb5</td>\n",
       "      <td>9</td>\n",
       "      <td>10</td>\n",
       "      <td>2020-05-04 01:58:59</td>\n",
       "      <td>2020-05-11 22:15:54</td>\n",
       "      <td>11296.916667</td>\n",
       "      <td>1</td>\n",
       "      <td>without project</td>\n",
       "      <td>instagram_new_adverts</td>\n",
       "    </tr>\n",
       "    <tr>\n",
       "      <td>fffab3da-da0e-4e30-ae62-10d0a2e24a4e</td>\n",
       "      <td>16</td>\n",
       "      <td>16</td>\n",
       "      <td>2020-05-04 11:58:14</td>\n",
       "      <td>2020-05-14 10:11:36</td>\n",
       "      <td>14293.366667</td>\n",
       "      <td>0</td>\n",
       "      <td>level is not complited</td>\n",
       "      <td>facebook_ads</td>\n",
       "    </tr>\n",
       "    <tr>\n",
       "      <td>fffb626c-5ab6-47c9-8113-2062a2f18494</td>\n",
       "      <td>9</td>\n",
       "      <td>10</td>\n",
       "      <td>2020-05-04 02:05:09</td>\n",
       "      <td>2020-05-12 13:01:52</td>\n",
       "      <td>12176.716667</td>\n",
       "      <td>1</td>\n",
       "      <td>without project</td>\n",
       "      <td>yandex_direct</td>\n",
       "    </tr>\n",
       "    <tr>\n",
       "      <td>ffff194a-56b7-4c12-860d-3485242ae7f5</td>\n",
       "      <td>7</td>\n",
       "      <td>7</td>\n",
       "      <td>2020-05-04 20:28:28</td>\n",
       "      <td>2020-05-11 22:04:30</td>\n",
       "      <td>10176.033333</td>\n",
       "      <td>0</td>\n",
       "      <td>level is not complited</td>\n",
       "      <td>instagram_new_adverts</td>\n",
       "    </tr>\n",
       "    <tr>\n",
       "      <td>ffff69cc-fec1-4fd3-9f98-93be1112a6b8</td>\n",
       "      <td>12</td>\n",
       "      <td>14</td>\n",
       "      <td>2020-05-08 06:57:30</td>\n",
       "      <td>2020-05-25 14:05:51</td>\n",
       "      <td>24908.350000</td>\n",
       "      <td>2</td>\n",
       "      <td>project</td>\n",
       "      <td>facebook_ads</td>\n",
       "    </tr>\n",
       "  </tbody>\n",
       "</table>\n",
       "<p>13576 rows × 8 columns</p>\n",
       "</div>"
      ],
      "text/plain": [
       "                                      buildings_amount  events_amount  \\\n",
       "user_id                                                                 \n",
       "0001f83c-c6ac-4621-b7f0-8a28b283ac30                13             13   \n",
       "00151b4f-ba38-44a8-a650-d7cf130a0105                 9              9   \n",
       "001aaea6-3d14-43f1-8ca8-7f48820f17aa                 4              4   \n",
       "001d39dc-366c-4021-9604-6a3b9ff01e25                 8              9   \n",
       "002f508f-67b6-479f-814b-b05f00d4e995                12             12   \n",
       "...                                                ...            ...   \n",
       "ffef4fed-164c-40e1-bde1-3980f76d0fb5                 9             10   \n",
       "fffab3da-da0e-4e30-ae62-10d0a2e24a4e                16             16   \n",
       "fffb626c-5ab6-47c9-8113-2062a2f18494                 9             10   \n",
       "ffff194a-56b7-4c12-860d-3485242ae7f5                 7              7   \n",
       "ffff69cc-fec1-4fd3-9f98-93be1112a6b8                12             14   \n",
       "\n",
       "                                             first_event          last_event  \\\n",
       "user_id                                                                        \n",
       "0001f83c-c6ac-4621-b7f0-8a28b283ac30 2020-05-06 01:07:37 2020-05-20 11:26:06   \n",
       "00151b4f-ba38-44a8-a650-d7cf130a0105 2020-05-06 03:09:12 2020-05-18 10:46:52   \n",
       "001aaea6-3d14-43f1-8ca8-7f48820f17aa 2020-05-05 18:08:52 2020-05-14 09:21:27   \n",
       "001d39dc-366c-4021-9604-6a3b9ff01e25 2020-05-05 21:02:05 2020-05-12 07:40:47   \n",
       "002f508f-67b6-479f-814b-b05f00d4e995 2020-05-05 13:49:58 2020-05-22 02:46:45   \n",
       "...                                                  ...                 ...   \n",
       "ffef4fed-164c-40e1-bde1-3980f76d0fb5 2020-05-04 01:58:59 2020-05-11 22:15:54   \n",
       "fffab3da-da0e-4e30-ae62-10d0a2e24a4e 2020-05-04 11:58:14 2020-05-14 10:11:36   \n",
       "fffb626c-5ab6-47c9-8113-2062a2f18494 2020-05-04 02:05:09 2020-05-12 13:01:52   \n",
       "ffff194a-56b7-4c12-860d-3485242ae7f5 2020-05-04 20:28:28 2020-05-11 22:04:30   \n",
       "ffff69cc-fec1-4fd3-9f98-93be1112a6b8 2020-05-08 06:57:30 2020-05-25 14:05:51   \n",
       "\n",
       "                                      difference_min  \\\n",
       "user_id                                                \n",
       "0001f83c-c6ac-4621-b7f0-8a28b283ac30    20778.483333   \n",
       "00151b4f-ba38-44a8-a650-d7cf130a0105    17737.666667   \n",
       "001aaea6-3d14-43f1-8ca8-7f48820f17aa    12432.583333   \n",
       "001d39dc-366c-4021-9604-6a3b9ff01e25     9278.700000   \n",
       "002f508f-67b6-479f-814b-b05f00d4e995    23816.783333   \n",
       "...                                              ...   \n",
       "ffef4fed-164c-40e1-bde1-3980f76d0fb5    11296.916667   \n",
       "fffab3da-da0e-4e30-ae62-10d0a2e24a4e    14293.366667   \n",
       "fffb626c-5ab6-47c9-8113-2062a2f18494    12176.716667   \n",
       "ffff194a-56b7-4c12-860d-3485242ae7f5    10176.033333   \n",
       "ffff69cc-fec1-4fd3-9f98-93be1112a6b8    24908.350000   \n",
       "\n",
       "                                      events_buildings_difference  \\\n",
       "user_id                                                             \n",
       "0001f83c-c6ac-4621-b7f0-8a28b283ac30                            0   \n",
       "00151b4f-ba38-44a8-a650-d7cf130a0105                            0   \n",
       "001aaea6-3d14-43f1-8ca8-7f48820f17aa                            0   \n",
       "001d39dc-366c-4021-9604-6a3b9ff01e25                            1   \n",
       "002f508f-67b6-479f-814b-b05f00d4e995                            0   \n",
       "...                                                           ...   \n",
       "ffef4fed-164c-40e1-bde1-3980f76d0fb5                            1   \n",
       "fffab3da-da0e-4e30-ae62-10d0a2e24a4e                            0   \n",
       "fffb626c-5ab6-47c9-8113-2062a2f18494                            1   \n",
       "ffff194a-56b7-4c12-860d-3485242ae7f5                            0   \n",
       "ffff69cc-fec1-4fd3-9f98-93be1112a6b8                            2   \n",
       "\n",
       "                                                   complited  \\\n",
       "user_id                                                        \n",
       "0001f83c-c6ac-4621-b7f0-8a28b283ac30  level is not complited   \n",
       "00151b4f-ba38-44a8-a650-d7cf130a0105  level is not complited   \n",
       "001aaea6-3d14-43f1-8ca8-7f48820f17aa  level is not complited   \n",
       "001d39dc-366c-4021-9604-6a3b9ff01e25         without project   \n",
       "002f508f-67b6-479f-814b-b05f00d4e995  level is not complited   \n",
       "...                                                      ...   \n",
       "ffef4fed-164c-40e1-bde1-3980f76d0fb5         without project   \n",
       "fffab3da-da0e-4e30-ae62-10d0a2e24a4e  level is not complited   \n",
       "fffb626c-5ab6-47c9-8113-2062a2f18494         without project   \n",
       "ffff194a-56b7-4c12-860d-3485242ae7f5  level is not complited   \n",
       "ffff69cc-fec1-4fd3-9f98-93be1112a6b8                 project   \n",
       "\n",
       "                                                       source  \n",
       "user_id                                                        \n",
       "0001f83c-c6ac-4621-b7f0-8a28b283ac30             facebook_ads  \n",
       "00151b4f-ba38-44a8-a650-d7cf130a0105            yandex_direct  \n",
       "001aaea6-3d14-43f1-8ca8-7f48820f17aa  youtube_channel_reklama  \n",
       "001d39dc-366c-4021-9604-6a3b9ff01e25    instagram_new_adverts  \n",
       "002f508f-67b6-479f-814b-b05f00d4e995             facebook_ads  \n",
       "...                                                       ...  \n",
       "ffef4fed-164c-40e1-bde1-3980f76d0fb5    instagram_new_adverts  \n",
       "fffab3da-da0e-4e30-ae62-10d0a2e24a4e             facebook_ads  \n",
       "fffb626c-5ab6-47c9-8113-2062a2f18494            yandex_direct  \n",
       "ffff194a-56b7-4c12-860d-3485242ae7f5    instagram_new_adverts  \n",
       "ffff69cc-fec1-4fd3-9f98-93be1112a6b8             facebook_ads  \n",
       "\n",
       "[13576 rows x 8 columns]"
      ]
     },
     "execution_count": 16,
     "metadata": {},
     "output_type": "execute_result"
    }
   ],
   "source": [
    "profile = profile.join(user_source.set_index('user_id'))\n",
    "profile"
   ]
  },
  {
   "cell_type": "markdown",
   "metadata": {},
   "source": [
    "<b>Посчитаем стоимость привлечения каждого пользователя:"
   ]
  },
  {
   "cell_type": "code",
   "execution_count": 17,
   "metadata": {},
   "outputs": [],
   "source": [
    "profile['first_event_date'] = profile['first_event'].dt.date.astype('datetime64[ns]')"
   ]
  },
  {
   "cell_type": "code",
   "execution_count": 18,
   "metadata": {},
   "outputs": [],
   "source": [
    "users_amount = profile.reset_index().groupby(['first_event_date','source'])['user_id'].nunique().to_frame(name = 'users_amount')\n",
    "users_amount = users_amount.join(ad_costs.rename(columns = {'day':'first_event_date'}).set_index(['first_event_date','source']))"
   ]
  },
  {
   "cell_type": "code",
   "execution_count": 19,
   "metadata": {},
   "outputs": [
    {
     "data": {
      "text/html": [
       "<div>\n",
       "<style scoped>\n",
       "    .dataframe tbody tr th:only-of-type {\n",
       "        vertical-align: middle;\n",
       "    }\n",
       "\n",
       "    .dataframe tbody tr th {\n",
       "        vertical-align: top;\n",
       "    }\n",
       "\n",
       "    .dataframe thead th {\n",
       "        text-align: right;\n",
       "    }\n",
       "</style>\n",
       "<table border=\"1\" class=\"dataframe\">\n",
       "  <thead>\n",
       "    <tr style=\"text-align: right;\">\n",
       "      <th></th>\n",
       "      <th></th>\n",
       "      <th>users_amount</th>\n",
       "      <th>cost</th>\n",
       "      <th>cost_for_user</th>\n",
       "    </tr>\n",
       "    <tr>\n",
       "      <th>first_event_date</th>\n",
       "      <th>source</th>\n",
       "      <th></th>\n",
       "      <th></th>\n",
       "      <th></th>\n",
       "    </tr>\n",
       "  </thead>\n",
       "  <tbody>\n",
       "    <tr>\n",
       "      <td rowspan=\"4\" valign=\"top\">2020-05-04</td>\n",
       "      <td>facebook_ads</td>\n",
       "      <td>1184</td>\n",
       "      <td>548.354480</td>\n",
       "      <td>0.463137</td>\n",
       "    </tr>\n",
       "    <tr>\n",
       "      <td>instagram_new_adverts</td>\n",
       "      <td>1452</td>\n",
       "      <td>502.925451</td>\n",
       "      <td>0.346367</td>\n",
       "    </tr>\n",
       "    <tr>\n",
       "      <td>yandex_direct</td>\n",
       "      <td>2078</td>\n",
       "      <td>554.651494</td>\n",
       "      <td>0.266916</td>\n",
       "    </tr>\n",
       "    <tr>\n",
       "      <td>youtube_channel_reklama</td>\n",
       "      <td>1146</td>\n",
       "      <td>259.073224</td>\n",
       "      <td>0.226067</td>\n",
       "    </tr>\n",
       "    <tr>\n",
       "      <td rowspan=\"4\" valign=\"top\">2020-05-05</td>\n",
       "      <td>facebook_ads</td>\n",
       "      <td>694</td>\n",
       "      <td>260.185754</td>\n",
       "      <td>0.374907</td>\n",
       "    </tr>\n",
       "    <tr>\n",
       "      <td>instagram_new_adverts</td>\n",
       "      <td>796</td>\n",
       "      <td>313.970984</td>\n",
       "      <td>0.394436</td>\n",
       "    </tr>\n",
       "    <tr>\n",
       "      <td>yandex_direct</td>\n",
       "      <td>1208</td>\n",
       "      <td>308.232990</td>\n",
       "      <td>0.255160</td>\n",
       "    </tr>\n",
       "    <tr>\n",
       "      <td>youtube_channel_reklama</td>\n",
       "      <td>663</td>\n",
       "      <td>147.041741</td>\n",
       "      <td>0.221782</td>\n",
       "    </tr>\n",
       "    <tr>\n",
       "      <td rowspan=\"4\" valign=\"top\">2020-05-06</td>\n",
       "      <td>facebook_ads</td>\n",
       "      <td>345</td>\n",
       "      <td>177.982200</td>\n",
       "      <td>0.515890</td>\n",
       "    </tr>\n",
       "    <tr>\n",
       "      <td>instagram_new_adverts</td>\n",
       "      <td>472</td>\n",
       "      <td>173.071145</td>\n",
       "      <td>0.366676</td>\n",
       "    </tr>\n",
       "    <tr>\n",
       "      <td>yandex_direct</td>\n",
       "      <td>664</td>\n",
       "      <td>180.917099</td>\n",
       "      <td>0.272466</td>\n",
       "    </tr>\n",
       "    <tr>\n",
       "      <td>youtube_channel_reklama</td>\n",
       "      <td>366</td>\n",
       "      <td>88.506074</td>\n",
       "      <td>0.241820</td>\n",
       "    </tr>\n",
       "    <tr>\n",
       "      <td rowspan=\"4\" valign=\"top\">2020-05-07</td>\n",
       "      <td>facebook_ads</td>\n",
       "      <td>224</td>\n",
       "      <td>111.766796</td>\n",
       "      <td>0.498959</td>\n",
       "    </tr>\n",
       "    <tr>\n",
       "      <td>instagram_new_adverts</td>\n",
       "      <td>270</td>\n",
       "      <td>109.915254</td>\n",
       "      <td>0.407094</td>\n",
       "    </tr>\n",
       "    <tr>\n",
       "      <td>yandex_direct</td>\n",
       "      <td>395</td>\n",
       "      <td>114.429338</td>\n",
       "      <td>0.289695</td>\n",
       "    </tr>\n",
       "    <tr>\n",
       "      <td>youtube_channel_reklama</td>\n",
       "      <td>220</td>\n",
       "      <td>55.740645</td>\n",
       "      <td>0.253367</td>\n",
       "    </tr>\n",
       "    <tr>\n",
       "      <td rowspan=\"4\" valign=\"top\">2020-05-08</td>\n",
       "      <td>facebook_ads</td>\n",
       "      <td>139</td>\n",
       "      <td>68.009276</td>\n",
       "      <td>0.489275</td>\n",
       "    </tr>\n",
       "    <tr>\n",
       "      <td>instagram_new_adverts</td>\n",
       "      <td>175</td>\n",
       "      <td>71.578739</td>\n",
       "      <td>0.409021</td>\n",
       "    </tr>\n",
       "    <tr>\n",
       "      <td>yandex_direct</td>\n",
       "      <td>239</td>\n",
       "      <td>62.961630</td>\n",
       "      <td>0.263438</td>\n",
       "    </tr>\n",
       "    <tr>\n",
       "      <td>youtube_channel_reklama</td>\n",
       "      <td>135</td>\n",
       "      <td>40.217907</td>\n",
       "      <td>0.297910</td>\n",
       "    </tr>\n",
       "    <tr>\n",
       "      <td rowspan=\"4\" valign=\"top\">2020-05-09</td>\n",
       "      <td>facebook_ads</td>\n",
       "      <td>84</td>\n",
       "      <td>38.723350</td>\n",
       "      <td>0.460992</td>\n",
       "    </tr>\n",
       "    <tr>\n",
       "      <td>instagram_new_adverts</td>\n",
       "      <td>112</td>\n",
       "      <td>46.775400</td>\n",
       "      <td>0.417637</td>\n",
       "    </tr>\n",
       "    <tr>\n",
       "      <td>yandex_direct</td>\n",
       "      <td>144</td>\n",
       "      <td>42.779505</td>\n",
       "      <td>0.297080</td>\n",
       "    </tr>\n",
       "    <tr>\n",
       "      <td>youtube_channel_reklama</td>\n",
       "      <td>100</td>\n",
       "      <td>23.314669</td>\n",
       "      <td>0.233147</td>\n",
       "    </tr>\n",
       "    <tr>\n",
       "      <td rowspan=\"4\" valign=\"top\">2020-05-10</td>\n",
       "      <td>facebook_ads</td>\n",
       "      <td>56</td>\n",
       "      <td>NaN</td>\n",
       "      <td>NaN</td>\n",
       "    </tr>\n",
       "    <tr>\n",
       "      <td>instagram_new_adverts</td>\n",
       "      <td>70</td>\n",
       "      <td>NaN</td>\n",
       "      <td>NaN</td>\n",
       "    </tr>\n",
       "    <tr>\n",
       "      <td>yandex_direct</td>\n",
       "      <td>89</td>\n",
       "      <td>NaN</td>\n",
       "      <td>NaN</td>\n",
       "    </tr>\n",
       "    <tr>\n",
       "      <td>youtube_channel_reklama</td>\n",
       "      <td>56</td>\n",
       "      <td>NaN</td>\n",
       "      <td>NaN</td>\n",
       "    </tr>\n",
       "  </tbody>\n",
       "</table>\n",
       "</div>"
      ],
      "text/plain": [
       "                                          users_amount        cost  \\\n",
       "first_event_date source                                              \n",
       "2020-05-04       facebook_ads                     1184  548.354480   \n",
       "                 instagram_new_adverts            1452  502.925451   \n",
       "                 yandex_direct                    2078  554.651494   \n",
       "                 youtube_channel_reklama          1146  259.073224   \n",
       "2020-05-05       facebook_ads                      694  260.185754   \n",
       "                 instagram_new_adverts             796  313.970984   \n",
       "                 yandex_direct                    1208  308.232990   \n",
       "                 youtube_channel_reklama           663  147.041741   \n",
       "2020-05-06       facebook_ads                      345  177.982200   \n",
       "                 instagram_new_adverts             472  173.071145   \n",
       "                 yandex_direct                     664  180.917099   \n",
       "                 youtube_channel_reklama           366   88.506074   \n",
       "2020-05-07       facebook_ads                      224  111.766796   \n",
       "                 instagram_new_adverts             270  109.915254   \n",
       "                 yandex_direct                     395  114.429338   \n",
       "                 youtube_channel_reklama           220   55.740645   \n",
       "2020-05-08       facebook_ads                      139   68.009276   \n",
       "                 instagram_new_adverts             175   71.578739   \n",
       "                 yandex_direct                     239   62.961630   \n",
       "                 youtube_channel_reklama           135   40.217907   \n",
       "2020-05-09       facebook_ads                       84   38.723350   \n",
       "                 instagram_new_adverts             112   46.775400   \n",
       "                 yandex_direct                     144   42.779505   \n",
       "                 youtube_channel_reklama           100   23.314669   \n",
       "2020-05-10       facebook_ads                       56         NaN   \n",
       "                 instagram_new_adverts              70         NaN   \n",
       "                 yandex_direct                      89         NaN   \n",
       "                 youtube_channel_reklama            56         NaN   \n",
       "\n",
       "                                          cost_for_user  \n",
       "first_event_date source                                  \n",
       "2020-05-04       facebook_ads                  0.463137  \n",
       "                 instagram_new_adverts         0.346367  \n",
       "                 yandex_direct                 0.266916  \n",
       "                 youtube_channel_reklama       0.226067  \n",
       "2020-05-05       facebook_ads                  0.374907  \n",
       "                 instagram_new_adverts         0.394436  \n",
       "                 yandex_direct                 0.255160  \n",
       "                 youtube_channel_reklama       0.221782  \n",
       "2020-05-06       facebook_ads                  0.515890  \n",
       "                 instagram_new_adverts         0.366676  \n",
       "                 yandex_direct                 0.272466  \n",
       "                 youtube_channel_reklama       0.241820  \n",
       "2020-05-07       facebook_ads                  0.498959  \n",
       "                 instagram_new_adverts         0.407094  \n",
       "                 yandex_direct                 0.289695  \n",
       "                 youtube_channel_reklama       0.253367  \n",
       "2020-05-08       facebook_ads                  0.489275  \n",
       "                 instagram_new_adverts         0.409021  \n",
       "                 yandex_direct                 0.263438  \n",
       "                 youtube_channel_reklama       0.297910  \n",
       "2020-05-09       facebook_ads                  0.460992  \n",
       "                 instagram_new_adverts         0.417637  \n",
       "                 yandex_direct                 0.297080  \n",
       "                 youtube_channel_reklama       0.233147  \n",
       "2020-05-10       facebook_ads                       NaN  \n",
       "                 instagram_new_adverts              NaN  \n",
       "                 yandex_direct                      NaN  \n",
       "                 youtube_channel_reklama            NaN  "
      ]
     },
     "execution_count": 19,
     "metadata": {},
     "output_type": "execute_result"
    }
   ],
   "source": [
    "users_amount['cost_for_user'] = users_amount['cost']/users_amount['users_amount']\n",
    "users_amount"
   ]
  },
  {
   "cell_type": "code",
   "execution_count": 20,
   "metadata": {},
   "outputs": [],
   "source": [
    "profile = (\n",
    "    profile.reset_index().set_index(['first_event_date','source'])\n",
    "    .join(users_amount[['cost_for_user']], how = 'left')\n",
    ").reset_index().set_index('user_id')\n"
   ]
  },
  {
   "cell_type": "markdown",
   "metadata": {},
   "source": [
    "<b>Посмотрим, сколько в среднем обходится привлечение одного пользователя из определенного источника:"
   ]
  },
  {
   "cell_type": "code",
   "execution_count": 21,
   "metadata": {},
   "outputs": [
    {
     "data": {
      "text/plain": [
       "source\n",
       "facebook_ads               0.467194\n",
       "instagram_new_adverts      0.390205\n",
       "yandex_direct              0.274126\n",
       "youtube_channel_reklama    0.245682\n",
       "Name: cost_for_user, dtype: float64"
      ]
     },
     "execution_count": 21,
     "metadata": {},
     "output_type": "execute_result"
    }
   ],
   "source": [
    "profile.groupby(['source','first_event_date'] )['cost_for_user'].first().reset_index().groupby('source')['cost_for_user'].mean()"
   ]
  },
  {
   "cell_type": "code",
   "execution_count": 22,
   "metadata": {},
   "outputs": [
    {
     "data": {
      "text/plain": [
       "source\n",
       "youtube_channel_reklama    2686\n",
       "facebook_ads               2726\n",
       "instagram_new_adverts      3347\n",
       "yandex_direct              4817\n",
       "Name: user_id, dtype: int64"
      ]
     },
     "execution_count": 22,
     "metadata": {},
     "output_type": "execute_result"
    }
   ],
   "source": [
    "profile.reset_index().groupby('source')['user_id'].count().sort_values()"
   ]
  },
  {
   "cell_type": "markdown",
   "metadata": {},
   "source": [
    "<font color = 'purple'>Самые 'дорогие' пользователи приходят из facebook. Наиболее дешево размещать рекламу на youtube_channel_reklama. В то же время, из youtube_channel_reklama приходит наименьшее количество пользователей. Больше всего пользователей приходит из instagram_new_adverts и yandex_direct.  Имеет смысл обратить на это внимание и , возможно, перераспредилить финансирование.<br>\n",
    "Временные рамки таблицы с затратами не совпадают с таковыми в таблице с действиями пользователей. В таблице ad_costs нет данных за 2020-05-10. В связи с этим у нас появилось некоторое количество пропусков, которые никак не помешают нам в дальнейших исследованиях. При маркетинговых расчетах мы не будем использовать данные о пользователях, у которых не известна стоимость их привлечения."
   ]
  },
  {
   "cell_type": "markdown",
   "metadata": {},
   "source": [
    "\n",
    "<div class=\"alert alert-block alert-warning\">\n",
    "    \n",
    "\n",
    "### Комментарий от тимлида\n",
    "\n",
    "Не хватает вывода или комментария. Видно, что сумму рассчитали, но пока не понятно, для чего. И что делать с Nan\n",
    "</div>"
   ]
  },
  {
   "cell_type": "markdown",
   "metadata": {},
   "source": [
    "<a id = 'Section2.2'></a>\n",
    "##### Изучение ранизницы по времени, затраченного на прохождение уровня для пользователей разных групп по признаку  `complited`"
   ]
  },
  {
   "cell_type": "markdown",
   "metadata": {},
   "source": [
    "<b>Пострим boxplot параметра `difference` по всем пользователям:"
   ]
  },
  {
   "cell_type": "code",
   "execution_count": 23,
   "metadata": {},
   "outputs": [
    {
     "data": {
      "image/png": "[encoded data removed]",
      "text/plain": [
       "<Figure size 360x720 with 1 Axes>"
      ]
     },
     "metadata": {
      "needs_background": "light"
     },
     "output_type": "display_data"
    }
   ],
   "source": [
    "\n",
    "fig,ax = plt.subplots(figsize = (5,10))\n",
    "sns.boxplot(y=\"difference_min\", data=profile)\n",
    "plt.grid()"
   ]
  },
  {
   "cell_type": "code",
   "execution_count": 24,
   "metadata": {},
   "outputs": [
    {
     "data": {
      "text/plain": [
       "count    13576.000000\n",
       "mean     15373.126320\n",
       "std       6264.678200\n",
       "min          0.000000\n",
       "25%      11073.645833\n",
       "50%      15150.875000\n",
       "75%      19168.866667\n",
       "max      44518.883333\n",
       "Name: difference_min, dtype: float64"
      ]
     },
     "execution_count": 24,
     "metadata": {},
     "output_type": "execute_result"
    }
   ],
   "source": [
    "profile['difference_min'].describe()"
   ]
  },
  {
   "cell_type": "markdown",
   "metadata": {},
   "source": [
    "<font color = 'purple'>Видим, что минимальное значение разницы во времени 0. Посмотрим, сколько таких пользователей."
   ]
  },
  {
   "cell_type": "code",
   "execution_count": 25,
   "metadata": {},
   "outputs": [
    {
     "data": {
      "text/plain": [
       "57"
      ]
     },
     "execution_count": 25,
     "metadata": {},
     "output_type": "execute_result"
    }
   ],
   "source": [
    "profile.reset_index().query('difference_min == 0')['user_id'].count()"
   ]
  },
  {
   "cell_type": "markdown",
   "metadata": {},
   "source": [
    "<font color = 'purple'>Видим, что таких пользователей немного, не стоит их учитывать в дальнейшем анализе. В связи с чем, появились такие пользователи, требует дополнительного уточнения."
   ]
  },
  {
   "cell_type": "markdown",
   "metadata": {},
   "source": [
    "\n",
    "<div class=\"alert alert-block alert-success\">\n",
    "    \n",
    "\n",
    "### Комментарий от тимлида\n",
    "\n",
    "Крутая находка! Возможно эти игроки построили всего 1 здание и ушли из игры. Их всего 57 - вполне реальное число для кастдева. Например, геймдизайнер может связаться с этими игроками и узнать, что их отпугнуло, чтобы понять, как сделать игру лучше\n",
    "</div>"
   ]
  },
  {
   "cell_type": "code",
   "execution_count": 26,
   "metadata": {},
   "outputs": [
    {
     "name": "stdout",
     "output_type": "stream",
     "text": [
      "<class 'pandas.core.frame.DataFrame'>\n",
      "Index: 13519 entries, 004074f8-251a-4776-922c-8348dca1a2f6 to fc1d6e36-b642-41b7-a302-218d24f3b991\n",
      "Data columns (total 10 columns):\n",
      "first_event_date               13519 non-null datetime64[ns]\n",
      "source                         13519 non-null object\n",
      "buildings_amount               13519 non-null int64\n",
      "events_amount                  13519 non-null int64\n",
      "first_event                    13519 non-null datetime64[ns]\n",
      "last_event                     13519 non-null datetime64[ns]\n",
      "difference_min                 13519 non-null float64\n",
      "events_buildings_difference    13519 non-null int64\n",
      "complited                      13519 non-null object\n",
      "cost_for_user                  13254 non-null float64\n",
      "dtypes: datetime64[ns](3), float64(2), int64(3), object(2)\n",
      "memory usage: 1.1+ MB\n"
     ]
    }
   ],
   "source": [
    "profile_final = profile.query('difference_min != 0')\n",
    "profile_final.info()"
   ]
  },
  {
   "cell_type": "markdown",
   "metadata": {},
   "source": [
    "<b>Пострим boxplot параметра `difference` по всем пользователям в разбивке по принципу `complited`:"
   ]
  },
  {
   "cell_type": "code",
   "execution_count": 27,
   "metadata": {},
   "outputs": [
    {
     "data": {
      "image/png": "[encoded data removed]",
      "text/plain": [
       "<Figure size 360x720 with 1 Axes>"
      ]
     },
     "metadata": {
      "needs_background": "light"
     },
     "output_type": "display_data"
    }
   ],
   "source": [
    "fig,ax = plt.subplots(figsize = (5,10))\n",
    "sns.boxplot(y=\"difference_min\", x = 'complited', data=profile_final)\n",
    "plt.grid()"
   ]
  },
  {
   "cell_type": "markdown",
   "metadata": {},
   "source": [
    "<font color = 'purple'>Видим, что разница между первым и последним событием меньше всех у тех, кто уровени не завершил. Из тех, кто его прошел, больше времени тратят те, кто реализует проект.<br>\n",
    "Также видно, что  пользователи, `difference_min` которых больше 40000мин единичны. Эти значения можно отнести к выбросам и не учитывать их в дальнейшем."
   ]
  },
  {
   "cell_type": "markdown",
   "metadata": {},
   "source": [
    "<b>Посмотрим, как много таких пользователей:\n",
    "    "
   ]
  },
  {
   "cell_type": "code",
   "execution_count": 28,
   "metadata": {},
   "outputs": [
    {
     "data": {
      "text/plain": [
       "11"
      ]
     },
     "execution_count": 28,
     "metadata": {},
     "output_type": "execute_result"
    }
   ],
   "source": [
    "profile_final.reset_index().query('difference_min > 40000')['user_id'].count()"
   ]
  },
  {
   "cell_type": "code",
   "execution_count": 29,
   "metadata": {},
   "outputs": [],
   "source": [
    "profile_final = profile_final.reset_index().query('difference_min < 40000')\n",
    "profile_final.to_csv('profile_final.csv')"
   ]
  },
  {
   "cell_type": "markdown",
   "metadata": {},
   "source": [
    "<b>Смаотрим долю пользователей, потерянную в результате фильтрации:"
   ]
  },
  {
   "cell_type": "code",
   "execution_count": 30,
   "metadata": {},
   "outputs": [
    {
     "data": {
      "text/plain": [
       "0.005008839127872717"
      ]
     },
     "execution_count": 30,
     "metadata": {},
     "output_type": "execute_result"
    }
   ],
   "source": [
    "(profile.reset_index()['user_id'].nunique() - profile_final.reset_index()['user_id'].nunique())\\\n",
    "/profile.reset_index()['user_id'].nunique()"
   ]
  },
  {
   "cell_type": "markdown",
   "metadata": {},
   "source": [
    "<font color = 'purple'>Как видим, отфильтровано менее одного процета данных."
   ]
  },
  {
   "cell_type": "markdown",
   "metadata": {},
   "source": [
    "\n",
    "<div class=\"alert alert-block alert-success\">\n",
    "    \n",
    "\n",
    "### Комментарий от тимлида\n",
    "\n",
    "Выглядит так, что проект занимает больше времени. Выбросы можно не учитывать, так как мы ориентируемся в первую очередь на основную массу игроков, плюс количество таких игроков совсем небольшое\n",
    "</div>"
   ]
  },
  {
   "cell_type": "markdown",
   "metadata": {},
   "source": [
    "<b>Вывeведем метод describe() для параметра `difference_min`для всех трех групп:"
   ]
  },
  {
   "cell_type": "code",
   "execution_count": 31,
   "metadata": {},
   "outputs": [],
   "source": [
    "def describe(column):\n",
    "    for group in profile_final['complited'].unique():\n",
    "        print(group)\n",
    "        display(profile_final.query('complited == @group')[column].describe())"
   ]
  },
  {
   "cell_type": "code",
   "execution_count": 32,
   "metadata": {},
   "outputs": [
    {
     "name": "stdout",
     "output_type": "stream",
     "text": [
      "Время в минутах\n",
      "without project\n"
     ]
    },
    {
     "data": {
      "text/plain": [
       "count     3944.000000\n",
       "mean     15942.240437\n",
       "std       5790.943692\n",
       "min        579.016667\n",
       "25%      11939.950000\n",
       "50%      15525.083333\n",
       "75%      19344.850000\n",
       "max      39446.033333\n",
       "Name: difference_min, dtype: float64"
      ]
     },
     "metadata": {},
     "output_type": "display_data"
    },
    {
     "name": "stdout",
     "output_type": "stream",
     "text": [
      "level is not complited\n"
     ]
    },
    {
     "data": {
      "text/plain": [
       "count     7701.000000\n",
       "mean     14195.688612\n",
       "std       6152.363859\n",
       "min         37.450000\n",
       "25%       9639.366667\n",
       "50%      13883.616667\n",
       "75%      18017.916667\n",
       "max      38220.516667\n",
       "Name: difference_min, dtype: float64"
      ]
     },
     "metadata": {},
     "output_type": "display_data"
    },
    {
     "name": "stdout",
     "output_type": "stream",
     "text": [
      "project\n"
     ]
    },
    {
     "data": {
      "text/plain": [
       "count     1863.000000\n",
       "mean     19345.152442\n",
       "std       4976.165324\n",
       "min       7402.450000\n",
       "25%      15768.758333\n",
       "50%      18754.400000\n",
       "75%      22404.783333\n",
       "max      39660.566667\n",
       "Name: difference_min, dtype: float64"
      ]
     },
     "metadata": {},
     "output_type": "display_data"
    },
    {
     "name": "stdout",
     "output_type": "stream",
     "text": [
      "Время в днях\n",
      "without project\n"
     ]
    },
    {
     "data": {
      "text/plain": [
       "count    3944.000000\n",
       "mean       11.070925\n",
       "std         4.021465\n",
       "min         0.400000\n",
       "25%         8.290000\n",
       "50%        10.780000\n",
       "75%        13.432500\n",
       "max        27.390000\n",
       "Name: difference_days, dtype: float64"
      ]
     },
     "metadata": {},
     "output_type": "display_data"
    },
    {
     "name": "stdout",
     "output_type": "stream",
     "text": [
      "level is not complited\n"
     ]
    },
    {
     "data": {
      "text/plain": [
       "count    7701.000000\n",
       "mean        9.858087\n",
       "std         4.272475\n",
       "min         0.030000\n",
       "25%         6.690000\n",
       "50%         9.640000\n",
       "75%        12.510000\n",
       "max        26.540000\n",
       "Name: difference_days, dtype: float64"
      ]
     },
     "metadata": {},
     "output_type": "display_data"
    },
    {
     "name": "stdout",
     "output_type": "stream",
     "text": [
      "project\n"
     ]
    },
    {
     "data": {
      "text/plain": [
       "count    1863.000000\n",
       "mean       13.434096\n",
       "std         3.455653\n",
       "min         5.140000\n",
       "25%        10.950000\n",
       "50%        13.020000\n",
       "75%        15.555000\n",
       "max        27.540000\n",
       "Name: difference_days, dtype: float64"
      ]
     },
     "metadata": {},
     "output_type": "display_data"
    }
   ],
   "source": [
    "profile_final['difference_days'] = (profile_final['difference_min']/60/24).round(2)\n",
    "print('Время в минутах')\n",
    "describe('difference_min')\n",
    "print('Время в днях')\n",
    "describe('difference_days')"
   ]
  },
  {
   "cell_type": "markdown",
   "metadata": {},
   "source": [
    "##### Вывод:\n",
    "После изучения ранизницы по времени, затраченного на прохождение уровня для пользователей разных групп по признаку  `complited` можно сказать, что в среднем, минимальное время нахождения в игре имеют пользователи группы \"level is not complited\", что ожидаемо. Из двух групп пользователей завершивших уровень, меньше времени, в стеднем, тратят те, кто прошел уровень через победу над другим игроком. Те же, кто реализовал проект, проходили уровень дольше.<br>\n",
    "_____________________________\n",
    "Средние значения параметра difference_min:\n",
    "1. level is not complited - 14195мин или 9.9 дней\n",
    "2. without project - 15942мин или 11 дней\n",
    "3. project - 19345 мин или 13.5 дней\n",
    "____________________\n",
    "Медианные значения параметра difference_min:\n",
    "1. level is not complited - 13883мин или 9.6 дней\n",
    "2. without project - 15525мин или 10.8 дня\n",
    "3. project - 18754 мин или 13 дней\n",
    "\n",
    "Медианные значения немного меньше средних, распределение несколько скошено вправо."
   ]
  },
  {
   "cell_type": "markdown",
   "metadata": {},
   "source": [
    "\n",
    "<div class=\"alert alert-block alert-warning\">\n",
    "    \n",
    "\n",
    "### Комментарий от тимлида\n",
    "Все здорово! И выводы классные. Но невозможно воспринимать время как десятки тысяч минут. Может переведем, а? Ну пожалуйста 🙏\n",
    "</div>"
   ]
  },
  {
   "cell_type": "markdown",
   "metadata": {},
   "source": [
    "<a id = 'Section2.3'></a>\n",
    "##### Изучение разницы по количеству построек для пользователей разных групп по признаку  `complited`."
   ]
  },
  {
   "cell_type": "code",
   "execution_count": 33,
   "metadata": {},
   "outputs": [
    {
     "data": {
      "text/plain": [
       "count    13508.000000\n",
       "mean         9.458543\n",
       "std          3.830260\n",
       "min          2.000000\n",
       "25%          6.000000\n",
       "50%         10.000000\n",
       "75%         12.000000\n",
       "max         20.000000\n",
       "Name: buildings_amount, dtype: float64"
      ]
     },
     "execution_count": 33,
     "metadata": {},
     "output_type": "execute_result"
    }
   ],
   "source": [
    "profile_final['buildings_amount'].describe()"
   ]
  },
  {
   "cell_type": "markdown",
   "metadata": {},
   "source": [
    "<b>Пострим  countplot параметра `buildings_amount` по всем пользователям:"
   ]
  },
  {
   "cell_type": "code",
   "execution_count": 34,
   "metadata": {},
   "outputs": [
    {
     "data": {
      "image/png": "[encoded data removed]",
      "text/plain": [
       "<Figure size 720x360 with 1 Axes>"
      ]
     },
     "metadata": {
      "needs_background": "light"
     },
     "output_type": "display_data"
    }
   ],
   "source": [
    "fig,ax = plt.subplots(figsize = (10,5))\n",
    "sns.countplot(x = 'buildings_amount', data=profile_final)\n",
    "plt.grid()"
   ]
  },
  {
   "cell_type": "markdown",
   "metadata": {},
   "source": [
    "<font color = 'purple'>Имеется 2 пиковых значения - 6 и 10 построек. Предположу, что это пики для разных групп. Ниже проверим)"
   ]
  },
  {
   "cell_type": "markdown",
   "metadata": {},
   "source": [
    "<b>Пострим  countplot параметра `buildings_amount` в разбивке по признаку `complited`:"
   ]
  },
  {
   "cell_type": "code",
   "execution_count": 35,
   "metadata": {},
   "outputs": [
    {
     "data": {
      "image/png": "[encoded data removed]",
      "text/plain": [
       "<Figure size 1080x360 with 1 Axes>"
      ]
     },
     "metadata": {
      "needs_background": "light"
     },
     "output_type": "display_data"
    }
   ],
   "source": [
    "fig,ax = plt.subplots(figsize = (15,5))\n",
    "sns.countplot(x = 'buildings_amount', hue = 'complited', data=profile_final)\n",
    "plt.grid()"
   ]
  },
  {
   "cell_type": "markdown",
   "metadata": {},
   "source": [
    "\n",
    "<div class=\"alert alert-block alert-success\">\n",
    "    \n",
    "\n",
    "### Комментарий от тимлида\n",
    "Классный график - очень наглядный) Кстати, в дашборде бы смотрелся бомбически 💣 Предположение подтвердилось, но только отчасти)\n",
    "</div>"
   ]
  },
  {
   "cell_type": "markdown",
   "metadata": {},
   "source": [
    "<b>Вывeведем метод describe() для параметра `buildings_amount` для всех трех групп:"
   ]
  },
  {
   "cell_type": "code",
   "execution_count": 36,
   "metadata": {},
   "outputs": [
    {
     "name": "stdout",
     "output_type": "stream",
     "text": [
      "without project\n"
     ]
    },
    {
     "data": {
      "text/plain": [
       "count    3944.000000\n",
       "mean        9.407201\n",
       "std         3.059062\n",
       "min         2.000000\n",
       "25%         8.000000\n",
       "50%        10.000000\n",
       "75%        12.000000\n",
       "max        19.000000\n",
       "Name: buildings_amount, dtype: float64"
      ]
     },
     "metadata": {},
     "output_type": "display_data"
    },
    {
     "name": "stdout",
     "output_type": "stream",
     "text": [
      "level is not complited\n"
     ]
    },
    {
     "data": {
      "text/plain": [
       "count    7701.000000\n",
       "mean        8.713414\n",
       "std         4.098123\n",
       "min         2.000000\n",
       "25%         5.000000\n",
       "50%         9.000000\n",
       "75%        12.000000\n",
       "max        20.000000\n",
       "Name: buildings_amount, dtype: float64"
      ]
     },
     "metadata": {},
     "output_type": "display_data"
    },
    {
     "name": "stdout",
     "output_type": "stream",
     "text": [
      "project\n"
     ]
    },
    {
     "data": {
      "text/plain": [
       "count    1863.000000\n",
       "mean       12.647343\n",
       "std         2.163225\n",
       "min        10.000000\n",
       "25%        11.000000\n",
       "50%        12.000000\n",
       "75%        14.000000\n",
       "max        20.000000\n",
       "Name: buildings_amount, dtype: float64"
      ]
     },
     "metadata": {},
     "output_type": "display_data"
    }
   ],
   "source": [
    "describe('buildings_amount')"
   ]
  },
  {
   "cell_type": "markdown",
   "metadata": {},
   "source": [
    "##### Вывод:\n",
    "Видим, что наибольшее количество игроков из тех, что не прошли уровень, останавливаются после строительства 6 постройки. После 7 же останавливаются реже. В связи этим, я бы предложила принять количество построек > 6 за порог вовлеченности пользователя в игру, несмотря на то, что среднее выше и составляет 8.<br>  \n",
    "В остальных группах отличие моды и среднего не так велико. В среднем те, кто проходит уровень через победу над другими игроками строят меньше (9), чем те, что проходят уровень через реализацию проекта(12)."
   ]
  },
  {
   "cell_type": "markdown",
   "metadata": {},
   "source": [
    "\n",
    "<div class=\"alert alert-block alert-success\">\n",
    "    \n",
    "\n",
    "### Комментарий от тимлида\n",
    "Звучит суперлогично! А еще мне очень нравится, что ты измеряешь вовлеченность не по дням, а по действиям в игре - это очень правильно) Ведь кто-то играет каждый день, а кто-то раз в неделю. Таким образом мы сможем для каждого найти момент вовлечения\n",
    "</div>"
   ]
  },
  {
   "cell_type": "markdown",
   "metadata": {},
   "source": [
    "<a id = 'Section2.4'></a>\n",
    "##### Изучение разницы между количеством действий в день, совершаемых пользователями разных групп"
   ]
  },
  {
   "cell_type": "markdown",
   "metadata": {},
   "source": [
    "<b>Cоздадим в таблице game_actions столбец с датой совершения события:"
   ]
  },
  {
   "cell_type": "code",
   "execution_count": 37,
   "metadata": {},
   "outputs": [],
   "source": [
    "game_actions['date'] = game_actions['event_datetime'].dt.date.astype('datetime64[ns]')"
   ]
  },
  {
   "cell_type": "markdown",
   "metadata": {},
   "source": [
    "<b>Выберем пользователей, которые присутствуют в талице profile_final:"
   ]
  },
  {
   "cell_type": "code",
   "execution_count": 38,
   "metadata": {},
   "outputs": [],
   "source": [
    "correct_users = profile_final['user_id'].unique()\n",
    "game_actions_new = game_actions.query('user_id in @correct_users')"
   ]
  },
  {
   "cell_type": "markdown",
   "metadata": {},
   "source": [
    "<b>Посчитаем среденее количество действий, совершаемых в день и количество дней, в которые пользователь играет"
   ]
  },
  {
   "cell_type": "code",
   "execution_count": 39,
   "metadata": {},
   "outputs": [],
   "source": [
    "events_per_day = (\n",
    "    game_actions_new\n",
    "    .groupby(['user_id','date'])['event']\n",
    "    .count().to_frame(name = 'events_amount_per_day').reset_index()\n",
    "    .groupby('user_id').agg({'events_amount_per_day': ['count','mean']})\n",
    ")\n",
    "events_per_day.columns = ['amount_of_playing_days','avg_events_amount_per_day']"
   ]
  },
  {
   "cell_type": "markdown",
   "metadata": {},
   "source": [
    "<b>Добавим информацию к профилю:"
   ]
  },
  {
   "cell_type": "code",
   "execution_count": 40,
   "metadata": {},
   "outputs": [],
   "source": [
    "profile_final = profile_final.set_index('user_id').join(events_per_day)"
   ]
  },
  {
   "cell_type": "code",
   "execution_count": 41,
   "metadata": {},
   "outputs": [
    {
     "data": {
      "text/html": [
       "<div>\n",
       "<style scoped>\n",
       "    .dataframe tbody tr th:only-of-type {\n",
       "        vertical-align: middle;\n",
       "    }\n",
       "\n",
       "    .dataframe tbody tr th {\n",
       "        vertical-align: top;\n",
       "    }\n",
       "\n",
       "    .dataframe thead th {\n",
       "        text-align: right;\n",
       "    }\n",
       "</style>\n",
       "<table border=\"1\" class=\"dataframe\">\n",
       "  <thead>\n",
       "    <tr style=\"text-align: right;\">\n",
       "      <th></th>\n",
       "      <th>first_event_date</th>\n",
       "      <th>source</th>\n",
       "      <th>buildings_amount</th>\n",
       "      <th>events_amount</th>\n",
       "      <th>first_event</th>\n",
       "      <th>last_event</th>\n",
       "      <th>difference_min</th>\n",
       "      <th>events_buildings_difference</th>\n",
       "      <th>complited</th>\n",
       "      <th>cost_for_user</th>\n",
       "      <th>difference_days</th>\n",
       "      <th>amount_of_playing_days</th>\n",
       "      <th>avg_events_amount_per_day</th>\n",
       "    </tr>\n",
       "    <tr>\n",
       "      <th>user_id</th>\n",
       "      <th></th>\n",
       "      <th></th>\n",
       "      <th></th>\n",
       "      <th></th>\n",
       "      <th></th>\n",
       "      <th></th>\n",
       "      <th></th>\n",
       "      <th></th>\n",
       "      <th></th>\n",
       "      <th></th>\n",
       "      <th></th>\n",
       "      <th></th>\n",
       "      <th></th>\n",
       "    </tr>\n",
       "  </thead>\n",
       "  <tbody>\n",
       "    <tr>\n",
       "      <td>004074f8-251a-4776-922c-8348dca1a2f6</td>\n",
       "      <td>2020-05-04</td>\n",
       "      <td>facebook_ads</td>\n",
       "      <td>12</td>\n",
       "      <td>13</td>\n",
       "      <td>2020-05-04 01:07:35</td>\n",
       "      <td>2020-05-16 19:57:40</td>\n",
       "      <td>18410.083333</td>\n",
       "      <td>1</td>\n",
       "      <td>without project</td>\n",
       "      <td>0.463137</td>\n",
       "      <td>12.78</td>\n",
       "      <td>8</td>\n",
       "      <td>1.625000</td>\n",
       "    </tr>\n",
       "    <tr>\n",
       "      <td>00440efd-aa50-4b4b-aae8-ffcd1782729d</td>\n",
       "      <td>2020-05-04</td>\n",
       "      <td>facebook_ads</td>\n",
       "      <td>7</td>\n",
       "      <td>7</td>\n",
       "      <td>2020-05-04 07:20:40</td>\n",
       "      <td>2020-05-09 10:33:13</td>\n",
       "      <td>7392.550000</td>\n",
       "      <td>0</td>\n",
       "      <td>level is not complited</td>\n",
       "      <td>0.463137</td>\n",
       "      <td>5.13</td>\n",
       "      <td>5</td>\n",
       "      <td>1.400000</td>\n",
       "    </tr>\n",
       "    <tr>\n",
       "      <td>0099a74d-bafc-404f-ae47-5c901a06d108</td>\n",
       "      <td>2020-05-04</td>\n",
       "      <td>facebook_ads</td>\n",
       "      <td>12</td>\n",
       "      <td>12</td>\n",
       "      <td>2020-05-04 14:53:02</td>\n",
       "      <td>2020-05-14 20:11:03</td>\n",
       "      <td>14718.016667</td>\n",
       "      <td>0</td>\n",
       "      <td>level is not complited</td>\n",
       "      <td>0.463137</td>\n",
       "      <td>10.22</td>\n",
       "      <td>7</td>\n",
       "      <td>1.714286</td>\n",
       "    </tr>\n",
       "    <tr>\n",
       "      <td>00eed4e1-a7bd-46c8-a563-862ce3c916d6</td>\n",
       "      <td>2020-05-04</td>\n",
       "      <td>facebook_ads</td>\n",
       "      <td>8</td>\n",
       "      <td>8</td>\n",
       "      <td>2020-05-04 12:39:31</td>\n",
       "      <td>2020-05-13 00:32:46</td>\n",
       "      <td>12233.250000</td>\n",
       "      <td>0</td>\n",
       "      <td>level is not complited</td>\n",
       "      <td>0.463137</td>\n",
       "      <td>8.50</td>\n",
       "      <td>5</td>\n",
       "      <td>1.600000</td>\n",
       "    </tr>\n",
       "    <tr>\n",
       "      <td>00ef3286-af82-49d8-9710-d4a087912bfc</td>\n",
       "      <td>2020-05-04</td>\n",
       "      <td>facebook_ads</td>\n",
       "      <td>10</td>\n",
       "      <td>10</td>\n",
       "      <td>2020-05-04 19:52:44</td>\n",
       "      <td>2020-05-13 06:21:59</td>\n",
       "      <td>12149.250000</td>\n",
       "      <td>0</td>\n",
       "      <td>level is not complited</td>\n",
       "      <td>0.463137</td>\n",
       "      <td>8.44</td>\n",
       "      <td>7</td>\n",
       "      <td>1.428571</td>\n",
       "    </tr>\n",
       "    <tr>\n",
       "      <td>...</td>\n",
       "      <td>...</td>\n",
       "      <td>...</td>\n",
       "      <td>...</td>\n",
       "      <td>...</td>\n",
       "      <td>...</td>\n",
       "      <td>...</td>\n",
       "      <td>...</td>\n",
       "      <td>...</td>\n",
       "      <td>...</td>\n",
       "      <td>...</td>\n",
       "      <td>...</td>\n",
       "      <td>...</td>\n",
       "      <td>...</td>\n",
       "    </tr>\n",
       "    <tr>\n",
       "      <td>e88a413a-f5f0-473f-94e0-e33ebab998db</td>\n",
       "      <td>2020-05-10</td>\n",
       "      <td>youtube_channel_reklama</td>\n",
       "      <td>4</td>\n",
       "      <td>5</td>\n",
       "      <td>2020-05-10 19:10:19</td>\n",
       "      <td>2020-05-16 06:38:57</td>\n",
       "      <td>7888.633333</td>\n",
       "      <td>1</td>\n",
       "      <td>without project</td>\n",
       "      <td>NaN</td>\n",
       "      <td>5.48</td>\n",
       "      <td>3</td>\n",
       "      <td>1.666667</td>\n",
       "    </tr>\n",
       "    <tr>\n",
       "      <td>f9d9ad45-c603-413b-abdd-c2437efebd66</td>\n",
       "      <td>2020-05-10</td>\n",
       "      <td>youtube_channel_reklama</td>\n",
       "      <td>2</td>\n",
       "      <td>2</td>\n",
       "      <td>2020-05-10 01:16:46</td>\n",
       "      <td>2020-05-10 05:52:08</td>\n",
       "      <td>275.366667</td>\n",
       "      <td>0</td>\n",
       "      <td>level is not complited</td>\n",
       "      <td>NaN</td>\n",
       "      <td>0.19</td>\n",
       "      <td>1</td>\n",
       "      <td>2.000000</td>\n",
       "    </tr>\n",
       "    <tr>\n",
       "      <td>fb3d6bc4-3c24-4790-ab5f-67585d94ca19</td>\n",
       "      <td>2020-05-10</td>\n",
       "      <td>youtube_channel_reklama</td>\n",
       "      <td>9</td>\n",
       "      <td>10</td>\n",
       "      <td>2020-05-10 09:20:24</td>\n",
       "      <td>2020-05-22 05:27:33</td>\n",
       "      <td>17047.150000</td>\n",
       "      <td>1</td>\n",
       "      <td>without project</td>\n",
       "      <td>NaN</td>\n",
       "      <td>11.84</td>\n",
       "      <td>9</td>\n",
       "      <td>1.111111</td>\n",
       "    </tr>\n",
       "    <tr>\n",
       "      <td>fbcbe348-8ef7-4c27-8b77-50b97d14c0af</td>\n",
       "      <td>2020-05-10</td>\n",
       "      <td>youtube_channel_reklama</td>\n",
       "      <td>5</td>\n",
       "      <td>5</td>\n",
       "      <td>2020-05-10 06:58:30</td>\n",
       "      <td>2020-05-16 19:25:38</td>\n",
       "      <td>9387.133333</td>\n",
       "      <td>0</td>\n",
       "      <td>level is not complited</td>\n",
       "      <td>NaN</td>\n",
       "      <td>6.52</td>\n",
       "      <td>4</td>\n",
       "      <td>1.250000</td>\n",
       "    </tr>\n",
       "    <tr>\n",
       "      <td>fc1d6e36-b642-41b7-a302-218d24f3b991</td>\n",
       "      <td>2020-05-10</td>\n",
       "      <td>youtube_channel_reklama</td>\n",
       "      <td>7</td>\n",
       "      <td>7</td>\n",
       "      <td>2020-05-10 05:07:54</td>\n",
       "      <td>2020-05-23 01:44:42</td>\n",
       "      <td>18516.800000</td>\n",
       "      <td>0</td>\n",
       "      <td>level is not complited</td>\n",
       "      <td>NaN</td>\n",
       "      <td>12.86</td>\n",
       "      <td>5</td>\n",
       "      <td>1.400000</td>\n",
       "    </tr>\n",
       "  </tbody>\n",
       "</table>\n",
       "<p>13508 rows × 13 columns</p>\n",
       "</div>"
      ],
      "text/plain": [
       "                                     first_event_date  \\\n",
       "user_id                                                 \n",
       "004074f8-251a-4776-922c-8348dca1a2f6       2020-05-04   \n",
       "00440efd-aa50-4b4b-aae8-ffcd1782729d       2020-05-04   \n",
       "0099a74d-bafc-404f-ae47-5c901a06d108       2020-05-04   \n",
       "00eed4e1-a7bd-46c8-a563-862ce3c916d6       2020-05-04   \n",
       "00ef3286-af82-49d8-9710-d4a087912bfc       2020-05-04   \n",
       "...                                               ...   \n",
       "e88a413a-f5f0-473f-94e0-e33ebab998db       2020-05-10   \n",
       "f9d9ad45-c603-413b-abdd-c2437efebd66       2020-05-10   \n",
       "fb3d6bc4-3c24-4790-ab5f-67585d94ca19       2020-05-10   \n",
       "fbcbe348-8ef7-4c27-8b77-50b97d14c0af       2020-05-10   \n",
       "fc1d6e36-b642-41b7-a302-218d24f3b991       2020-05-10   \n",
       "\n",
       "                                                       source  \\\n",
       "user_id                                                         \n",
       "004074f8-251a-4776-922c-8348dca1a2f6             facebook_ads   \n",
       "00440efd-aa50-4b4b-aae8-ffcd1782729d             facebook_ads   \n",
       "0099a74d-bafc-404f-ae47-5c901a06d108             facebook_ads   \n",
       "00eed4e1-a7bd-46c8-a563-862ce3c916d6             facebook_ads   \n",
       "00ef3286-af82-49d8-9710-d4a087912bfc             facebook_ads   \n",
       "...                                                       ...   \n",
       "e88a413a-f5f0-473f-94e0-e33ebab998db  youtube_channel_reklama   \n",
       "f9d9ad45-c603-413b-abdd-c2437efebd66  youtube_channel_reklama   \n",
       "fb3d6bc4-3c24-4790-ab5f-67585d94ca19  youtube_channel_reklama   \n",
       "fbcbe348-8ef7-4c27-8b77-50b97d14c0af  youtube_channel_reklama   \n",
       "fc1d6e36-b642-41b7-a302-218d24f3b991  youtube_channel_reklama   \n",
       "\n",
       "                                      buildings_amount  events_amount  \\\n",
       "user_id                                                                 \n",
       "004074f8-251a-4776-922c-8348dca1a2f6                12             13   \n",
       "00440efd-aa50-4b4b-aae8-ffcd1782729d                 7              7   \n",
       "0099a74d-bafc-404f-ae47-5c901a06d108                12             12   \n",
       "00eed4e1-a7bd-46c8-a563-862ce3c916d6                 8              8   \n",
       "00ef3286-af82-49d8-9710-d4a087912bfc                10             10   \n",
       "...                                                ...            ...   \n",
       "e88a413a-f5f0-473f-94e0-e33ebab998db                 4              5   \n",
       "f9d9ad45-c603-413b-abdd-c2437efebd66                 2              2   \n",
       "fb3d6bc4-3c24-4790-ab5f-67585d94ca19                 9             10   \n",
       "fbcbe348-8ef7-4c27-8b77-50b97d14c0af                 5              5   \n",
       "fc1d6e36-b642-41b7-a302-218d24f3b991                 7              7   \n",
       "\n",
       "                                             first_event          last_event  \\\n",
       "user_id                                                                        \n",
       "004074f8-251a-4776-922c-8348dca1a2f6 2020-05-04 01:07:35 2020-05-16 19:57:40   \n",
       "00440efd-aa50-4b4b-aae8-ffcd1782729d 2020-05-04 07:20:40 2020-05-09 10:33:13   \n",
       "0099a74d-bafc-404f-ae47-5c901a06d108 2020-05-04 14:53:02 2020-05-14 20:11:03   \n",
       "00eed4e1-a7bd-46c8-a563-862ce3c916d6 2020-05-04 12:39:31 2020-05-13 00:32:46   \n",
       "00ef3286-af82-49d8-9710-d4a087912bfc 2020-05-04 19:52:44 2020-05-13 06:21:59   \n",
       "...                                                  ...                 ...   \n",
       "e88a413a-f5f0-473f-94e0-e33ebab998db 2020-05-10 19:10:19 2020-05-16 06:38:57   \n",
       "f9d9ad45-c603-413b-abdd-c2437efebd66 2020-05-10 01:16:46 2020-05-10 05:52:08   \n",
       "fb3d6bc4-3c24-4790-ab5f-67585d94ca19 2020-05-10 09:20:24 2020-05-22 05:27:33   \n",
       "fbcbe348-8ef7-4c27-8b77-50b97d14c0af 2020-05-10 06:58:30 2020-05-16 19:25:38   \n",
       "fc1d6e36-b642-41b7-a302-218d24f3b991 2020-05-10 05:07:54 2020-05-23 01:44:42   \n",
       "\n",
       "                                      difference_min  \\\n",
       "user_id                                                \n",
       "004074f8-251a-4776-922c-8348dca1a2f6    18410.083333   \n",
       "00440efd-aa50-4b4b-aae8-ffcd1782729d     7392.550000   \n",
       "0099a74d-bafc-404f-ae47-5c901a06d108    14718.016667   \n",
       "00eed4e1-a7bd-46c8-a563-862ce3c916d6    12233.250000   \n",
       "00ef3286-af82-49d8-9710-d4a087912bfc    12149.250000   \n",
       "...                                              ...   \n",
       "e88a413a-f5f0-473f-94e0-e33ebab998db     7888.633333   \n",
       "f9d9ad45-c603-413b-abdd-c2437efebd66      275.366667   \n",
       "fb3d6bc4-3c24-4790-ab5f-67585d94ca19    17047.150000   \n",
       "fbcbe348-8ef7-4c27-8b77-50b97d14c0af     9387.133333   \n",
       "fc1d6e36-b642-41b7-a302-218d24f3b991    18516.800000   \n",
       "\n",
       "                                      events_buildings_difference  \\\n",
       "user_id                                                             \n",
       "004074f8-251a-4776-922c-8348dca1a2f6                            1   \n",
       "00440efd-aa50-4b4b-aae8-ffcd1782729d                            0   \n",
       "0099a74d-bafc-404f-ae47-5c901a06d108                            0   \n",
       "00eed4e1-a7bd-46c8-a563-862ce3c916d6                            0   \n",
       "00ef3286-af82-49d8-9710-d4a087912bfc                            0   \n",
       "...                                                           ...   \n",
       "e88a413a-f5f0-473f-94e0-e33ebab998db                            1   \n",
       "f9d9ad45-c603-413b-abdd-c2437efebd66                            0   \n",
       "fb3d6bc4-3c24-4790-ab5f-67585d94ca19                            1   \n",
       "fbcbe348-8ef7-4c27-8b77-50b97d14c0af                            0   \n",
       "fc1d6e36-b642-41b7-a302-218d24f3b991                            0   \n",
       "\n",
       "                                                   complited  cost_for_user  \\\n",
       "user_id                                                                       \n",
       "004074f8-251a-4776-922c-8348dca1a2f6         without project       0.463137   \n",
       "00440efd-aa50-4b4b-aae8-ffcd1782729d  level is not complited       0.463137   \n",
       "0099a74d-bafc-404f-ae47-5c901a06d108  level is not complited       0.463137   \n",
       "00eed4e1-a7bd-46c8-a563-862ce3c916d6  level is not complited       0.463137   \n",
       "00ef3286-af82-49d8-9710-d4a087912bfc  level is not complited       0.463137   \n",
       "...                                                      ...            ...   \n",
       "e88a413a-f5f0-473f-94e0-e33ebab998db         without project            NaN   \n",
       "f9d9ad45-c603-413b-abdd-c2437efebd66  level is not complited            NaN   \n",
       "fb3d6bc4-3c24-4790-ab5f-67585d94ca19         without project            NaN   \n",
       "fbcbe348-8ef7-4c27-8b77-50b97d14c0af  level is not complited            NaN   \n",
       "fc1d6e36-b642-41b7-a302-218d24f3b991  level is not complited            NaN   \n",
       "\n",
       "                                      difference_days  amount_of_playing_days  \\\n",
       "user_id                                                                         \n",
       "004074f8-251a-4776-922c-8348dca1a2f6            12.78                       8   \n",
       "00440efd-aa50-4b4b-aae8-ffcd1782729d             5.13                       5   \n",
       "0099a74d-bafc-404f-ae47-5c901a06d108            10.22                       7   \n",
       "00eed4e1-a7bd-46c8-a563-862ce3c916d6             8.50                       5   \n",
       "00ef3286-af82-49d8-9710-d4a087912bfc             8.44                       7   \n",
       "...                                               ...                     ...   \n",
       "e88a413a-f5f0-473f-94e0-e33ebab998db             5.48                       3   \n",
       "f9d9ad45-c603-413b-abdd-c2437efebd66             0.19                       1   \n",
       "fb3d6bc4-3c24-4790-ab5f-67585d94ca19            11.84                       9   \n",
       "fbcbe348-8ef7-4c27-8b77-50b97d14c0af             6.52                       4   \n",
       "fc1d6e36-b642-41b7-a302-218d24f3b991            12.86                       5   \n",
       "\n",
       "                                      avg_events_amount_per_day  \n",
       "user_id                                                          \n",
       "004074f8-251a-4776-922c-8348dca1a2f6                   1.625000  \n",
       "00440efd-aa50-4b4b-aae8-ffcd1782729d                   1.400000  \n",
       "0099a74d-bafc-404f-ae47-5c901a06d108                   1.714286  \n",
       "00eed4e1-a7bd-46c8-a563-862ce3c916d6                   1.600000  \n",
       "00ef3286-af82-49d8-9710-d4a087912bfc                   1.428571  \n",
       "...                                                         ...  \n",
       "e88a413a-f5f0-473f-94e0-e33ebab998db                   1.666667  \n",
       "f9d9ad45-c603-413b-abdd-c2437efebd66                   2.000000  \n",
       "fb3d6bc4-3c24-4790-ab5f-67585d94ca19                   1.111111  \n",
       "fbcbe348-8ef7-4c27-8b77-50b97d14c0af                   1.250000  \n",
       "fc1d6e36-b642-41b7-a302-218d24f3b991                   1.400000  \n",
       "\n",
       "[13508 rows x 13 columns]"
      ]
     },
     "execution_count": 41,
     "metadata": {},
     "output_type": "execute_result"
    }
   ],
   "source": [
    "profile_final"
   ]
  },
  {
   "cell_type": "markdown",
   "metadata": {},
   "source": [
    "<b>Пострим boxplot параметра avg_events_amount_per_day по всем пользователям в разбивке по принципу complited:\n"
   ]
  },
  {
   "cell_type": "code",
   "execution_count": 42,
   "metadata": {},
   "outputs": [
    {
     "data": {
      "image/png": "[encoded data removed]",
      "text/plain": [
       "<Figure size 360x1080 with 1 Axes>"
      ]
     },
     "metadata": {
      "needs_background": "light"
     },
     "output_type": "display_data"
    }
   ],
   "source": [
    "\n",
    "fig,ax = plt.subplots(figsize = (5,15))\n",
    "sns.boxplot(y= \"avg_events_amount_per_day\", x = 'complited', data=profile_final)\n",
    "plt.grid()\n"
   ]
  },
  {
   "cell_type": "code",
   "execution_count": 43,
   "metadata": {},
   "outputs": [
    {
     "name": "stdout",
     "output_type": "stream",
     "text": [
      "without project\n"
     ]
    },
    {
     "data": {
      "text/plain": [
       "count    3944.000000\n",
       "mean        1.446654\n",
       "std         0.277468\n",
       "min         1.000000\n",
       "25%         1.250000\n",
       "50%         1.428571\n",
       "75%         1.606250\n",
       "max         3.000000\n",
       "Name: avg_events_amount_per_day, dtype: float64"
      ]
     },
     "metadata": {},
     "output_type": "display_data"
    },
    {
     "name": "stdout",
     "output_type": "stream",
     "text": [
      "level is not complited\n"
     ]
    },
    {
     "data": {
      "text/plain": [
       "count    7701.000000\n",
       "mean        1.371789\n",
       "std         0.306124\n",
       "min         1.000000\n",
       "25%         1.142857\n",
       "50%         1.333333\n",
       "75%         1.545455\n",
       "max         4.000000\n",
       "Name: avg_events_amount_per_day, dtype: float64"
      ]
     },
     "metadata": {},
     "output_type": "display_data"
    },
    {
     "name": "stdout",
     "output_type": "stream",
     "text": [
      "project\n"
     ]
    },
    {
     "data": {
      "text/plain": [
       "count    1863.000000\n",
       "mean        1.549654\n",
       "std         0.275066\n",
       "min         1.000000\n",
       "25%         1.333333\n",
       "50%         1.500000\n",
       "75%         1.700000\n",
       "max         3.200000\n",
       "Name: avg_events_amount_per_day, dtype: float64"
      ]
     },
     "metadata": {},
     "output_type": "display_data"
    }
   ],
   "source": [
    "describe('avg_events_amount_per_day')"
   ]
  },
  {
   "cell_type": "markdown",
   "metadata": {},
   "source": [
    "##### Вывод:\n",
    "Пользователи, проходящие уровень через реализацию проекта, в среднем совершают больше событий в день, чем те, что проходят уровень путем победы над другим игроком. Из графиков видно, что значения, превосходящие 3 можно отнести к выбросам."
   ]
  },
  {
   "cell_type": "markdown",
   "metadata": {},
   "source": [
    "\n",
    "<div class=\"alert alert-block alert-success\">\n",
    "    \n",
    "\n",
    "### Комментарий от тимлида\n",
    "Кажется, тем, кто выбрал проект, приходится строить очень много )\n",
    "</div>"
   ]
  },
  {
   "cell_type": "markdown",
   "metadata": {},
   "source": [
    "<a id = 'Section2.5'></a>\n",
    "##### Из тех, кто не завершил уровень выделим  тех пользователей, кто не успел его пройти за промежуток времени, за который присутствуют данные и тех, кто покинул игру окончательно. Приблизительно оценить, сколько пользователей потеряно."
   ]
  },
  {
   "cell_type": "markdown",
   "metadata": {},
   "source": [
    "<b>Посмотрим раз в какое количество дней игроки  совершfют события"
   ]
  },
  {
   "cell_type": "code",
   "execution_count": 44,
   "metadata": {},
   "outputs": [],
   "source": [
    "profile_final['frequency'] = (profile_final['difference_min']/60/24)/profile_final['amount_of_playing_days']"
   ]
  },
  {
   "cell_type": "markdown",
   "metadata": {},
   "source": [
    "<b>Посмотрим describe по этому параметру:"
   ]
  },
  {
   "cell_type": "code",
   "execution_count": 45,
   "metadata": {},
   "outputs": [
    {
     "name": "stdout",
     "output_type": "stream",
     "text": [
      "without project\n"
     ]
    },
    {
     "data": {
      "text/plain": [
       "count    3944.000000\n",
       "mean        1.540314\n",
       "std         0.456991\n",
       "min         0.201047\n",
       "25%         1.224371\n",
       "50%         1.462808\n",
       "75%         1.781260\n",
       "max         4.013146\n",
       "Name: frequency, dtype: float64"
      ]
     },
     "metadata": {},
     "output_type": "display_data"
    },
    {
     "name": "stdout",
     "output_type": "stream",
     "text": [
      "level is not complited\n"
     ]
    },
    {
     "data": {
      "text/plain": [
       "count    7701.000000\n",
       "mean        1.625460\n",
       "std         0.565036\n",
       "min         0.026007\n",
       "25%         1.235787\n",
       "50%         1.517030\n",
       "75%         1.905446\n",
       "max         4.565715\n",
       "Name: frequency, dtype: float64"
      ]
     },
     "metadata": {},
     "output_type": "display_data"
    },
    {
     "name": "stdout",
     "output_type": "stream",
     "text": [
      "project\n"
     ]
    },
    {
     "data": {
      "text/plain": [
       "count    1863.000000\n",
       "mean        1.400872\n",
       "std         0.303415\n",
       "min         0.734370\n",
       "25%         1.177945\n",
       "50%         1.353971\n",
       "75%         1.575077\n",
       "max         2.843675\n",
       "Name: frequency, dtype: float64"
      ]
     },
     "metadata": {},
     "output_type": "display_data"
    }
   ],
   "source": [
    "describe('frequency')"
   ]
  },
  {
   "cell_type": "markdown",
   "metadata": {},
   "source": [
    "<font color = 'purple'>В среднем пользователи заходят в приложение 1 раз в 1.5-2 дня. "
   ]
  },
  {
   "cell_type": "markdown",
   "metadata": {},
   "source": [
    "\n",
    "<div class=\"alert alert-block alert-success\">\n",
    "    \n",
    "\n",
    "### Комментарий от тимлида\n",
    "Неплохой показатель \n",
    "</div>"
   ]
  },
  {
   "cell_type": "markdown",
   "metadata": {},
   "source": [
    "<b>Cмотрим, за какой период времени у нас есть данные:"
   ]
  },
  {
   "cell_type": "code",
   "execution_count": 46,
   "metadata": {},
   "outputs": [
    {
     "data": {
      "text/plain": [
       "count                  135639\n",
       "unique                     33\n",
       "top       2020-05-10 00:00:00\n",
       "freq                    15207\n",
       "first     2020-05-04 00:00:00\n",
       "last      2020-06-05 00:00:00\n",
       "Name: date, dtype: object"
      ]
     },
     "execution_count": 46,
     "metadata": {},
     "output_type": "execute_result"
    }
   ],
   "source": [
    "game_actions['date'].describe()"
   ]
  },
  {
   "cell_type": "markdown",
   "metadata": {},
   "source": [
    "<b>Посчитаем сколько времени прошло с момента последнего события до 2020-06-05:"
   ]
  },
  {
   "cell_type": "code",
   "execution_count": 47,
   "metadata": {},
   "outputs": [],
   "source": [
    "data_end = game_actions['date'].max()\n",
    "profile_final['time_from_last_event_till_data_end'] =  (\n",
    "    profile_final['last_event'].apply(lambda x: (data_end - x)/np.timedelta64(1,'s')/60 )\n",
    ")"
   ]
  },
  {
   "cell_type": "markdown",
   "metadata": {},
   "source": [
    "<font color = 'purple'>Я бы предложила принять тот факт, что если значение столбца > 7 дней(10080 часов) у пользователя, который не завершил уровень, то его можно отнести к пользователям, которые покинули игру. Остальные же просто могли не успеть закончить уровень до 2020-06-05."
   ]
  },
  {
   "cell_type": "markdown",
   "metadata": {},
   "source": [
    "\n",
    "<div class=\"alert alert-block alert-success\">\n",
    "    \n",
    "\n",
    "### Комментарий от тимлида\n",
    "Можно было посмотреть например 95 персентиль или еще что-то. Но в целом видно, что это число с запасом от 75 персентиля, поэтому it's up to you какое пограничное значение выбрать) \n",
    "</div>"
   ]
  },
  {
   "cell_type": "markdown",
   "metadata": {},
   "source": [
    "<b>Выделим таких пользователей"
   ]
  },
  {
   "cell_type": "code",
   "execution_count": 48,
   "metadata": {},
   "outputs": [
    {
     "data": {
      "text/plain": [
       "7662"
      ]
     },
     "execution_count": 48,
     "metadata": {},
     "output_type": "execute_result"
    }
   ],
   "source": [
    "lost_users = (\n",
    "    profile_final.reset_index()\n",
    "    .query('(complited == \"level is not complited\") & (time_from_last_event_till_data_end > 10080)')['user_id']\n",
    "    .nunique()\n",
    ")\n",
    "lost_users"
   ]
  },
  {
   "cell_type": "markdown",
   "metadata": {},
   "source": [
    "<b>Посчитаем долю таких пользователей от тех, кто не закончил уровень и от всех пользователей:"
   ]
  },
  {
   "cell_type": "code",
   "execution_count": 49,
   "metadata": {},
   "outputs": [
    {
     "name": "stdout",
     "output_type": "stream",
     "text": [
      "Доля пользователей( от тех, кто не закончил уровень), покинувших игру окончательно: 0.9949357226334242\n",
      "Доля пользователей, покинувших игру окончательно: 0.5672194255256144\n"
     ]
    }
   ],
   "source": [
    "print(\n",
    "    'Доля пользователей( от тех, кто не закончил уровень), покинувших игру окончательно:'\n",
    "    ,lost_users/profile_final.reset_index().query('complited == \"level is not complited\"')['user_id'].nunique()\n",
    ")\n",
    "print(\n",
    "    'Доля пользователей, покинувших игру окончательно:'\n",
    "    ,lost_users/profile_final.reset_index()['user_id'].nunique()\n",
    ")"
   ]
  },
  {
   "cell_type": "markdown",
   "metadata": {},
   "source": [
    "<b>Проведем когортный анализ и посмотрим Retantion Rate. Когортой, будем, считать пользователей, пришедших  в один и тот же день. Изменения RR также будем смотреть ежедневно"
   ]
  },
  {
   "cell_type": "markdown",
   "metadata": {},
   "source": [
    "<b>Создаем когорты"
   ]
  },
  {
   "cell_type": "code",
   "execution_count": 50,
   "metadata": {},
   "outputs": [
    {
     "data": {
      "text/html": [
       "<div>\n",
       "<style scoped>\n",
       "    .dataframe tbody tr th:only-of-type {\n",
       "        vertical-align: middle;\n",
       "    }\n",
       "\n",
       "    .dataframe tbody tr th {\n",
       "        vertical-align: top;\n",
       "    }\n",
       "\n",
       "    .dataframe thead th {\n",
       "        text-align: right;\n",
       "    }\n",
       "</style>\n",
       "<table border=\"1\" class=\"dataframe\">\n",
       "  <thead>\n",
       "    <tr style=\"text-align: right;\">\n",
       "      <th></th>\n",
       "      <th>date</th>\n",
       "      <th>first_event_date</th>\n",
       "      <th>complited</th>\n",
       "    </tr>\n",
       "    <tr>\n",
       "      <th>user_id</th>\n",
       "      <th></th>\n",
       "      <th></th>\n",
       "      <th></th>\n",
       "    </tr>\n",
       "  </thead>\n",
       "  <tbody>\n",
       "    <tr>\n",
       "      <td>0001f83c-c6ac-4621-b7f0-8a28b283ac30</td>\n",
       "      <td>2020-05-06</td>\n",
       "      <td>2020-05-06</td>\n",
       "      <td>level is not complited</td>\n",
       "    </tr>\n",
       "    <tr>\n",
       "      <td>0001f83c-c6ac-4621-b7f0-8a28b283ac30</td>\n",
       "      <td>2020-05-06</td>\n",
       "      <td>2020-05-06</td>\n",
       "      <td>level is not complited</td>\n",
       "    </tr>\n",
       "    <tr>\n",
       "      <td>0001f83c-c6ac-4621-b7f0-8a28b283ac30</td>\n",
       "      <td>2020-05-06</td>\n",
       "      <td>2020-05-06</td>\n",
       "      <td>level is not complited</td>\n",
       "    </tr>\n",
       "    <tr>\n",
       "      <td>0001f83c-c6ac-4621-b7f0-8a28b283ac30</td>\n",
       "      <td>2020-05-09</td>\n",
       "      <td>2020-05-06</td>\n",
       "      <td>level is not complited</td>\n",
       "    </tr>\n",
       "    <tr>\n",
       "      <td>0001f83c-c6ac-4621-b7f0-8a28b283ac30</td>\n",
       "      <td>2020-05-09</td>\n",
       "      <td>2020-05-06</td>\n",
       "      <td>level is not complited</td>\n",
       "    </tr>\n",
       "    <tr>\n",
       "      <td>...</td>\n",
       "      <td>...</td>\n",
       "      <td>...</td>\n",
       "      <td>...</td>\n",
       "    </tr>\n",
       "    <tr>\n",
       "      <td>ffff69cc-fec1-4fd3-9f98-93be1112a6b8</td>\n",
       "      <td>2020-05-23</td>\n",
       "      <td>2020-05-08</td>\n",
       "      <td>project</td>\n",
       "    </tr>\n",
       "    <tr>\n",
       "      <td>ffff69cc-fec1-4fd3-9f98-93be1112a6b8</td>\n",
       "      <td>2020-05-24</td>\n",
       "      <td>2020-05-08</td>\n",
       "      <td>project</td>\n",
       "    </tr>\n",
       "    <tr>\n",
       "      <td>ffff69cc-fec1-4fd3-9f98-93be1112a6b8</td>\n",
       "      <td>2020-05-25</td>\n",
       "      <td>2020-05-08</td>\n",
       "      <td>project</td>\n",
       "    </tr>\n",
       "    <tr>\n",
       "      <td>ffff69cc-fec1-4fd3-9f98-93be1112a6b8</td>\n",
       "      <td>2020-05-25</td>\n",
       "      <td>2020-05-08</td>\n",
       "      <td>project</td>\n",
       "    </tr>\n",
       "    <tr>\n",
       "      <td>ffff69cc-fec1-4fd3-9f98-93be1112a6b8</td>\n",
       "      <td>2020-05-25</td>\n",
       "      <td>2020-05-08</td>\n",
       "      <td>project</td>\n",
       "    </tr>\n",
       "  </tbody>\n",
       "</table>\n",
       "<p>135639 rows × 3 columns</p>\n",
       "</div>"
      ],
      "text/plain": [
       "                                           date first_event_date  \\\n",
       "user_id                                                            \n",
       "0001f83c-c6ac-4621-b7f0-8a28b283ac30 2020-05-06       2020-05-06   \n",
       "0001f83c-c6ac-4621-b7f0-8a28b283ac30 2020-05-06       2020-05-06   \n",
       "0001f83c-c6ac-4621-b7f0-8a28b283ac30 2020-05-06       2020-05-06   \n",
       "0001f83c-c6ac-4621-b7f0-8a28b283ac30 2020-05-09       2020-05-06   \n",
       "0001f83c-c6ac-4621-b7f0-8a28b283ac30 2020-05-09       2020-05-06   \n",
       "...                                         ...              ...   \n",
       "ffff69cc-fec1-4fd3-9f98-93be1112a6b8 2020-05-23       2020-05-08   \n",
       "ffff69cc-fec1-4fd3-9f98-93be1112a6b8 2020-05-24       2020-05-08   \n",
       "ffff69cc-fec1-4fd3-9f98-93be1112a6b8 2020-05-25       2020-05-08   \n",
       "ffff69cc-fec1-4fd3-9f98-93be1112a6b8 2020-05-25       2020-05-08   \n",
       "ffff69cc-fec1-4fd3-9f98-93be1112a6b8 2020-05-25       2020-05-08   \n",
       "\n",
       "                                                   complited  \n",
       "user_id                                                       \n",
       "0001f83c-c6ac-4621-b7f0-8a28b283ac30  level is not complited  \n",
       "0001f83c-c6ac-4621-b7f0-8a28b283ac30  level is not complited  \n",
       "0001f83c-c6ac-4621-b7f0-8a28b283ac30  level is not complited  \n",
       "0001f83c-c6ac-4621-b7f0-8a28b283ac30  level is not complited  \n",
       "0001f83c-c6ac-4621-b7f0-8a28b283ac30  level is not complited  \n",
       "...                                                      ...  \n",
       "ffff69cc-fec1-4fd3-9f98-93be1112a6b8                 project  \n",
       "ffff69cc-fec1-4fd3-9f98-93be1112a6b8                 project  \n",
       "ffff69cc-fec1-4fd3-9f98-93be1112a6b8                 project  \n",
       "ffff69cc-fec1-4fd3-9f98-93be1112a6b8                 project  \n",
       "ffff69cc-fec1-4fd3-9f98-93be1112a6b8                 project  \n",
       "\n",
       "[135639 rows x 3 columns]"
      ]
     },
     "execution_count": 50,
     "metadata": {},
     "output_type": "execute_result"
    }
   ],
   "source": [
    "cohort = game_actions.set_index('user_id')[['date']].join(profile[['first_event_date','complited']], how = 'left')\n",
    "cohort"
   ]
  },
  {
   "cell_type": "markdown",
   "metadata": {},
   "source": [
    "<b>Считаем вермя жизни когорты"
   ]
  },
  {
   "cell_type": "code",
   "execution_count": 51,
   "metadata": {},
   "outputs": [],
   "source": [
    "cohort['lifetime'] = ((cohort['date'] - cohort['first_event_date'])/np.timedelta64(1,'s')/60/60/24).astype('int')\n",
    "#cohort.reset_index().pivot_table(index = 'first_event_date', columns = 'lifetime', values = 'user_id' , aggfunc = 'nunique')"
   ]
  },
  {
   "cell_type": "code",
   "execution_count": 52,
   "metadata": {},
   "outputs": [
    {
     "data": {
      "text/html": [
       "<div>\n",
       "<style scoped>\n",
       "    .dataframe tbody tr th:only-of-type {\n",
       "        vertical-align: middle;\n",
       "    }\n",
       "\n",
       "    .dataframe tbody tr th {\n",
       "        vertical-align: top;\n",
       "    }\n",
       "\n",
       "    .dataframe thead th {\n",
       "        text-align: right;\n",
       "    }\n",
       "</style>\n",
       "<table border=\"1\" class=\"dataframe\">\n",
       "  <thead>\n",
       "    <tr style=\"text-align: right;\">\n",
       "      <th></th>\n",
       "      <th>first_event_date</th>\n",
       "      <th>lifetime</th>\n",
       "      <th>user_id</th>\n",
       "    </tr>\n",
       "  </thead>\n",
       "  <tbody>\n",
       "    <tr>\n",
       "      <td>0</td>\n",
       "      <td>2020-05-04</td>\n",
       "      <td>0</td>\n",
       "      <td>5860</td>\n",
       "    </tr>\n",
       "    <tr>\n",
       "      <td>1</td>\n",
       "      <td>2020-05-04</td>\n",
       "      <td>1</td>\n",
       "      <td>3021</td>\n",
       "    </tr>\n",
       "    <tr>\n",
       "      <td>2</td>\n",
       "      <td>2020-05-04</td>\n",
       "      <td>2</td>\n",
       "      <td>3204</td>\n",
       "    </tr>\n",
       "    <tr>\n",
       "      <td>3</td>\n",
       "      <td>2020-05-04</td>\n",
       "      <td>3</td>\n",
       "      <td>3412</td>\n",
       "    </tr>\n",
       "    <tr>\n",
       "      <td>4</td>\n",
       "      <td>2020-05-04</td>\n",
       "      <td>4</td>\n",
       "      <td>3564</td>\n",
       "    </tr>\n",
       "    <tr>\n",
       "      <td>...</td>\n",
       "      <td>...</td>\n",
       "      <td>...</td>\n",
       "      <td>...</td>\n",
       "    </tr>\n",
       "    <tr>\n",
       "      <td>194</td>\n",
       "      <td>2020-05-10</td>\n",
       "      <td>19</td>\n",
       "      <td>7</td>\n",
       "    </tr>\n",
       "    <tr>\n",
       "      <td>195</td>\n",
       "      <td>2020-05-10</td>\n",
       "      <td>20</td>\n",
       "      <td>3</td>\n",
       "    </tr>\n",
       "    <tr>\n",
       "      <td>196</td>\n",
       "      <td>2020-05-10</td>\n",
       "      <td>21</td>\n",
       "      <td>1</td>\n",
       "    </tr>\n",
       "    <tr>\n",
       "      <td>197</td>\n",
       "      <td>2020-05-10</td>\n",
       "      <td>22</td>\n",
       "      <td>1</td>\n",
       "    </tr>\n",
       "    <tr>\n",
       "      <td>198</td>\n",
       "      <td>2020-05-10</td>\n",
       "      <td>23</td>\n",
       "      <td>1</td>\n",
       "    </tr>\n",
       "  </tbody>\n",
       "</table>\n",
       "<p>199 rows × 3 columns</p>\n",
       "</div>"
      ],
      "text/plain": [
       "    first_event_date  lifetime  user_id\n",
       "0         2020-05-04         0     5860\n",
       "1         2020-05-04         1     3021\n",
       "2         2020-05-04         2     3204\n",
       "3         2020-05-04         3     3412\n",
       "4         2020-05-04         4     3564\n",
       "..               ...       ...      ...\n",
       "194       2020-05-10        19        7\n",
       "195       2020-05-10        20        3\n",
       "196       2020-05-10        21        1\n",
       "197       2020-05-10        22        1\n",
       "198       2020-05-10        23        1\n",
       "\n",
       "[199 rows x 3 columns]"
      ]
     },
     "execution_count": 52,
     "metadata": {},
     "output_type": "execute_result"
    }
   ],
   "source": [
    "cohort_grouped = cohort.reset_index().groupby(['first_event_date','lifetime'])['user_id'].nunique().reset_index()\n",
    "cohort_grouped"
   ]
  },
  {
   "cell_type": "markdown",
   "metadata": {},
   "source": [
    "<b>Смотрим изначальное число пользователей в когорте"
   ]
  },
  {
   "cell_type": "code",
   "execution_count": 53,
   "metadata": {},
   "outputs": [
    {
     "name": "stdout",
     "output_type": "stream",
     "text": [
      "    first_event_date  cohort_users\n",
      "0         2020-05-04          5860\n",
      "32        2020-05-05          3361\n",
      "61        2020-05-06          1847\n",
      "92        2020-05-07          1109\n",
      "122       2020-05-08           688\n",
      "149       2020-05-09           440\n",
      "175       2020-05-10           271\n"
     ]
    }
   ],
   "source": [
    "initial_users_count = cohort_grouped[cohort_grouped['lifetime'] == 0][['first_event_date','user_id']].rename(columns={'user_id':'cohort_users'}) \n",
    "print(initial_users_count) "
   ]
  },
  {
   "cell_type": "code",
   "execution_count": 54,
   "metadata": {},
   "outputs": [
    {
     "data": {
      "text/html": [
       "<div>\n",
       "<style scoped>\n",
       "    .dataframe tbody tr th:only-of-type {\n",
       "        vertical-align: middle;\n",
       "    }\n",
       "\n",
       "    .dataframe tbody tr th {\n",
       "        vertical-align: top;\n",
       "    }\n",
       "\n",
       "    .dataframe thead th {\n",
       "        text-align: right;\n",
       "    }\n",
       "</style>\n",
       "<table border=\"1\" class=\"dataframe\">\n",
       "  <thead>\n",
       "    <tr style=\"text-align: right;\">\n",
       "      <th></th>\n",
       "      <th>first_event_date</th>\n",
       "      <th>lifetime</th>\n",
       "      <th>user_id</th>\n",
       "      <th>cohort_users</th>\n",
       "    </tr>\n",
       "  </thead>\n",
       "  <tbody>\n",
       "    <tr>\n",
       "      <td>0</td>\n",
       "      <td>2020-05-04</td>\n",
       "      <td>0</td>\n",
       "      <td>5860</td>\n",
       "      <td>5860</td>\n",
       "    </tr>\n",
       "    <tr>\n",
       "      <td>1</td>\n",
       "      <td>2020-05-04</td>\n",
       "      <td>1</td>\n",
       "      <td>3021</td>\n",
       "      <td>5860</td>\n",
       "    </tr>\n",
       "    <tr>\n",
       "      <td>2</td>\n",
       "      <td>2020-05-04</td>\n",
       "      <td>2</td>\n",
       "      <td>3204</td>\n",
       "      <td>5860</td>\n",
       "    </tr>\n",
       "    <tr>\n",
       "      <td>3</td>\n",
       "      <td>2020-05-04</td>\n",
       "      <td>3</td>\n",
       "      <td>3412</td>\n",
       "      <td>5860</td>\n",
       "    </tr>\n",
       "    <tr>\n",
       "      <td>4</td>\n",
       "      <td>2020-05-04</td>\n",
       "      <td>4</td>\n",
       "      <td>3564</td>\n",
       "      <td>5860</td>\n",
       "    </tr>\n",
       "    <tr>\n",
       "      <td>...</td>\n",
       "      <td>...</td>\n",
       "      <td>...</td>\n",
       "      <td>...</td>\n",
       "      <td>...</td>\n",
       "    </tr>\n",
       "    <tr>\n",
       "      <td>194</td>\n",
       "      <td>2020-05-10</td>\n",
       "      <td>19</td>\n",
       "      <td>7</td>\n",
       "      <td>271</td>\n",
       "    </tr>\n",
       "    <tr>\n",
       "      <td>195</td>\n",
       "      <td>2020-05-10</td>\n",
       "      <td>20</td>\n",
       "      <td>3</td>\n",
       "      <td>271</td>\n",
       "    </tr>\n",
       "    <tr>\n",
       "      <td>196</td>\n",
       "      <td>2020-05-10</td>\n",
       "      <td>21</td>\n",
       "      <td>1</td>\n",
       "      <td>271</td>\n",
       "    </tr>\n",
       "    <tr>\n",
       "      <td>197</td>\n",
       "      <td>2020-05-10</td>\n",
       "      <td>22</td>\n",
       "      <td>1</td>\n",
       "      <td>271</td>\n",
       "    </tr>\n",
       "    <tr>\n",
       "      <td>198</td>\n",
       "      <td>2020-05-10</td>\n",
       "      <td>23</td>\n",
       "      <td>1</td>\n",
       "      <td>271</td>\n",
       "    </tr>\n",
       "  </tbody>\n",
       "</table>\n",
       "<p>199 rows × 4 columns</p>\n",
       "</div>"
      ],
      "text/plain": [
       "    first_event_date  lifetime  user_id  cohort_users\n",
       "0         2020-05-04         0     5860          5860\n",
       "1         2020-05-04         1     3021          5860\n",
       "2         2020-05-04         2     3204          5860\n",
       "3         2020-05-04         3     3412          5860\n",
       "4         2020-05-04         4     3564          5860\n",
       "..               ...       ...      ...           ...\n",
       "194       2020-05-10        19        7           271\n",
       "195       2020-05-10        20        3           271\n",
       "196       2020-05-10        21        1           271\n",
       "197       2020-05-10        22        1           271\n",
       "198       2020-05-10        23        1           271\n",
       "\n",
       "[199 rows x 4 columns]"
      ]
     },
     "execution_count": 54,
     "metadata": {},
     "output_type": "execute_result"
    }
   ],
   "source": [
    "cohort_grouped = cohort_grouped.merge(initial_users_count,on='first_event_date') \n",
    "cohort_grouped "
   ]
  },
  {
   "cell_type": "code",
   "execution_count": 55,
   "metadata": {},
   "outputs": [],
   "source": [
    "cohort_grouped['first_event_date'] = cohort_grouped['first_event_date'].dt.date"
   ]
  },
  {
   "cell_type": "markdown",
   "metadata": {},
   "source": [
    "<b>Считаем retention"
   ]
  },
  {
   "cell_type": "code",
   "execution_count": 56,
   "metadata": {},
   "outputs": [],
   "source": [
    "cohort_grouped['retention'] = cohort_grouped['user_id']/cohort_grouped['cohort_users'] \n",
    "retention_pivot = cohort_grouped.pivot_table(index ='first_event_date',columns='lifetime',values='retention',aggfunc='sum') "
   ]
  },
  {
   "cell_type": "code",
   "execution_count": 57,
   "metadata": {},
   "outputs": [
    {
     "data": {
      "text/plain": [
       "<matplotlib.axes._subplots.AxesSubplot at 0x7f6da9b6e410>"
      ]
     },
     "execution_count": 57,
     "metadata": {},
     "output_type": "execute_result"
    },
    {
     "data": {
      "image/png": "[encoded data removed]",
      "text/plain": [
       "<Figure size 2160x1080 with 2 Axes>"
      ]
     },
     "metadata": {},
     "output_type": "display_data"
    }
   ],
   "source": [
    "sns.set(style='white')\n",
    "plt.figure(figsize=(30, 15))\n",
    "plt.title('Cohorts: User Retention')\n",
    "sns.heatmap(retention_pivot, annot=True, fmt='.0%', linewidths=1, linecolor='gray')"
   ]
  },
  {
   "cell_type": "markdown",
   "metadata": {},
   "source": [
    "##### Вывод: \n",
    "Из исследования, проведенного выше можно сделать неутешительный вывод о том, что игру покидает более половины пользователей, не закончив первый уровень.)))<br>\n",
    "После проведения когортного анализа видно, что:\n",
    "1. У пользователей 1 когорты наиболее высокие показатели RR\n",
    "2. Во всех когортах RR снижается до 1 % к 21 дню жизни\n",
    "3. Видно, что по всем когортам заметный спад RR происходит в один и тот же календарный день, а именно 2020-05-10. Нужно посмотреть, какие события могли его спровоцировать.  "
   ]
  },
  {
   "cell_type": "markdown",
   "metadata": {},
   "source": [
    "\n",
    "<div class=\"alert alert-block alert-warning\">\n",
    "    \n",
    "\n",
    "### Комментарий от тимлида\n",
    "Классные рассчеты. А вывод грустный. (Мем смешной. Ситуация страшная)\n",
    "Тут бы здорово и наглядно смотрелся Retention heatmap \n",
    "</div>"
   ]
  },
  {
   "cell_type": "markdown",
   "metadata": {},
   "source": [
    "### Часть 3. Статистический анализ"
   ]
  },
  {
   "cell_type": "markdown",
   "metadata": {},
   "source": [
    "<a id = 'Section3.1'></a>\n",
    "##### Проверка гипотез 1:\n",
    "* HO - время прохождения уровня у пользователей, которые заканчивают уровень через реализацию проекта, не отличается от времени  пользователей, которые заканчивают уровень победой над другим игроком.\n",
    "* Н1 - время прохождения уровня различается у пользователей разных групп"
   ]
  },
  {
   "cell_type": "markdown",
   "metadata": {},
   "source": [
    "<b>Напомним значения по выборкам:"
   ]
  },
  {
   "cell_type": "code",
   "execution_count": 58,
   "metadata": {},
   "outputs": [
    {
     "name": "stdout",
     "output_type": "stream",
     "text": [
      "without project\n"
     ]
    },
    {
     "data": {
      "text/plain": [
       "count     3944.000000\n",
       "mean     15942.240437\n",
       "std       5790.943692\n",
       "min        579.016667\n",
       "25%      11939.950000\n",
       "50%      15525.083333\n",
       "75%      19344.850000\n",
       "max      39446.033333\n",
       "Name: difference_min, dtype: float64"
      ]
     },
     "metadata": {},
     "output_type": "display_data"
    },
    {
     "name": "stdout",
     "output_type": "stream",
     "text": [
      "level is not complited\n"
     ]
    },
    {
     "data": {
      "text/plain": [
       "count     7701.000000\n",
       "mean     14195.688612\n",
       "std       6152.363859\n",
       "min         37.450000\n",
       "25%       9639.366667\n",
       "50%      13883.616667\n",
       "75%      18017.916667\n",
       "max      38220.516667\n",
       "Name: difference_min, dtype: float64"
      ]
     },
     "metadata": {},
     "output_type": "display_data"
    },
    {
     "name": "stdout",
     "output_type": "stream",
     "text": [
      "project\n"
     ]
    },
    {
     "data": {
      "text/plain": [
       "count     1863.000000\n",
       "mean     19345.152442\n",
       "std       4976.165324\n",
       "min       7402.450000\n",
       "25%      15768.758333\n",
       "50%      18754.400000\n",
       "75%      22404.783333\n",
       "max      39660.566667\n",
       "Name: difference_min, dtype: float64"
      ]
     },
     "metadata": {},
     "output_type": "display_data"
    }
   ],
   "source": [
    "describe('difference_min')"
   ]
  },
  {
   "cell_type": "markdown",
   "metadata": {},
   "source": [
    "<font color = 'purple'>Для проверки гипотез применим непараметрический тест Уилкоксона-Манна-Уитни"
   ]
  },
  {
   "cell_type": "code",
   "execution_count": 59,
   "metadata": {},
   "outputs": [
    {
     "name": "stdout",
     "output_type": "stream",
     "text": [
      "p-значение:  1.3035518594845401e-107\n",
      "Отвергаем нулевую гипотезу: разница статистически значима\n"
     ]
    }
   ],
   "source": [
    "alpha = .05 # критический уровень статистической значимости\n",
    "\n",
    "results = st.mannwhitneyu(profile_final.query('complited == \"project\"')['difference_min'],profile_final.query('complited == \"without project\"')['difference_min'])\n",
    "\n",
    "print('p-значение: ', results.pvalue)\n",
    "\n",
    "if (results.pvalue < alpha):\n",
    "    print(\"Отвергаем нулевую гипотезу: разница статистически значима\")\n",
    "else:\n",
    "    print(\"Не получилось отвергнуть нулевую гипотезу, вывод о различии сделать нельзя\") "
   ]
  },
  {
   "cell_type": "markdown",
   "metadata": {},
   "source": [
    "##### Вывод: \n",
    "Получена статистически значимая разница между временем, требующимся на прохождение уровня по разным сценариям. При реализации проекта это время больше, чем при победе над другим игроком."
   ]
  },
  {
   "cell_type": "markdown",
   "metadata": {},
   "source": [
    "\n",
    "<div class=\"alert alert-block alert-success\">\n",
    "    \n",
    "\n",
    "### Комментарий от тимлида\n",
    "Кажется в нашей игре есть оптимальная стратегия прохождения первого уровня\n",
    "</div>"
   ]
  },
  {
   "cell_type": "markdown",
   "metadata": {},
   "source": [
    "<a id = 'Section3.2'></a>\n",
    "##### Проверка гипотез 2:\n",
    "* Н0 - количество построек у пользователей обеих групп не различается\n",
    "* Н1 - количество построек различно"
   ]
  },
  {
   "cell_type": "code",
   "execution_count": 60,
   "metadata": {},
   "outputs": [
    {
     "name": "stdout",
     "output_type": "stream",
     "text": [
      "without project\n"
     ]
    },
    {
     "data": {
      "text/plain": [
       "count    3944.000000\n",
       "mean        9.407201\n",
       "std         3.059062\n",
       "min         2.000000\n",
       "25%         8.000000\n",
       "50%        10.000000\n",
       "75%        12.000000\n",
       "max        19.000000\n",
       "Name: buildings_amount, dtype: float64"
      ]
     },
     "metadata": {},
     "output_type": "display_data"
    },
    {
     "name": "stdout",
     "output_type": "stream",
     "text": [
      "level is not complited\n"
     ]
    },
    {
     "data": {
      "text/plain": [
       "count    7701.000000\n",
       "mean        8.713414\n",
       "std         4.098123\n",
       "min         2.000000\n",
       "25%         5.000000\n",
       "50%         9.000000\n",
       "75%        12.000000\n",
       "max        20.000000\n",
       "Name: buildings_amount, dtype: float64"
      ]
     },
     "metadata": {},
     "output_type": "display_data"
    },
    {
     "name": "stdout",
     "output_type": "stream",
     "text": [
      "project\n"
     ]
    },
    {
     "data": {
      "text/plain": [
       "count    1863.000000\n",
       "mean       12.647343\n",
       "std         2.163225\n",
       "min        10.000000\n",
       "25%        11.000000\n",
       "50%        12.000000\n",
       "75%        14.000000\n",
       "max        20.000000\n",
       "Name: buildings_amount, dtype: float64"
      ]
     },
     "metadata": {},
     "output_type": "display_data"
    }
   ],
   "source": [
    "describe('buildings_amount')"
   ]
  },
  {
   "cell_type": "code",
   "execution_count": 61,
   "metadata": {},
   "outputs": [
    {
     "name": "stdout",
     "output_type": "stream",
     "text": [
      "p-значение:  2.090877648516665e-305\n",
      "Отвергаем нулевую гипотезу: разница статистически значима\n"
     ]
    }
   ],
   "source": [
    "results =st.mannwhitneyu(profile_final.query('complited == \"project\"')['buildings_amount'],profile_final.query('complited == \"without project\"')['buildings_amount'])\n",
    "\n",
    "print('p-значение: ', results.pvalue)\n",
    "\n",
    "if (results.pvalue < alpha):\n",
    "    print(\"Отвергаем нулевую гипотезу: разница статистически значима\")\n",
    "else:\n",
    "    print(\"Не получилось отвергнуть нулевую гипотезу, вывод о различии сделать нельзя\") "
   ]
  },
  {
   "cell_type": "markdown",
   "metadata": {},
   "source": [
    "##### Вывод: \n",
    "Разница между количеством построек статистически значима. При реализации проекта игроки строят больше построек, чем при победе над другим игроком."
   ]
  },
  {
   "cell_type": "markdown",
   "metadata": {},
   "source": [
    "\n",
    "<div class=\"alert alert-block alert-success\">\n",
    "    \n",
    "\n",
    "### Комментарий от тимлида\n",
    "И еще раз в этом убедимся) Завершать проект энергетически не выгодно - придется тратить больше сил и времени на постройки\n",
    "</div>"
   ]
  },
  {
   "cell_type": "markdown",
   "metadata": {},
   "source": [
    "### Часть 4. Создание модели монетизации"
   ]
  },
  {
   "cell_type": "markdown",
   "metadata": {},
   "source": [
    "<a id = 'Section4.1'></a>\n",
    "##### Посчитать общие маркетинговые затраты"
   ]
  },
  {
   "cell_type": "code",
   "execution_count": 62,
   "metadata": {},
   "outputs": [
    {
     "data": {
      "text/plain": [
       "4301.1251465039395"
      ]
     },
     "execution_count": 62,
     "metadata": {},
     "output_type": "execute_result"
    }
   ],
   "source": [
    "costs_for_all_users = profile['cost_for_user'].sum()\n",
    "costs_for_all_users"
   ]
  },
  {
   "cell_type": "code",
   "execution_count": 63,
   "metadata": {},
   "outputs": [
    {
     "data": {
      "text/plain": [
       "7603.576986788022"
      ]
     },
     "execution_count": 63,
     "metadata": {},
     "output_type": "execute_result"
    }
   ],
   "source": [
    "ad_costs['cost'].sum()"
   ]
  },
  {
   "cell_type": "markdown",
   "metadata": {},
   "source": [
    "<font color = 'purple'>Видим, что значения не совпадают. Проверим, за какой период предоставлены данные:"
   ]
  },
  {
   "cell_type": "code",
   "execution_count": 64,
   "metadata": {},
   "outputs": [
    {
     "data": {
      "text/plain": [
       "count                      28\n",
       "unique                      7\n",
       "top       2020-05-08 00:00:00\n",
       "freq                        4\n",
       "first     2020-05-03 00:00:00\n",
       "last      2020-05-09 00:00:00\n",
       "Name: day, dtype: object"
      ]
     },
     "execution_count": 64,
     "metadata": {},
     "output_type": "execute_result"
    }
   ],
   "source": [
    "ad_costs['day'].describe()"
   ]
  },
  {
   "cell_type": "code",
   "execution_count": 65,
   "metadata": {},
   "outputs": [
    {
     "data": {
      "text/plain": [
       "count                   13576\n",
       "unique                      7\n",
       "top       2020-05-04 00:00:00\n",
       "freq                     5860\n",
       "first     2020-05-04 00:00:00\n",
       "last      2020-05-10 00:00:00\n",
       "Name: first_event_date, dtype: object"
      ]
     },
     "execution_count": 65,
     "metadata": {},
     "output_type": "execute_result"
    }
   ],
   "source": [
    "profile['first_event_date'].describe()"
   ]
  },
  {
   "cell_type": "markdown",
   "metadata": {},
   "source": [
    "<font color = 'purple'>Временные границы не совпадают, значит, для расчетов необходимо убрать затраты за 2020-05-03, а из таблицы profile убрать пользователей, пришедших 2020-05-10 .<br>\n",
    "Итоговая сумма на привлечение наших пользователей 4301 руб)"
   ]
  },
  {
   "cell_type": "markdown",
   "metadata": {},
   "source": [
    "\n",
    "<div class=\"alert alert-block alert-warning\">\n",
    "    \n",
    "\n",
    "### Комментарий от тимлида\n",
    "Как вариант. А возможно даты привлечения и даты построек не так прямо связаны ;) Например, я установила игру, но первую постройку завела в ней только через сутки/двое/неделю.\n",
    "    \n",
    "Не буду считать ошибкой, так как мне тоже ничего об этом не известно)) Просто хочу обратить твое внимание\n",
    "</div>"
   ]
  },
  {
   "cell_type": "markdown",
   "metadata": {},
   "source": [
    "##### Посчитать минимальный cpm(цена за 1000 просмотров) для того, чтобы покрыть маркетинговые затраты. Сравнить его со средним cpm по отрасли."
   ]
  },
  {
   "cell_type": "markdown",
   "metadata": {},
   "source": [
    "<b>В данном случае речь пойдет о таком виде рекламы как баннер, который постоянно находится на странице с выбором постройки"
   ]
  },
  {
   "cell_type": "markdown",
   "metadata": {},
   "source": [
    "<font color = 'purple'>Будем исходить из среднего cpm для Восточной Европы, который на платформе Андроид составляет 0.21$ по данным из сети."
   ]
  },
  {
   "cell_type": "markdown",
   "metadata": {},
   "source": [
    "\n",
    "<div class=\"alert alert-block alert-success\">\n",
    "    \n",
    "\n",
    "### Комментарий от тимлида\n",
    "Окей)\n",
    "</div>"
   ]
  },
  {
   "cell_type": "markdown",
   "metadata": {},
   "source": [
    "<a id = 'Section4.2.1'></a>\n",
    "##### Сценарий 1 :\n",
    "Считаем, что баннер мы можем показывать, начиная с первого захода игрока на страницу с постройками, т.к. он не отвлекает от игорового процесса и является наименее раздражающим)))"
   ]
  },
  {
   "cell_type": "markdown",
   "metadata": {},
   "source": [
    "<b>Посмотрим, сколько раз игроки заходили на страницу с постройками:"
   ]
  },
  {
   "cell_type": "markdown",
   "metadata": {},
   "source": [
    "<font color = 'purple'>Для расчетов будеи использовать данные обо ВСЕХ игроках, привлеченных во временной интервал, соответсвующий периоду, за который есть данные о расходах."
   ]
  },
  {
   "cell_type": "code",
   "execution_count": 66,
   "metadata": {},
   "outputs": [
    {
     "data": {
      "text/plain": [
       "126367"
      ]
     },
     "execution_count": 66,
     "metadata": {},
     "output_type": "execute_result"
    }
   ],
   "source": [
    "user_ids = profile.reset_index().query('first_event_date < \"2020-05-10\"')['user_id'].unique()\n",
    "users_for_marketing_calculations = game_actions.query('user_id in @user_ids')\n",
    "number_of_views = users_for_marketing_calculations.query('event == \"building\"')['event'].count()\n",
    "number_of_views"
   ]
  },
  {
   "cell_type": "markdown",
   "metadata": {},
   "source": [
    "<b>Считаем минимальный cpm, чтобы покрыть затраты:"
   ]
  },
  {
   "cell_type": "code",
   "execution_count": 67,
   "metadata": {},
   "outputs": [
    {
     "name": "stdout",
     "output_type": "stream",
     "text": [
      "Минимальный cpm должен составить  34.04 руб\n"
     ]
    }
   ],
   "source": [
    "cpm_min = costs_for_all_users/(number_of_views/1000)\n",
    "print('Минимальный cpm должен составить ',cpm_min.round(2), 'руб')"
   ]
  },
  {
   "cell_type": "markdown",
   "metadata": {},
   "source": [
    "<b>Смотим курс валют на 2020-05-04:"
   ]
  },
  {
   "cell_type": "code",
   "execution_count": 68,
   "metadata": {},
   "outputs": [
    {
     "data": {
      "text/plain": [
       "Decimal('72.7263')"
      ]
     },
     "execution_count": 68,
     "metadata": {},
     "output_type": "execute_result"
    }
   ],
   "source": [
    "rates = ExchangeRates('2020-05-04')\n",
    "\n",
    "rates.date_requested  \n",
    "rates.date_received  \n",
    "rates.dates_match  \n",
    "rates['USD'].name \n",
    "rate = rates['USD']\n",
    "rate.value"
   ]
  },
  {
   "cell_type": "markdown",
   "metadata": {},
   "source": [
    "\n",
    "<div class=\"alert alert-block alert-success\">\n",
    "    \n",
    "\n",
    "### Комментарий от тимлида\n",
    "Мое увожение за такую находку, а не простое деление/умножение хардкодом (мем \"not bad\")\n",
    "</div>"
   ]
  },
  {
   "cell_type": "code",
   "execution_count": 69,
   "metadata": {},
   "outputs": [
    {
     "name": "stdout",
     "output_type": "stream",
     "text": [
      "Минимальный cpm должен составить  0.47 $\n"
     ]
    }
   ],
   "source": [
    "print('Минимальный cpm должен составить ',round(cpm_min.round().astype('int')/rate.value , 2), '$')"
   ]
  },
  {
   "cell_type": "markdown",
   "metadata": {},
   "source": [
    "Нам это не подходит, т.к. наша минимальная цена в 2 раза выше средней."
   ]
  },
  {
   "cell_type": "markdown",
   "metadata": {},
   "source": [
    "<b>Посчитаем  разницу между затратами и доходами в случае, если cpm составит 0.21$"
   ]
  },
  {
   "cell_type": "code",
   "execution_count": 70,
   "metadata": {},
   "outputs": [
    {
     "name": "stdout",
     "output_type": "stream",
     "text": [
      "На баннере мы заработаем:  1964 руб\n",
      "Разница между доходами и затратами в случае, если cpm составит 0.21$: -2337\n"
     ]
    }
   ],
   "source": [
    "revenue_banner_1 =  round(((number_of_views * 0.21)/1000).round().astype('int')*rate.value)\n",
    "print('На баннере мы заработаем: ', revenue_banner_1,'руб')\n",
    "print('Разница между доходами и затратами в случае, если cpm составит 0.21$:', round(revenue_banner_1 - costs_for_all_users)) "
   ]
  },
  {
   "cell_type": "markdown",
   "metadata": {},
   "source": [
    "\n",
    "<div class=\"alert alert-block alert-success\">\n",
    "    \n",
    "\n",
    "### Комментарий от тимлида\n",
    "Частично отбить затраты - уже неплохо. Учитывая, что в нашей игре не один уровень, есть шансы окупиться\n",
    "</div>"
   ]
  },
  {
   "cell_type": "markdown",
   "metadata": {},
   "source": [
    "<a id = 'Section4.2.2'></a>\n",
    "##### Сценарий 2"
   ]
  },
  {
   "cell_type": "markdown",
   "metadata": {},
   "source": [
    "Считаем , что баннер мы начинаем показывать с момента достижения пользователем порога вовлеченности, который составил 6 построек"
   ]
  },
  {
   "cell_type": "markdown",
   "metadata": {},
   "source": [
    "<b>Посчитаем количество просмотров страницы с постройками после достижения порога вовлеченности:"
   ]
  },
  {
   "cell_type": "code",
   "execution_count": 71,
   "metadata": {},
   "outputs": [
    {
     "data": {
      "text/html": [
       "<div>\n",
       "<style scoped>\n",
       "    .dataframe tbody tr th:only-of-type {\n",
       "        vertical-align: middle;\n",
       "    }\n",
       "\n",
       "    .dataframe tbody tr th {\n",
       "        vertical-align: top;\n",
       "    }\n",
       "\n",
       "    .dataframe thead th {\n",
       "        text-align: right;\n",
       "    }\n",
       "</style>\n",
       "<table border=\"1\" class=\"dataframe\">\n",
       "  <thead>\n",
       "    <tr style=\"text-align: right;\">\n",
       "      <th></th>\n",
       "      <th>user_id</th>\n",
       "      <th>event</th>\n",
       "    </tr>\n",
       "  </thead>\n",
       "  <tbody>\n",
       "    <tr>\n",
       "      <td>0</td>\n",
       "      <td>0001f83c-c6ac-4621-b7f0-8a28b283ac30</td>\n",
       "      <td>7</td>\n",
       "    </tr>\n",
       "    <tr>\n",
       "      <td>1</td>\n",
       "      <td>00151b4f-ba38-44a8-a650-d7cf130a0105</td>\n",
       "      <td>3</td>\n",
       "    </tr>\n",
       "    <tr>\n",
       "      <td>2</td>\n",
       "      <td>001aaea6-3d14-43f1-8ca8-7f48820f17aa</td>\n",
       "      <td>-2</td>\n",
       "    </tr>\n",
       "    <tr>\n",
       "      <td>3</td>\n",
       "      <td>001d39dc-366c-4021-9604-6a3b9ff01e25</td>\n",
       "      <td>2</td>\n",
       "    </tr>\n",
       "    <tr>\n",
       "      <td>4</td>\n",
       "      <td>002f508f-67b6-479f-814b-b05f00d4e995</td>\n",
       "      <td>6</td>\n",
       "    </tr>\n",
       "    <tr>\n",
       "      <td>...</td>\n",
       "      <td>...</td>\n",
       "      <td>...</td>\n",
       "    </tr>\n",
       "    <tr>\n",
       "      <td>13300</td>\n",
       "      <td>ffef4fed-164c-40e1-bde1-3980f76d0fb5</td>\n",
       "      <td>3</td>\n",
       "    </tr>\n",
       "    <tr>\n",
       "      <td>13301</td>\n",
       "      <td>fffab3da-da0e-4e30-ae62-10d0a2e24a4e</td>\n",
       "      <td>10</td>\n",
       "    </tr>\n",
       "    <tr>\n",
       "      <td>13302</td>\n",
       "      <td>fffb626c-5ab6-47c9-8113-2062a2f18494</td>\n",
       "      <td>3</td>\n",
       "    </tr>\n",
       "    <tr>\n",
       "      <td>13303</td>\n",
       "      <td>ffff194a-56b7-4c12-860d-3485242ae7f5</td>\n",
       "      <td>1</td>\n",
       "    </tr>\n",
       "    <tr>\n",
       "      <td>13304</td>\n",
       "      <td>ffff69cc-fec1-4fd3-9f98-93be1112a6b8</td>\n",
       "      <td>6</td>\n",
       "    </tr>\n",
       "  </tbody>\n",
       "</table>\n",
       "<p>13305 rows × 2 columns</p>\n",
       "</div>"
      ],
      "text/plain": [
       "                                    user_id  event\n",
       "0      0001f83c-c6ac-4621-b7f0-8a28b283ac30      7\n",
       "1      00151b4f-ba38-44a8-a650-d7cf130a0105      3\n",
       "2      001aaea6-3d14-43f1-8ca8-7f48820f17aa     -2\n",
       "3      001d39dc-366c-4021-9604-6a3b9ff01e25      2\n",
       "4      002f508f-67b6-479f-814b-b05f00d4e995      6\n",
       "...                                     ...    ...\n",
       "13300  ffef4fed-164c-40e1-bde1-3980f76d0fb5      3\n",
       "13301  fffab3da-da0e-4e30-ae62-10d0a2e24a4e     10\n",
       "13302  fffb626c-5ab6-47c9-8113-2062a2f18494      3\n",
       "13303  ffff194a-56b7-4c12-860d-3485242ae7f5      1\n",
       "13304  ffff69cc-fec1-4fd3-9f98-93be1112a6b8      6\n",
       "\n",
       "[13305 rows x 2 columns]"
      ]
     },
     "execution_count": 71,
     "metadata": {},
     "output_type": "execute_result"
    }
   ],
   "source": [
    "\n",
    "amount_of_buildings_after_engagement = (\n",
    "    users_for_marketing_calculations\n",
    "    .query('event == \"building\"')\n",
    "    .groupby('user_id')['event'].count()\n",
    "    .apply(lambda x: x-6)\n",
    "    .reset_index()\n",
    ")\n",
    "amount_of_buildings_after_engagement"
   ]
  },
  {
   "cell_type": "markdown",
   "metadata": {},
   "source": [
    "<b>Прирaвняем к 0 все отрицательные числа:"
   ]
  },
  {
   "cell_type": "code",
   "execution_count": 72,
   "metadata": {},
   "outputs": [],
   "source": [
    "def negative(row):\n",
    "    amount = row['event']\n",
    "    if amount < 0:\n",
    "        return 0\n",
    "    else:\n",
    "        return amount\n",
    "    "
   ]
  },
  {
   "cell_type": "code",
   "execution_count": 73,
   "metadata": {},
   "outputs": [],
   "source": [
    "amount_of_buildings_after_engagement['event'] = amount_of_buildings_after_engagement.apply(negative, axis = 1)\n",
    "number_of_views_after_engagement = amount_of_buildings_after_engagement['event'].sum()"
   ]
  },
  {
   "cell_type": "markdown",
   "metadata": {},
   "source": [
    "<b>Вычислим минимальный cpm в  новых уловиях:"
   ]
  },
  {
   "cell_type": "code",
   "execution_count": 74,
   "metadata": {},
   "outputs": [
    {
     "name": "stdout",
     "output_type": "stream",
     "text": [
      "Минимальный cpm должен составить  83.02 руб или  1.14 $\n"
     ]
    }
   ],
   "source": [
    "cpm_min_2 = costs_for_all_users/(number_of_views_after_engagement/1000)\n",
    "print('Минимальный cpm должен составить ',cpm_min_2.round(2), 'руб или ',round(cpm_min_2.round().astype('int')/rate.value , 2), '$')\n"
   ]
  },
  {
   "cell_type": "markdown",
   "metadata": {},
   "source": [
    "Очевидно, эта цифра нас также не устраивает."
   ]
  },
  {
   "cell_type": "markdown",
   "metadata": {},
   "source": [
    "<b>Посчитаем  разницу между затратами и доходами в случае, если cpm составит 0.21$"
   ]
  },
  {
   "cell_type": "code",
   "execution_count": 75,
   "metadata": {},
   "outputs": [
    {
     "name": "stdout",
     "output_type": "stream",
     "text": [
      "Разница между доходами и затратами в случае, если cpm составит 0.21$: -3501\n"
     ]
    }
   ],
   "source": [
    "revenue_banner_2 = round(((number_of_views_after_engagement * 0.21)/1000).round().astype('int')*rate.value)\n",
    "print('Разница между доходами и затратами в случае, если cpm составит 0.21$:', round(revenue_banner_2 - costs_for_all_users) )"
   ]
  },
  {
   "cell_type": "markdown",
   "metadata": {},
   "source": [
    "\n",
    "<div class=\"alert alert-block alert-success\">\n",
    "    \n",
    "\n",
    "### Комментарий от тимлида\n",
    "Сумма поменьше, но меньше и рисков - будет о чем поразмыслить продюссеру игры)\n",
    "</div>"
   ]
  },
  {
   "cell_type": "markdown",
   "metadata": {},
   "source": [
    "##### Вывод:\n",
    "Был посчитан показатель cpm, исходя из 2 разных сценариев.<br>\n",
    "1. Если показывать рекламу, начиная с 1 захода на страницу построек, то минимальный cpm должен быть установлен на уровне 0.47USD, что в 2 раза выше среднего.\n",
    "2. Сценарий, где мы начинаем показывать баннер с 7 постройки тем более не подходит, т.к. минимальная цена за 1000 показов больше средней в 5 раз (1.14 протов 0.21USD).<br>\n",
    "________________________\n",
    "Для того, чтобы покрыть маркетинговые расходы, необходимо  рассмотреть дополнительный источник заработка. В качестве такового предлагаю рассмотреть полноэкранную видеорекламу, появляющуюся при выходе из игры. Это гарантирует, что пользователь посмотрит рекламу каждый раз, как будет находиться в нашем приложении, в тоже время она не будет отвлекать его от игры.\n",
    "\n"
   ]
  },
  {
   "cell_type": "markdown",
   "metadata": {},
   "source": [
    "\n",
    "<div class=\"alert alert-block alert-success\">\n",
    "    \n",
    "\n",
    "### Комментарий от тимлида\n",
    "А еще будет удерживать в игре, лишь бы только ее не видеть )))))))\n",
    "</div>"
   ]
  },
  {
   "cell_type": "markdown",
   "metadata": {},
   "source": [
    "##### Расчет доходности полноэкранной видеорекламы на выходе из игры, учитывая 2 сценария"
   ]
  },
  {
   "cell_type": "markdown",
   "metadata": {},
   "source": [
    "<a id = 'Section4.3.1'></a>\n",
    "##### Сценарий 1 : \n",
    "Считаем, что рекламу начненм показывать при первом же выходе из игры, цену будем назначать также за показы "
   ]
  },
  {
   "cell_type": "markdown",
   "metadata": {},
   "source": [
    "<font color = 'purple'>Будем исходить из среднего cpm для Восточной Европы, который на платформе Андроид составляет 2.2$ по данным из сети."
   ]
  },
  {
   "cell_type": "markdown",
   "metadata": {},
   "source": [
    "<b>Расчитаем суммарное количество \"игровых\" дней инитересующих нас \n",
    "    пользователей"
   ]
  },
  {
   "cell_type": "code",
   "execution_count": 76,
   "metadata": {},
   "outputs": [],
   "source": [
    "amount_of_playing_days = profile_final.query('first_event_date < \"2020-05-10\"')['amount_of_playing_days'].sum()"
   ]
  },
  {
   "cell_type": "markdown",
   "metadata": {},
   "source": [
    "<b>Посчитаем доход от рекламы с учетом cpm = 2.2$"
   ]
  },
  {
   "cell_type": "code",
   "execution_count": 77,
   "metadata": {},
   "outputs": [
    {
     "name": "stdout",
     "output_type": "stream",
     "text": [
      "Доход от полноэкранной видеорекламы составит:  14982 руб\n"
     ]
    }
   ],
   "source": [
    "revenue_video_1 = round(((amount_of_playing_days/1000)*2.2).round().astype('int')*rate.value)\n",
    "print('Доход от полноэкранной видеорекламы составит: ', revenue_video_1,'руб')"
   ]
  },
  {
   "cell_type": "markdown",
   "metadata": {},
   "source": [
    "### Вывод:\n",
    "Видно, что при таком развитии событий мы покроем маркетинговые расходы и получим прибыль. "
   ]
  },
  {
   "cell_type": "markdown",
   "metadata": {},
   "source": [
    "<a id = 'Section4.3.2'></a>\n",
    "##### Сценарий 2 :\n",
    "Считаем, что рекламу начненм показывать при достижении пользователем порога вовлеченности при выходе из игры"
   ]
  },
  {
   "cell_type": "markdown",
   "metadata": {},
   "source": [
    "<b>Посчитаем количество игровых дней после достижения пользователями порога вовлеченности:"
   ]
  },
  {
   "cell_type": "code",
   "execution_count": 78,
   "metadata": {},
   "outputs": [],
   "source": [
    "users_for_mark_calc = profile.reset_index().query('first_event < \"2020-05-10\"')['user_id'].unique()\n"
   ]
  },
  {
   "cell_type": "code",
   "execution_count": 79,
   "metadata": {},
   "outputs": [],
   "source": [
    "playing_days_after_engagement = (\n",
    "    game_actions.query('user_id in @users_for_mark_calc ').groupby(['user_id','date'])['building_type'].count().to_frame(name = 'buildings_per_day')\n",
    ")\n",
    "playing_days_after_engagement\n",
    "playing_days_after_engagement['cumsum_buildings_per_day'] = playing_days_after_engagement.groupby('user_id')['buildings_per_day'].cumsum(axis = 0)\n",
    "amount_of_playing_days_2 = playing_days_after_engagement.query('cumsum_buildings_per_day > 6')['cumsum_buildings_per_day'].count()"
   ]
  },
  {
   "cell_type": "code",
   "execution_count": 80,
   "metadata": {},
   "outputs": [
    {
     "name": "stdout",
     "output_type": "stream",
     "text": [
      "Доход от полноэкранной видеорекламы составит:  6691 руб\n"
     ]
    }
   ],
   "source": [
    "revenue_video_2 = round(((amount_of_playing_days_2/1000)*2.2).round().astype('int')*rate.value)\n",
    "print('Доход от полноэкранной видеорекламы составит: ', revenue_video_2,'руб')"
   ]
  },
  {
   "cell_type": "markdown",
   "metadata": {},
   "source": [
    "###### Вывод:\n",
    "Сумма 6691 руб также полность покроет наши маркетинговые расходы"
   ]
  },
  {
   "cell_type": "markdown",
   "metadata": {},
   "source": [
    "\n",
    "<div class=\"alert alert-block alert-success\">\n",
    "    \n",
    "\n",
    "### Комментарий от тимлида\n",
    "Звучит как план. А еще можно добавить за ее просмотр какие-нибудь внутриигровые \"плюшки\"\n",
    "</div>"
   ]
  },
  {
   "cell_type": "markdown",
   "metadata": {},
   "source": [
    "<b>Создадим итоговую таблицу:"
   ]
  },
  {
   "cell_type": "code",
   "execution_count": 81,
   "metadata": {},
   "outputs": [
    {
     "data": {
      "text/html": [
       "<div>\n",
       "<style scoped>\n",
       "    .dataframe tbody tr th:only-of-type {\n",
       "        vertical-align: middle;\n",
       "    }\n",
       "\n",
       "    .dataframe tbody tr th {\n",
       "        vertical-align: top;\n",
       "    }\n",
       "\n",
       "    .dataframe thead th {\n",
       "        text-align: right;\n",
       "    }\n",
       "</style>\n",
       "<table border=\"1\" class=\"dataframe\">\n",
       "  <thead>\n",
       "    <tr style=\"text-align: right;\">\n",
       "      <th></th>\n",
       "      <th>options</th>\n",
       "      <th>costs</th>\n",
       "      <th>revenue</th>\n",
       "      <th>difference</th>\n",
       "    </tr>\n",
       "  </thead>\n",
       "  <tbody>\n",
       "    <tr>\n",
       "      <td>0</td>\n",
       "      <td>option_1</td>\n",
       "      <td>4301</td>\n",
       "      <td>1964</td>\n",
       "      <td>-2337</td>\n",
       "    </tr>\n",
       "    <tr>\n",
       "      <td>1</td>\n",
       "      <td>option_2</td>\n",
       "      <td>4301</td>\n",
       "      <td>800</td>\n",
       "      <td>-3501</td>\n",
       "    </tr>\n",
       "  </tbody>\n",
       "</table>\n",
       "</div>"
      ],
      "text/plain": [
       "    options  costs  revenue  difference\n",
       "0  option_1   4301     1964       -2337\n",
       "1  option_2   4301      800       -3501"
      ]
     },
     "execution_count": 81,
     "metadata": {},
     "output_type": "execute_result"
    }
   ],
   "source": [
    "\n",
    "data_banner = {'options':['option_1', 'option_2'], 'costs':[costs_for_all_users.round().astype('int'),costs_for_all_users.round().astype('int')], 'revenue':[revenue_banner_1,revenue_banner_2]}\n",
    "banner_table = pd.DataFrame(data_banner)\n",
    "banner_table['difference'] = (banner_table['revenue'] - banner_table['costs']).round()\n",
    "banner_table"
   ]
  },
  {
   "cell_type": "code",
   "execution_count": 82,
   "metadata": {},
   "outputs": [
    {
     "data": {
      "text/html": [
       "<div>\n",
       "<style scoped>\n",
       "    .dataframe tbody tr th:only-of-type {\n",
       "        vertical-align: middle;\n",
       "    }\n",
       "\n",
       "    .dataframe tbody tr th {\n",
       "        vertical-align: top;\n",
       "    }\n",
       "\n",
       "    .dataframe thead th {\n",
       "        text-align: right;\n",
       "    }\n",
       "</style>\n",
       "<table border=\"1\" class=\"dataframe\">\n",
       "  <thead>\n",
       "    <tr style=\"text-align: right;\">\n",
       "      <th></th>\n",
       "      <th>options</th>\n",
       "      <th>costs</th>\n",
       "      <th>revenue</th>\n",
       "      <th>difference</th>\n",
       "    </tr>\n",
       "  </thead>\n",
       "  <tbody>\n",
       "    <tr>\n",
       "      <td>0</td>\n",
       "      <td>option_1</td>\n",
       "      <td>4301</td>\n",
       "      <td>14982</td>\n",
       "      <td>10681</td>\n",
       "    </tr>\n",
       "    <tr>\n",
       "      <td>1</td>\n",
       "      <td>option_2</td>\n",
       "      <td>4301</td>\n",
       "      <td>6691</td>\n",
       "      <td>2390</td>\n",
       "    </tr>\n",
       "  </tbody>\n",
       "</table>\n",
       "</div>"
      ],
      "text/plain": [
       "    options  costs  revenue  difference\n",
       "0  option_1   4301    14982       10681\n",
       "1  option_2   4301     6691        2390"
      ]
     },
     "execution_count": 82,
     "metadata": {},
     "output_type": "execute_result"
    }
   ],
   "source": [
    "data_video = {'options':['option_1', 'option_2'], 'costs':[costs_for_all_users.round().astype('int'),costs_for_all_users.round().astype('int')], 'revenue':[revenue_video_1,revenue_video_2]}\n",
    "video_table = pd.DataFrame(data_video)\n",
    "video_table['difference'] = (video_table['revenue'] - video_table['costs']).round()\n",
    "video_table"
   ]
  },
  {
   "cell_type": "markdown",
   "metadata": {},
   "source": [
    "<b>Посчитаем доход и расход в случае размещения баннера по первому сценарию, а видеорекламы по второму:"
   ]
  },
  {
   "cell_type": "code",
   "execution_count": 83,
   "metadata": {},
   "outputs": [
    {
     "data": {
      "text/plain": [
       "4353.8748534960605"
      ]
     },
     "execution_count": 83,
     "metadata": {},
     "output_type": "execute_result"
    }
   ],
   "source": [
    "\n",
    "revenue_banner_1 + revenue_video_2 - costs_for_all_users"
   ]
  },
  {
   "cell_type": "markdown",
   "metadata": {},
   "source": [
    "##### Вывод:\n",
    "При выборе способа получения дохода от рекламы (cpm или cpc) я рукоодствовалась тем, что реклама в нашем приложении появится впервые и сложно сказать, как часто пользователи будут кликать на нее. Поэтому на первх порах я предлагаю использовать cpm, впоследствии анализируя поведение пользователей. Со временем возможно изменение предлагаемых способов оплаты размещения рекламы.\n",
    "______________________\n",
    "Для исследования были взяты средние цифры стоимости 1000 показов по Восточной Европе для платформы Анроид и составили:\n",
    "1. 0.21USD за баннер\n",
    "2. 2.2USD за видеорекламу<br>\n",
    "Конвертация в рубли производилась по курсу на 2020-05-04\n",
    "\n",
    "____________________\n",
    "В вышеприведенном исследовании мы получили несколько возможных сценариев развития событий. В первом случае, мы начинаем показывать рекламу при первомже заходе в приложение, во втором - при достижении пользователем порога вовлеченности, установленный в ходе исследовательского анализа: 6 построек.\n",
    "________________________________\n",
    "\n",
    "Реклама в виде баннера является одной из наименее доходных, зато и обладает наименее раздражающим действием на пользователя, т.к. не отвлекает от игрового процесса.<br>\n",
    "В первом и во втором случаях, эта реклама не покроет маркетинговые расходы на привлечение пользователей.\n",
    "Были получены следующие цифры:<br>\n",
    "                \n",
    "##### option_1:\n",
    "1. revenue 1964\n",
    "2. difference -2337\n",
    "                            \t  \n",
    "##### option_2\n",
    "1. revenue 800\n",
    "2. difference -3501        \n",
    "____________\n",
    "Видео реклама же является одной из самых доходных, но,основываясь на собственном опыте, можно сказать, что она отвлекает пользователя от нашего приложения и как крайнее проявление - отталкивает. Поэтому, мне кажется, разумно предложить пользователю видеорекламу при выходе из приложения. Это гарантирует, что каждый пользователь посмотрит ее хотя бы 1 раз в игровой день. Так она не отвлечет его от игры и пользователь с большей вероятностью готов ее воспринимать. Также, на мой взгляд, увеличиватеся вероятность того, что пользователь кликнет по этой рекламе тогда, когда он закончил игру.<br>\n",
    "В обоих сценариях, используя видеорекламу, мы заработаем больше чем потратили:\n",
    "##### option_1:\n",
    "1. revenue 14982\n",
    "2. difference 10681\n",
    "                            \t  \n",
    "##### option_2\n",
    "1. revenue \t6691\n",
    "2. difference 2390\n",
    "\n"
   ]
  },
  {
   "cell_type": "markdown",
   "metadata": {},
   "source": [
    "<a id = 'Section5'></a>\n",
    "### Общий вывод и рекомендации:"
   ]
  },
  {
   "cell_type": "markdown",
   "metadata": {},
   "source": [
    "Целью данного исследования была разработка рекомендаций по монетизации приложения.<br>\n",
    "Для этого было проанализировано поведение пользователей в некоторых аспектах и расчитаны выручки от рекламы по нескольким путям развития событий.<br>\n",
    "______________\n",
    "##### Результаты исследовательского анализа\n",
    "Был составлен профиль каждого пользователя, описывающий характер его взаимодействия с игровым приложением. В частности, было определено закончил пользователь уровень или нет, и если закончил, то каким образом - посредствам реализации проекта, либо победой над другим игроком. По данному признаку пользователи были разделены на 3 группы. Далее они будут упоминаться, как \"project\", \"without project\",\"level isn't complited\". Была изучена разница между ними по следующим параметрам:\n",
    "1. Время, затраченное на прохождение уровня для пользователей разных групп\n",
    "Было показано, что пользователи группы \"projеect\" затрачивают больше времени на прохождениуровня, чем пользователи группы \"without project\". Этот факт был подтвержден проверкой соответствующей гипотезы, различия меду группами можно считать статистически значимыми.<br>\n",
    "________\n",
    "<b>Средние значения времени прохождения уровня:</b><br>\n",
    "    * without project - 15942 мин\n",
    "    * project - 19345 мин\n",
    "\n",
    "2. Количество построек для пользователей разных групп. \n",
    "Было показано, что количество построек также больше у пользователей группы \"project\", чем у группы \"without project\". В результате проверки гипотезы о равенсте количества построек, она была отвергнута. Выявлены статистически значимые различия между группами.<br>\n",
    "______________\n",
    "<b>Средние значения количества построек:</b><br>\n",
    "    * without project - 9,4\n",
    "    * project - 12,6\n",
    "    * level is not complited - 8,7<br>\n",
    "В группе \"level is not complited\" наиболее часто пользователи заканчивают играть после строительства 6 постройки. В связи с этим было решено считать пользователя вовлеченным в игру, если он построил более 6 зданий.\n",
    "\n",
    "3. Количество действий в день, совершаемое пользователями разных групп\n",
    "Среднее количество действий в день пользователей группы \"project\" немного больше, чем у пользователей группы \"without project\"\n",
    "_____________\n",
    "<b>Средние значения количества действий в день:</b><br>\n",
    "    * without project - 1.45\n",
    "    * project - 1.55\n",
    "\n",
    "Также в данном исследовании был дан ответ на вопрос о том, как много игроков перестают пользоваться приложением до того, как закончат 1 уровень. Учитывая среднюю частоту пользования приложением 1 раз в 2-3 дня, был установлен порог в 7 дней до конца периода, за который присутствуют данные. Если пользовательне появлялся в приложении дольше этого времени, то считаем его потерянным. Доля таких пользователей составила 56%. Эти данные могут пригодиться для сравнения с ситуацией после запуска рекламы.\n",
    "\n",
    "##### Рекомедации по модели монетизации\n",
    "Для разработки модели монетизации были рассмотрены 2 вида рекламы:\n",
    "* Баннер на странице построек\n",
    "* Полноэкранная видео реклама в момент выхода из игры<br>\n",
    "\n",
    "_________\n",
    "A также расчитаны доходы от рекламы при развитии событий по 2 путям:\n",
    "* Начинаем показывать рекламу сразу (далее option_1 )\n",
    "* Начинаем показывать рекламу пользователям, достигшим порга вовлеченности(далее option_2 )\n",
    "____\n",
    "Были получены следующие величины:<br>\n",
    "_____\n",
    "<b>В случае баннера:</b><br>\n",
    "##### option_1:\n",
    "1. revenue 1964\n",
    "2. difference -2337\n",
    "##### option_2\n",
    "1. revenue 800\n",
    "2. difference -3501<br>\n",
    "_____\n",
    "<b>В случае видеорекламы:</b><br>\n",
    "##### option_1:\n",
    "1. revenue 14982\n",
    "2. difference 10681\n",
    "                            \t  \n",
    "##### option_2\n",
    "1. revenue \t6691\n",
    "2. difference 2390\n",
    "____\n",
    "\n",
    "Баннер является наименее доходной рекламой, но отвергать его не стоит, поскольку врядли он оттолкнет наших пользователей, т.к. не мешает игре, поэтому я бы предложила поместить баннер на страницу построек с первого же дня пользования приложением.<br>\n",
    "Видеореклама же является гораздо более доходной, но может негативно повлиять на восприятие игры. Поэтому я рекомендую разместить ее на выходе из игры. Так мы гарантируем, что каждый пользователь ее посмотрит и она реклама его не отвлечет от игры. Поскольку такой вид рекламы гораздо сильнее влияет на пользователя, я думаю, ее стоит показывать только тем пользователям, которые уже вовлечены в игру.\n",
    "___________\n",
    "\n",
    "Таким образом, окончательные цифры выглядят следующим образом:<br>\n",
    "При расходах 4301р, наши доходы от баннера составят 1964, а от видеорекламы 6691. Разница составит 4353 в нашу пользу)"
   ]
  },
  {
   "cell_type": "markdown",
   "metadata": {},
   "source": [
    "\n",
    "<div class=\"alert alert-block alert-warning\">\n",
    "    \n",
    "\n",
    "### Комментарий от тимлида\n",
    "Спасибо большое за твою работу! Видно, что она выполнена с душой) И сделана очень круто! Ты предложила несколько моделей монетизации, все рассчитала и дала просто шикарные рекомендации. \n",
    "И я бы зачла эту работу с первого раза, но у меня было несколько некритичных замечаний) К сожалению, часть из них касается презентации, которую мы планируем показать менеджеру - в ней очень непонятная последняя табличка)\n",
    "И молю, переведи минуты в дни, **особенно** в презентации) \n",
    "\n",
    "С нетерпением жду доработки!\n",
    "\n",
    "</div>"
   ]
  },
  {
   "cell_type": "code",
   "execution_count": null,
   "metadata": {},
   "outputs": [],
   "source": []
  }
 ],
 "metadata": {
  "kernelspec": {
   "display_name": "Python 3",
   "language": "python",
   "name": "python3"
  },
  "language_info": {
   "codemirror_mode": {
    "name": "ipython",
    "version": 3
   },
   "file_extension": ".py",
   "mimetype": "text/x-python",
   "name": "python",
   "nbconvert_exporter": "python",
   "pygments_lexer": "ipython3",
   "version": "3.7.8"
  },
  "toc": {
   "base_numbering": 1,
   "nav_menu": {},
   "number_sections": true,
   "sideBar": true,
   "skip_h1_title": false,
   "title_cell": "Table of Contents",
   "title_sidebar": "Contents",
   "toc_cell": false,
   "toc_position": {},
   "toc_section_display": true,
   "toc_window_display": false
  }
 },
 "nbformat": 4,
 "nbformat_minor": 4
}
